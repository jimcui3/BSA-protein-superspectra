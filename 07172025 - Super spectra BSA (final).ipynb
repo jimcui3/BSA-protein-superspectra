{
 "cells": [
  {
   "cell_type": "code",
   "execution_count": 1,
   "id": "53b9ba09",
   "metadata": {},
   "outputs": [],
   "source": [
    "import os\n",
    "import linecache\n",
    "\n",
    "import random\n",
    "import math\n",
    "import copy\n",
    "import sys\n",
    "import time\n",
    "\n",
    "import pandas as pd\n",
    "import numpy as np\n",
    "import matplotlib.pyplot as plt\n",
    "import seaborn as sns\n",
    "import plotly.express as px\n",
    "from tqdm import tqdm\n",
    "from tqdm import trange\n",
    "\n",
    "from itertools import chain, cycle, combinations\n",
    "\n",
    "from sklearn.decomposition import PCA\n",
    "from sklearn.manifold import TSNE\n",
    "from sklearn.ensemble import RandomForestClassifier, RandomForestRegressor\n",
    "from sklearn.neighbors import KNeighborsClassifier\n",
    "from sklearn.discriminant_analysis import LinearDiscriminantAnalysis\n",
    "from sklearn.cross_decomposition import PLSRegression\n",
    "from sklearn.linear_model import RidgeClassifier, LogisticRegression\n",
    "from sklearn import svm\n",
    "from sklearn.metrics import accuracy_score, confusion_matrix, precision_score, recall_score, f1_score, roc_curve, auc, mean_absolute_error, mean_squared_error, r2_score\n",
    "from sklearn.model_selection import StratifiedShuffleSplit, cross_val_score, train_test_split\n",
    "from sklearn.preprocessing import label_binarize, StandardScaler, OrdinalEncoder, LabelEncoder, OneHotEncoder\n",
    "from joblib import parallel_backend"
   ]
  },
  {
   "cell_type": "markdown",
   "id": "77b8aa7f",
   "metadata": {},
   "source": [
    "## Step 1: get 1x1 dataset"
   ]
  },
  {
   "cell_type": "code",
   "execution_count": 2,
   "id": "17e12577",
   "metadata": {},
   "outputs": [
    {
     "name": "stderr",
     "output_type": "stream",
     "text": [
      "C:\\Users\\zhao-\\AppData\\Local\\Temp\\ipykernel_72072\\168126270.py:2: DtypeWarning: Columns (1401,1402,1403) have mixed types. Specify dtype option on import or set low_memory=False.\n",
      "  df = pd.read_csv(WORKING_PATH + r'\\BSA-thiol_dataset_corrected.csv')\n"
     ]
    },
    {
     "data": {
      "text/html": [
       "<div>\n",
       "<style scoped>\n",
       "    .dataframe tbody tr th:only-of-type {\n",
       "        vertical-align: middle;\n",
       "    }\n",
       "\n",
       "    .dataframe tbody tr th {\n",
       "        vertical-align: top;\n",
       "    }\n",
       "\n",
       "    .dataframe thead th {\n",
       "        text-align: right;\n",
       "    }\n",
       "</style>\n",
       "<table border=\"1\" class=\"dataframe\">\n",
       "  <thead>\n",
       "    <tr style=\"text-align: right;\">\n",
       "      <th></th>\n",
       "      <th>401</th>\n",
       "      <th>402</th>\n",
       "      <th>403</th>\n",
       "      <th>404</th>\n",
       "      <th>405</th>\n",
       "      <th>406</th>\n",
       "      <th>407</th>\n",
       "      <th>408</th>\n",
       "      <th>409</th>\n",
       "      <th>410</th>\n",
       "      <th>...</th>\n",
       "      <th>1795</th>\n",
       "      <th>1796</th>\n",
       "      <th>1797</th>\n",
       "      <th>1798</th>\n",
       "      <th>1799</th>\n",
       "      <th>label</th>\n",
       "      <th>conc</th>\n",
       "      <th>batch</th>\n",
       "      <th>original_filename</th>\n",
       "      <th>spectrum_id</th>\n",
       "    </tr>\n",
       "  </thead>\n",
       "  <tbody>\n",
       "    <tr>\n",
       "      <th>0</th>\n",
       "      <td>0.070472</td>\n",
       "      <td>0.019269</td>\n",
       "      <td>0.049263</td>\n",
       "      <td>0.061706</td>\n",
       "      <td>0.092834</td>\n",
       "      <td>0.047193</td>\n",
       "      <td>0.043878</td>\n",
       "      <td>0.064576</td>\n",
       "      <td>0.047192</td>\n",
       "      <td>0.045215</td>\n",
       "      <td>...</td>\n",
       "      <td>0.576888</td>\n",
       "      <td>0.530230</td>\n",
       "      <td>0.537368</td>\n",
       "      <td>0.515348</td>\n",
       "      <td>0.554981</td>\n",
       "      <td>Cysteamine-BSA</td>\n",
       "      <td>0.0</td>\n",
       "      <td>NaN</td>\n",
       "      <td>NaN</td>\n",
       "      <td>NaN</td>\n",
       "    </tr>\n",
       "    <tr>\n",
       "      <th>1</th>\n",
       "      <td>0.052520</td>\n",
       "      <td>0.015020</td>\n",
       "      <td>0.073222</td>\n",
       "      <td>0.129306</td>\n",
       "      <td>0.074067</td>\n",
       "      <td>0.051379</td>\n",
       "      <td>0.087747</td>\n",
       "      <td>0.126177</td>\n",
       "      <td>0.070515</td>\n",
       "      <td>0.067214</td>\n",
       "      <td>...</td>\n",
       "      <td>0.721957</td>\n",
       "      <td>0.759064</td>\n",
       "      <td>0.741285</td>\n",
       "      <td>0.725900</td>\n",
       "      <td>0.732966</td>\n",
       "      <td>Cysteamine-BSA</td>\n",
       "      <td>0.0</td>\n",
       "      <td>NaN</td>\n",
       "      <td>NaN</td>\n",
       "      <td>NaN</td>\n",
       "    </tr>\n",
       "    <tr>\n",
       "      <th>2</th>\n",
       "      <td>0.058144</td>\n",
       "      <td>0.061932</td>\n",
       "      <td>0.067105</td>\n",
       "      <td>0.079980</td>\n",
       "      <td>0.103823</td>\n",
       "      <td>0.079320</td>\n",
       "      <td>0.041960</td>\n",
       "      <td>0.079235</td>\n",
       "      <td>0.040840</td>\n",
       "      <td>0.004985</td>\n",
       "      <td>...</td>\n",
       "      <td>0.682711</td>\n",
       "      <td>0.688279</td>\n",
       "      <td>0.659778</td>\n",
       "      <td>0.666903</td>\n",
       "      <td>0.655693</td>\n",
       "      <td>Cysteamine-BSA</td>\n",
       "      <td>0.0</td>\n",
       "      <td>NaN</td>\n",
       "      <td>NaN</td>\n",
       "      <td>NaN</td>\n",
       "    </tr>\n",
       "    <tr>\n",
       "      <th>3</th>\n",
       "      <td>0.041245</td>\n",
       "      <td>0.078781</td>\n",
       "      <td>0.064747</td>\n",
       "      <td>0.100347</td>\n",
       "      <td>0.141697</td>\n",
       "      <td>0.052391</td>\n",
       "      <td>0.059124</td>\n",
       "      <td>0.002798</td>\n",
       "      <td>0.032093</td>\n",
       "      <td>0.088595</td>\n",
       "      <td>...</td>\n",
       "      <td>0.550651</td>\n",
       "      <td>0.579228</td>\n",
       "      <td>0.591954</td>\n",
       "      <td>0.533540</td>\n",
       "      <td>0.564195</td>\n",
       "      <td>Cysteamine-BSA</td>\n",
       "      <td>0.0</td>\n",
       "      <td>NaN</td>\n",
       "      <td>NaN</td>\n",
       "      <td>NaN</td>\n",
       "    </tr>\n",
       "    <tr>\n",
       "      <th>4</th>\n",
       "      <td>0.044159</td>\n",
       "      <td>0.025640</td>\n",
       "      <td>0.080267</td>\n",
       "      <td>0.119340</td>\n",
       "      <td>0.137719</td>\n",
       "      <td>0.097517</td>\n",
       "      <td>0.151911</td>\n",
       "      <td>0.150072</td>\n",
       "      <td>0.083216</td>\n",
       "      <td>0.125389</td>\n",
       "      <td>...</td>\n",
       "      <td>0.646457</td>\n",
       "      <td>0.653475</td>\n",
       "      <td>0.597139</td>\n",
       "      <td>0.597022</td>\n",
       "      <td>0.600918</td>\n",
       "      <td>Cysteamine-BSA</td>\n",
       "      <td>0.0</td>\n",
       "      <td>NaN</td>\n",
       "      <td>NaN</td>\n",
       "      <td>NaN</td>\n",
       "    </tr>\n",
       "    <tr>\n",
       "      <th>...</th>\n",
       "      <td>...</td>\n",
       "      <td>...</td>\n",
       "      <td>...</td>\n",
       "      <td>...</td>\n",
       "      <td>...</td>\n",
       "      <td>...</td>\n",
       "      <td>...</td>\n",
       "      <td>...</td>\n",
       "      <td>...</td>\n",
       "      <td>...</td>\n",
       "      <td>...</td>\n",
       "      <td>...</td>\n",
       "      <td>...</td>\n",
       "      <td>...</td>\n",
       "      <td>...</td>\n",
       "      <td>...</td>\n",
       "      <td>...</td>\n",
       "      <td>...</td>\n",
       "      <td>...</td>\n",
       "      <td>...</td>\n",
       "      <td>...</td>\n",
       "    </tr>\n",
       "    <tr>\n",
       "      <th>1489</th>\n",
       "      <td>0.295345</td>\n",
       "      <td>0.458984</td>\n",
       "      <td>0.336862</td>\n",
       "      <td>0.368042</td>\n",
       "      <td>0.370117</td>\n",
       "      <td>0.278304</td>\n",
       "      <td>0.328628</td>\n",
       "      <td>0.192342</td>\n",
       "      <td>0.201891</td>\n",
       "      <td>0.291367</td>\n",
       "      <td>...</td>\n",
       "      <td>0.860684</td>\n",
       "      <td>1.088699</td>\n",
       "      <td>0.905192</td>\n",
       "      <td>0.788690</td>\n",
       "      <td>0.743406</td>\n",
       "      <td>Bare-BSA</td>\n",
       "      <td>0.0</td>\n",
       "      <td>blank</td>\n",
       "      <td>blank.csv-Corrected-Normalized_by_Mean.csv</td>\n",
       "      <td>blank_56</td>\n",
       "    </tr>\n",
       "    <tr>\n",
       "      <th>1490</th>\n",
       "      <td>0.039019</td>\n",
       "      <td>0.012957</td>\n",
       "      <td>0.080528</td>\n",
       "      <td>0.208564</td>\n",
       "      <td>0.243892</td>\n",
       "      <td>0.091088</td>\n",
       "      <td>0.076445</td>\n",
       "      <td>0.177045</td>\n",
       "      <td>0.339447</td>\n",
       "      <td>0.376123</td>\n",
       "      <td>...</td>\n",
       "      <td>1.068873</td>\n",
       "      <td>0.373567</td>\n",
       "      <td>1.000725</td>\n",
       "      <td>0.902617</td>\n",
       "      <td>0.594679</td>\n",
       "      <td>Bare-BSA</td>\n",
       "      <td>0.0</td>\n",
       "      <td>blank</td>\n",
       "      <td>blank.csv-Corrected-Normalized_by_Mean.csv</td>\n",
       "      <td>blank_57</td>\n",
       "    </tr>\n",
       "    <tr>\n",
       "      <th>1491</th>\n",
       "      <td>0.421393</td>\n",
       "      <td>0.543113</td>\n",
       "      <td>0.370042</td>\n",
       "      <td>0.364926</td>\n",
       "      <td>0.254257</td>\n",
       "      <td>0.251780</td>\n",
       "      <td>0.498346</td>\n",
       "      <td>0.613888</td>\n",
       "      <td>0.519034</td>\n",
       "      <td>0.187689</td>\n",
       "      <td>...</td>\n",
       "      <td>0.971034</td>\n",
       "      <td>1.093031</td>\n",
       "      <td>0.890048</td>\n",
       "      <td>0.900299</td>\n",
       "      <td>0.867759</td>\n",
       "      <td>Bare-BSA</td>\n",
       "      <td>0.0</td>\n",
       "      <td>blank</td>\n",
       "      <td>blank.csv-Corrected-Normalized_by_Mean.csv</td>\n",
       "      <td>blank_58</td>\n",
       "    </tr>\n",
       "    <tr>\n",
       "      <th>1492</th>\n",
       "      <td>0.297975</td>\n",
       "      <td>0.191096</td>\n",
       "      <td>0.285573</td>\n",
       "      <td>0.328852</td>\n",
       "      <td>0.507006</td>\n",
       "      <td>0.384780</td>\n",
       "      <td>0.196296</td>\n",
       "      <td>0.159697</td>\n",
       "      <td>0.270925</td>\n",
       "      <td>0.279471</td>\n",
       "      <td>...</td>\n",
       "      <td>0.881148</td>\n",
       "      <td>1.126206</td>\n",
       "      <td>1.056573</td>\n",
       "      <td>0.852025</td>\n",
       "      <td>1.067942</td>\n",
       "      <td>Bare-BSA</td>\n",
       "      <td>0.0</td>\n",
       "      <td>blank</td>\n",
       "      <td>blank.csv-Corrected-Normalized_by_Mean.csv</td>\n",
       "      <td>blank_59</td>\n",
       "    </tr>\n",
       "    <tr>\n",
       "      <th>1493</th>\n",
       "      <td>0.000000</td>\n",
       "      <td>0.190064</td>\n",
       "      <td>0.139332</td>\n",
       "      <td>0.346872</td>\n",
       "      <td>0.360617</td>\n",
       "      <td>0.320323</td>\n",
       "      <td>0.179841</td>\n",
       "      <td>0.393699</td>\n",
       "      <td>0.465344</td>\n",
       "      <td>0.384911</td>\n",
       "      <td>...</td>\n",
       "      <td>0.987103</td>\n",
       "      <td>0.501173</td>\n",
       "      <td>1.034698</td>\n",
       "      <td>0.621383</td>\n",
       "      <td>0.829638</td>\n",
       "      <td>Bare-BSA</td>\n",
       "      <td>0.0</td>\n",
       "      <td>blank</td>\n",
       "      <td>blank.csv-Corrected-Normalized_by_Mean.csv</td>\n",
       "      <td>blank_60</td>\n",
       "    </tr>\n",
       "  </tbody>\n",
       "</table>\n",
       "<p>1494 rows × 1404 columns</p>\n",
       "</div>"
      ],
      "text/plain": [
       "           401       402       403       404       405       406       407  \\\n",
       "0     0.070472  0.019269  0.049263  0.061706  0.092834  0.047193  0.043878   \n",
       "1     0.052520  0.015020  0.073222  0.129306  0.074067  0.051379  0.087747   \n",
       "2     0.058144  0.061932  0.067105  0.079980  0.103823  0.079320  0.041960   \n",
       "3     0.041245  0.078781  0.064747  0.100347  0.141697  0.052391  0.059124   \n",
       "4     0.044159  0.025640  0.080267  0.119340  0.137719  0.097517  0.151911   \n",
       "...        ...       ...       ...       ...       ...       ...       ...   \n",
       "1489  0.295345  0.458984  0.336862  0.368042  0.370117  0.278304  0.328628   \n",
       "1490  0.039019  0.012957  0.080528  0.208564  0.243892  0.091088  0.076445   \n",
       "1491  0.421393  0.543113  0.370042  0.364926  0.254257  0.251780  0.498346   \n",
       "1492  0.297975  0.191096  0.285573  0.328852  0.507006  0.384780  0.196296   \n",
       "1493  0.000000  0.190064  0.139332  0.346872  0.360617  0.320323  0.179841   \n",
       "\n",
       "           408       409       410  ...      1795      1796      1797  \\\n",
       "0     0.064576  0.047192  0.045215  ...  0.576888  0.530230  0.537368   \n",
       "1     0.126177  0.070515  0.067214  ...  0.721957  0.759064  0.741285   \n",
       "2     0.079235  0.040840  0.004985  ...  0.682711  0.688279  0.659778   \n",
       "3     0.002798  0.032093  0.088595  ...  0.550651  0.579228  0.591954   \n",
       "4     0.150072  0.083216  0.125389  ...  0.646457  0.653475  0.597139   \n",
       "...        ...       ...       ...  ...       ...       ...       ...   \n",
       "1489  0.192342  0.201891  0.291367  ...  0.860684  1.088699  0.905192   \n",
       "1490  0.177045  0.339447  0.376123  ...  1.068873  0.373567  1.000725   \n",
       "1491  0.613888  0.519034  0.187689  ...  0.971034  1.093031  0.890048   \n",
       "1492  0.159697  0.270925  0.279471  ...  0.881148  1.126206  1.056573   \n",
       "1493  0.393699  0.465344  0.384911  ...  0.987103  0.501173  1.034698   \n",
       "\n",
       "          1798      1799           label  conc  batch  \\\n",
       "0     0.515348  0.554981  Cysteamine-BSA   0.0    NaN   \n",
       "1     0.725900  0.732966  Cysteamine-BSA   0.0    NaN   \n",
       "2     0.666903  0.655693  Cysteamine-BSA   0.0    NaN   \n",
       "3     0.533540  0.564195  Cysteamine-BSA   0.0    NaN   \n",
       "4     0.597022  0.600918  Cysteamine-BSA   0.0    NaN   \n",
       "...        ...       ...             ...   ...    ...   \n",
       "1489  0.788690  0.743406        Bare-BSA   0.0  blank   \n",
       "1490  0.902617  0.594679        Bare-BSA   0.0  blank   \n",
       "1491  0.900299  0.867759        Bare-BSA   0.0  blank   \n",
       "1492  0.852025  1.067942        Bare-BSA   0.0  blank   \n",
       "1493  0.621383  0.829638        Bare-BSA   0.0  blank   \n",
       "\n",
       "                               original_filename  spectrum_id  \n",
       "0                                            NaN          NaN  \n",
       "1                                            NaN          NaN  \n",
       "2                                            NaN          NaN  \n",
       "3                                            NaN          NaN  \n",
       "4                                            NaN          NaN  \n",
       "...                                          ...          ...  \n",
       "1489  blank.csv-Corrected-Normalized_by_Mean.csv     blank_56  \n",
       "1490  blank.csv-Corrected-Normalized_by_Mean.csv     blank_57  \n",
       "1491  blank.csv-Corrected-Normalized_by_Mean.csv     blank_58  \n",
       "1492  blank.csv-Corrected-Normalized_by_Mean.csv     blank_59  \n",
       "1493  blank.csv-Corrected-Normalized_by_Mean.csv     blank_60  \n",
       "\n",
       "[1494 rows x 1404 columns]"
      ]
     },
     "execution_count": 2,
     "metadata": {},
     "output_type": "execute_result"
    }
   ],
   "source": [
    "WORKING_PATH = r\"C:\\Users\\zhao-\\Jiaheng\\BSA protein\\data\"\n",
    "df = pd.read_csv(WORKING_PATH + r'\\BSA-thiol_dataset_corrected.csv')\n",
    "df"
   ]
  },
  {
   "cell_type": "markdown",
   "id": "8c9dc83e",
   "metadata": {},
   "source": [
    "#### Read the whole dataset.\n",
    "We assume the dataset is **one csv file** containing all the spectra.\n",
    "\n",
    "This csv file must satisfy:\n",
    "1. Every row is a spectrum.\n",
    "2. Every column except for the last two represents a wavenumber.\n",
    "3. The header of the last two columns are ```Label``` (virus type) and ```Conc``` (concentration).\n",
    "\n",
    "If you have multiple txt files or csv files, please use corresponding code **(to be done)** to process it first.\n",
    "\n",
    "Please remember to change the path in ```r' '```, and the path should begin with ```\\```."
   ]
  },
  {
   "cell_type": "code",
   "execution_count": null,
   "id": "1ba294ac",
   "metadata": {},
   "outputs": [],
   "source": [
    "wavenumbers = np.array([int(x) for x in df.columns.tolist()[:-2]])\n",
    "wavenumbers"
   ]
  },
  {
   "cell_type": "code",
   "execution_count": null,
   "id": "4c138115",
   "metadata": {},
   "outputs": [],
   "source": [
    "labels = np.unique(df['label'])\n",
    "labels"
   ]
  },
  {
   "cell_type": "markdown",
   "id": "6da029ed",
   "metadata": {},
   "source": [
    "### Dataset split"
   ]
  },
  {
   "cell_type": "code",
   "execution_count": 5,
   "id": "38ea9857",
   "metadata": {},
   "outputs": [],
   "source": [
    "# set the number of total iterations (groups)\n",
    "iteration_number = 10\n",
    "START = 1 # Included\n",
    "\n",
    "# Adjust the proportions of test set (default = 1/3).\n",
    "proportion_test = 1/3"
   ]
  },
  {
   "cell_type": "code",
   "execution_count": 7,
   "id": "c9d05f8f",
   "metadata": {},
   "outputs": [],
   "source": [
    "for i in range(START, iteration_number+START):\n",
    "    # split (train & val) and test.\n",
    "    train = df.groupby(['label','conc'], group_keys=False).apply(lambda x: x.sample(frac=1-proportion_test))\n",
    "    test = df.loc[df.index.difference(train.index)]\n",
    "    # train.shape, test.shape\n",
    "    \n",
    "    # create subfolder if not exists\n",
    "    subfolder_path = os.path.join(WORKING_PATH, f\"BSAML101_test_train_dataset\", f\"train_test_set{i}\")\n",
    "    os.makedirs(subfolder_path, exist_ok=True)\n",
    "\n",
    "    # save train & test to csv\n",
    "    train.to_csv(os.path.join(subfolder_path, f\"train_dataset{i}.csv\"), index=False)\n",
    "    test.to_csv(os.path.join(subfolder_path, f\"test_dataset{i}.csv\"), index=False)"
   ]
  },
  {
   "cell_type": "markdown",
   "id": "9208fbbb",
   "metadata": {},
   "source": [
    "### Save the train and test to 4 files for 4 substrates"
   ]
  },
  {
   "cell_type": "code",
   "execution_count": 8,
   "id": "9c0e4c67",
   "metadata": {},
   "outputs": [
    {
     "name": "stdout",
     "output_type": "stream",
     "text": [
      "The 1-th TRAINING CSV files have been created for each label and saved in the 'train_split' directory.\n",
      "The 1-th TESTING CSV files have been created for each label and saved in the 'test_split' directory.\n",
      "The 2-th TRAINING CSV files have been created for each label and saved in the 'train_split' directory.\n",
      "The 2-th TESTING CSV files have been created for each label and saved in the 'test_split' directory.\n",
      "The 3-th TRAINING CSV files have been created for each label and saved in the 'train_split' directory.\n",
      "The 3-th TESTING CSV files have been created for each label and saved in the 'test_split' directory.\n",
      "The 4-th TRAINING CSV files have been created for each label and saved in the 'train_split' directory.\n",
      "The 4-th TESTING CSV files have been created for each label and saved in the 'test_split' directory.\n",
      "The 5-th TRAINING CSV files have been created for each label and saved in the 'train_split' directory.\n",
      "The 5-th TESTING CSV files have been created for each label and saved in the 'test_split' directory.\n",
      "The 6-th TRAINING CSV files have been created for each label and saved in the 'train_split' directory.\n",
      "The 6-th TESTING CSV files have been created for each label and saved in the 'test_split' directory.\n",
      "The 7-th TRAINING CSV files have been created for each label and saved in the 'train_split' directory.\n",
      "The 7-th TESTING CSV files have been created for each label and saved in the 'test_split' directory.\n",
      "The 8-th TRAINING CSV files have been created for each label and saved in the 'train_split' directory.\n",
      "The 8-th TESTING CSV files have been created for each label and saved in the 'test_split' directory.\n",
      "The 9-th TRAINING CSV files have been created for each label and saved in the 'train_split' directory.\n",
      "The 9-th TESTING CSV files have been created for each label and saved in the 'test_split' directory.\n",
      "The 10-th TRAINING CSV files have been created for each label and saved in the 'train_split' directory.\n",
      "The 10-th TESTING CSV files have been created for each label and saved in the 'test_split' directory.\n"
     ]
    }
   ],
   "source": [
    "for i in range(START, iteration_number+START):\n",
    "    # train\n",
    "    original_file_path = f\"{WORKING_PATH}\\\\BSAML101_test_train_dataset\\\\train_test_set{i}\\\\train_dataset{i}.csv\"\n",
    "\n",
    "    df = pd.read_csv(original_file_path)\n",
    "\n",
    "    # Get the name of the second to last column\n",
    "    label_column = df.columns[-2]\n",
    "\n",
    "    # Determine the path of the original file\n",
    "    directory = os.path.dirname(original_file_path)\n",
    "\n",
    "    # Create a new folder named 'split' in the same directory as the original file\n",
    "    split_folder = os.path.join(directory, 'train_split')\n",
    "    os.makedirs(split_folder, exist_ok=True)\n",
    "\n",
    "    # Group the data by the label column\n",
    "    grouped = df.groupby(label_column)\n",
    "\n",
    "    # Iterate over each group and save to a separate CSV file in the 'split' folder\n",
    "    for label, group in grouped:\n",
    "        # Create a valid file name by replacing invalid characters\n",
    "        label_name = str(label).replace('/', '_').replace('\\\\', '_')\n",
    "\n",
    "        # Define the new file path\n",
    "        new_file_path = os.path.join(split_folder, f'{label_name}.csv')\n",
    "\n",
    "        # Save the group to a CSV file\n",
    "        group.to_csv(new_file_path, index=False)\n",
    "\n",
    "    print(f\"The {i}-th TRAINING CSV files have been created for each label and saved in the 'train_split' directory.\")\n",
    "    \n",
    "    \n",
    "    # test\n",
    "    original_file_path = f\"{WORKING_PATH}\\\\BSAML101_test_train_dataset\\\\train_test_set{i}\\\\test_dataset{i}.csv\"\n",
    "    df = pd.read_csv(original_file_path)\n",
    "\n",
    "    # Get the name of the second to last column\n",
    "    label_column = df.columns[-2]\n",
    "\n",
    "    # Determine the path of the original file\n",
    "    directory = os.path.dirname(original_file_path)\n",
    "\n",
    "    # Create a new folder named 'split' in the same directory as the original file\n",
    "    split_folder = os.path.join(directory, 'test_split')\n",
    "    os.makedirs(split_folder, exist_ok=True)\n",
    "\n",
    "    # Group the data by the label column\n",
    "    grouped = df.groupby(label_column)\n",
    "\n",
    "    # Iterate over each group and save to a separate CSV file in the 'split' folder\n",
    "    for label, group in grouped:\n",
    "        # Create a valid file name by replacing invalid characters\n",
    "        label_name = str(label).replace('/', '_').replace('\\\\', '_')\n",
    "\n",
    "        # Define the new file path\n",
    "        new_file_path = os.path.join(split_folder, f'{label_name}.csv')\n",
    "\n",
    "        # Save the group to a CSV file\n",
    "        group.to_csv(new_file_path, index=False)\n",
    "\n",
    "    print(f\"The {i}-th TESTING CSV files have been created for each label and saved in the 'test_split' directory.\")"
   ]
  },
  {
   "cell_type": "markdown",
   "id": "c592cb00",
   "metadata": {},
   "source": [
    "## Step 2: Generate super spectra"
   ]
  },
  {
   "cell_type": "code",
   "execution_count": 9,
   "id": "d6682982",
   "metadata": {},
   "outputs": [],
   "source": [
    "# draw from the spectra with replacement, but without duplicate\n",
    "# note: without replacement = every spectra will only appear at most once, this will result in at most 40 spectra for training, 20 spectra for testing\n",
    "# with replacement = spectra may appear more than once. If without duplicate, this will result in at most 40*40 spectra for training, 20*20 spectra for testing\n",
    "def draw_with_replacement(*dataframes, conc_levels, num_super_spectra):\n",
    "    super_spectra_list = []\n",
    "\n",
    "    # Iterate over each concentration level\n",
    "    for conc in conc_levels:\n",
    "        generated_spectra = set()  # Set to keep track of generated spectra to avoid duplicates\n",
    "        count = 0\n",
    "\n",
    "        while count < num_super_spectra:\n",
    "            current_spectra = []\n",
    "            all_spectra_present = True\n",
    "\n",
    "            for df in dataframes:\n",
    "                # Filter the dataframe for the current concentration\n",
    "                df_conc = df[df['conc'] == conc].reset_index(drop=True)\n",
    "\n",
    "                # Check if any dataframe does not contain the concentration\n",
    "                if df_conc.empty:\n",
    "                    all_spectra_present = False\n",
    "                    print(f\"No spectra found for concentration {conc} in one of the dataframes.\")\n",
    "                    break  # Break out of the inner loop\n",
    "\n",
    "                # Draw a random index with replacement\n",
    "                chosen_index = np.random.choice(df_conc.index, 1)[0]\n",
    "\n",
    "                # Select the spectrum without the last two columns ('Label', 'Conc')\n",
    "                spectrum = df_conc.iloc[chosen_index, :-2].values\n",
    "                current_spectra.extend(spectrum)\n",
    "\n",
    "            # Convert list to tuple for immutability and set operations\n",
    "            current_spectra_tuple = tuple(current_spectra)\n",
    "\n",
    "            # If a spectrum was found in each dataframe for the current concentration\n",
    "            if all_spectra_present:\n",
    "                if current_spectra_tuple not in generated_spectra:\n",
    "                    generated_spectra.add(current_spectra_tuple)\n",
    "                    # Assume all dataframes have the same Label for the same concentration\n",
    "                    label = df_conc.iloc[0]['label']\n",
    "                    super_spectra_list.append(list(current_spectra_tuple) + [label, conc])\n",
    "                    count += 1\n",
    "\n",
    "    # Determine the column names for the super spectrum dataframe\n",
    "    col_names = []\n",
    "    for i, df in enumerate(dataframes, 1):\n",
    "        col_names.extend([f'wavenumber_{i}_{col}' for col in range(len(df.columns) - 2)])\n",
    "    col_names.extend(['label', 'conc'])\n",
    "\n",
    "    # Combine all the super spectra into a single DataFrame\n",
    "    super_spectra_df = pd.DataFrame(super_spectra_list, columns=col_names)\n",
    "    \n",
    "    return super_spectra_df"
   ]
  },
  {
   "cell_type": "markdown",
   "id": "ea7297ee",
   "metadata": {},
   "source": [
    "### Output all possible combinations"
   ]
  },
  {
   "cell_type": "code",
   "execution_count": 10,
   "id": "6f14a28b",
   "metadata": {},
   "outputs": [],
   "source": [
    "def save_all_combinations(START, iteration_number, WORKING_PATH, conc_levels):\n",
    "    for i in range(START, iteration_number + START):\n",
    "        # Initialize dictionaries to store training and testing DataFrames\n",
    "        train_dfs = {}\n",
    "        test_dfs = {}\n",
    "\n",
    "        # List of modification types\n",
    "        modifications = [\"Bare-BSA\", \"Cysteamine-BSA\", \"Cysteine-BSA\", \"MCH-BSA\"]\n",
    "        \n",
    "        # Loop through each modification and load its CSV into a DataFrame for both training and testing\n",
    "        for modification in modifications:\n",
    "            # Process train DataFrames\n",
    "            train_path = os.path.join(WORKING_PATH, f\"BSAML101_test_train_dataset\\\\train_test_set{i}\\\\train_split\", f\"{modification}.csv\")\n",
    "            train_dfs[modification] = pd.read_csv(train_path)\n",
    "            \n",
    "            # Process test DataFrames\n",
    "            test_path = os.path.join(WORKING_PATH, f\"BSAML101_test_train_dataset\\\\train_test_set{i}\\\\test_split\", f\"{modification}.csv\")\n",
    "            test_dfs[modification] = pd.read_csv(test_path)\n",
    "\n",
    "        # Process and save combinations of 2, 3, and 4 modifications\n",
    "        for num_mods in [2, 3, 4]:\n",
    "            for phase, dfs in [('train', train_dfs), ('test', test_dfs)]:\n",
    "                # Iterate over combinations of modifications\n",
    "                for combo in combinations(dfs.items(), num_mods):\n",
    "                    # Concatenate the DataFrames along the columns\n",
    "                    dataframes = [df.iloc[:, :-2] for mod, df in combo[:-1]] + [dfs[combo[-1][0]]]  # Include all columns for the last DataFrame\n",
    "                    combined_df = pd.concat(dataframes, axis=1)\n",
    "                    \n",
    "                    # Clean and sort modification names for the filename\n",
    "                    mods_clean = sorted([mod.replace('-BSA', '') for mod, _ in combo])\n",
    "                    mods_filename = '_'.join(mods_clean)\n",
    "                    \n",
    "                    # Define file path for saving the CSV\n",
    "                    filename = os.path.join(WORKING_PATH, f\"Superspectra20250705/{num_mods}x{num_mods}_{i}\", f\"{mods_filename}_{phase}{i}.csv\")\n",
    "                    os.makedirs(os.path.dirname(filename), exist_ok=True)\n",
    "                    combined_df.to_csv(filename, index=False)\n",
    "                    print(f\"Saved: {filename}\")\n"
   ]
  },
  {
   "cell_type": "code",
   "execution_count": 11,
   "id": "3a6397d7",
   "metadata": {},
   "outputs": [
    {
     "name": "stdout",
     "output_type": "stream",
     "text": [
      "Saved: C:\\Users\\zhao-\\Jiaheng\\BSA protein\\data\\Superspectra20231107/2x2_1\\Bare_Cysteamine_train1.csv\n",
      "Saved: C:\\Users\\zhao-\\Jiaheng\\BSA protein\\data\\Superspectra20231107/2x2_1\\Bare_Cysteine_train1.csv\n",
      "Saved: C:\\Users\\zhao-\\Jiaheng\\BSA protein\\data\\Superspectra20231107/2x2_1\\Bare_MCH_train1.csv\n",
      "Saved: C:\\Users\\zhao-\\Jiaheng\\BSA protein\\data\\Superspectra20231107/2x2_1\\Cysteamine_Cysteine_train1.csv\n",
      "Saved: C:\\Users\\zhao-\\Jiaheng\\BSA protein\\data\\Superspectra20231107/2x2_1\\Cysteamine_MCH_train1.csv\n",
      "Saved: C:\\Users\\zhao-\\Jiaheng\\BSA protein\\data\\Superspectra20231107/2x2_1\\Cysteine_MCH_train1.csv\n",
      "Saved: C:\\Users\\zhao-\\Jiaheng\\BSA protein\\data\\Superspectra20231107/2x2_1\\Bare_Cysteamine_test1.csv\n",
      "Saved: C:\\Users\\zhao-\\Jiaheng\\BSA protein\\data\\Superspectra20231107/2x2_1\\Bare_Cysteine_test1.csv\n",
      "Saved: C:\\Users\\zhao-\\Jiaheng\\BSA protein\\data\\Superspectra20231107/2x2_1\\Bare_MCH_test1.csv\n",
      "Saved: C:\\Users\\zhao-\\Jiaheng\\BSA protein\\data\\Superspectra20231107/2x2_1\\Cysteamine_Cysteine_test1.csv\n",
      "Saved: C:\\Users\\zhao-\\Jiaheng\\BSA protein\\data\\Superspectra20231107/2x2_1\\Cysteamine_MCH_test1.csv\n",
      "Saved: C:\\Users\\zhao-\\Jiaheng\\BSA protein\\data\\Superspectra20231107/2x2_1\\Cysteine_MCH_test1.csv\n",
      "Saved: C:\\Users\\zhao-\\Jiaheng\\BSA protein\\data\\Superspectra20231107/3x3_1\\Bare_Cysteamine_Cysteine_train1.csv\n",
      "Saved: C:\\Users\\zhao-\\Jiaheng\\BSA protein\\data\\Superspectra20231107/3x3_1\\Bare_Cysteamine_MCH_train1.csv\n",
      "Saved: C:\\Users\\zhao-\\Jiaheng\\BSA protein\\data\\Superspectra20231107/3x3_1\\Bare_Cysteine_MCH_train1.csv\n",
      "Saved: C:\\Users\\zhao-\\Jiaheng\\BSA protein\\data\\Superspectra20231107/3x3_1\\Cysteamine_Cysteine_MCH_train1.csv\n",
      "Saved: C:\\Users\\zhao-\\Jiaheng\\BSA protein\\data\\Superspectra20231107/3x3_1\\Bare_Cysteamine_Cysteine_test1.csv\n",
      "Saved: C:\\Users\\zhao-\\Jiaheng\\BSA protein\\data\\Superspectra20231107/3x3_1\\Bare_Cysteamine_MCH_test1.csv\n",
      "Saved: C:\\Users\\zhao-\\Jiaheng\\BSA protein\\data\\Superspectra20231107/3x3_1\\Bare_Cysteine_MCH_test1.csv\n",
      "Saved: C:\\Users\\zhao-\\Jiaheng\\BSA protein\\data\\Superspectra20231107/3x3_1\\Cysteamine_Cysteine_MCH_test1.csv\n",
      "Saved: C:\\Users\\zhao-\\Jiaheng\\BSA protein\\data\\Superspectra20231107/4x4_1\\Bare_Cysteamine_Cysteine_MCH_train1.csv\n",
      "Saved: C:\\Users\\zhao-\\Jiaheng\\BSA protein\\data\\Superspectra20231107/4x4_1\\Bare_Cysteamine_Cysteine_MCH_test1.csv\n",
      "Saved: C:\\Users\\zhao-\\Jiaheng\\BSA protein\\data\\Superspectra20231107/2x2_2\\Bare_Cysteamine_train2.csv\n",
      "Saved: C:\\Users\\zhao-\\Jiaheng\\BSA protein\\data\\Superspectra20231107/2x2_2\\Bare_Cysteine_train2.csv\n",
      "Saved: C:\\Users\\zhao-\\Jiaheng\\BSA protein\\data\\Superspectra20231107/2x2_2\\Bare_MCH_train2.csv\n",
      "Saved: C:\\Users\\zhao-\\Jiaheng\\BSA protein\\data\\Superspectra20231107/2x2_2\\Cysteamine_Cysteine_train2.csv\n",
      "Saved: C:\\Users\\zhao-\\Jiaheng\\BSA protein\\data\\Superspectra20231107/2x2_2\\Cysteamine_MCH_train2.csv\n",
      "Saved: C:\\Users\\zhao-\\Jiaheng\\BSA protein\\data\\Superspectra20231107/2x2_2\\Cysteine_MCH_train2.csv\n",
      "Saved: C:\\Users\\zhao-\\Jiaheng\\BSA protein\\data\\Superspectra20231107/2x2_2\\Bare_Cysteamine_test2.csv\n",
      "Saved: C:\\Users\\zhao-\\Jiaheng\\BSA protein\\data\\Superspectra20231107/2x2_2\\Bare_Cysteine_test2.csv\n",
      "Saved: C:\\Users\\zhao-\\Jiaheng\\BSA protein\\data\\Superspectra20231107/2x2_2\\Bare_MCH_test2.csv\n",
      "Saved: C:\\Users\\zhao-\\Jiaheng\\BSA protein\\data\\Superspectra20231107/2x2_2\\Cysteamine_Cysteine_test2.csv\n",
      "Saved: C:\\Users\\zhao-\\Jiaheng\\BSA protein\\data\\Superspectra20231107/2x2_2\\Cysteamine_MCH_test2.csv\n",
      "Saved: C:\\Users\\zhao-\\Jiaheng\\BSA protein\\data\\Superspectra20231107/2x2_2\\Cysteine_MCH_test2.csv\n",
      "Saved: C:\\Users\\zhao-\\Jiaheng\\BSA protein\\data\\Superspectra20231107/3x3_2\\Bare_Cysteamine_Cysteine_train2.csv\n",
      "Saved: C:\\Users\\zhao-\\Jiaheng\\BSA protein\\data\\Superspectra20231107/3x3_2\\Bare_Cysteamine_MCH_train2.csv\n",
      "Saved: C:\\Users\\zhao-\\Jiaheng\\BSA protein\\data\\Superspectra20231107/3x3_2\\Bare_Cysteine_MCH_train2.csv\n",
      "Saved: C:\\Users\\zhao-\\Jiaheng\\BSA protein\\data\\Superspectra20231107/3x3_2\\Cysteamine_Cysteine_MCH_train2.csv\n",
      "Saved: C:\\Users\\zhao-\\Jiaheng\\BSA protein\\data\\Superspectra20231107/3x3_2\\Bare_Cysteamine_Cysteine_test2.csv\n",
      "Saved: C:\\Users\\zhao-\\Jiaheng\\BSA protein\\data\\Superspectra20231107/3x3_2\\Bare_Cysteamine_MCH_test2.csv\n",
      "Saved: C:\\Users\\zhao-\\Jiaheng\\BSA protein\\data\\Superspectra20231107/3x3_2\\Bare_Cysteine_MCH_test2.csv\n",
      "Saved: C:\\Users\\zhao-\\Jiaheng\\BSA protein\\data\\Superspectra20231107/3x3_2\\Cysteamine_Cysteine_MCH_test2.csv\n",
      "Saved: C:\\Users\\zhao-\\Jiaheng\\BSA protein\\data\\Superspectra20231107/4x4_2\\Bare_Cysteamine_Cysteine_MCH_train2.csv\n",
      "Saved: C:\\Users\\zhao-\\Jiaheng\\BSA protein\\data\\Superspectra20231107/4x4_2\\Bare_Cysteamine_Cysteine_MCH_test2.csv\n",
      "Saved: C:\\Users\\zhao-\\Jiaheng\\BSA protein\\data\\Superspectra20231107/2x2_3\\Bare_Cysteamine_train3.csv\n",
      "Saved: C:\\Users\\zhao-\\Jiaheng\\BSA protein\\data\\Superspectra20231107/2x2_3\\Bare_Cysteine_train3.csv\n",
      "Saved: C:\\Users\\zhao-\\Jiaheng\\BSA protein\\data\\Superspectra20231107/2x2_3\\Bare_MCH_train3.csv\n",
      "Saved: C:\\Users\\zhao-\\Jiaheng\\BSA protein\\data\\Superspectra20231107/2x2_3\\Cysteamine_Cysteine_train3.csv\n",
      "Saved: C:\\Users\\zhao-\\Jiaheng\\BSA protein\\data\\Superspectra20231107/2x2_3\\Cysteamine_MCH_train3.csv\n",
      "Saved: C:\\Users\\zhao-\\Jiaheng\\BSA protein\\data\\Superspectra20231107/2x2_3\\Cysteine_MCH_train3.csv\n",
      "Saved: C:\\Users\\zhao-\\Jiaheng\\BSA protein\\data\\Superspectra20231107/2x2_3\\Bare_Cysteamine_test3.csv\n",
      "Saved: C:\\Users\\zhao-\\Jiaheng\\BSA protein\\data\\Superspectra20231107/2x2_3\\Bare_Cysteine_test3.csv\n",
      "Saved: C:\\Users\\zhao-\\Jiaheng\\BSA protein\\data\\Superspectra20231107/2x2_3\\Bare_MCH_test3.csv\n",
      "Saved: C:\\Users\\zhao-\\Jiaheng\\BSA protein\\data\\Superspectra20231107/2x2_3\\Cysteamine_Cysteine_test3.csv\n",
      "Saved: C:\\Users\\zhao-\\Jiaheng\\BSA protein\\data\\Superspectra20231107/2x2_3\\Cysteamine_MCH_test3.csv\n",
      "Saved: C:\\Users\\zhao-\\Jiaheng\\BSA protein\\data\\Superspectra20231107/2x2_3\\Cysteine_MCH_test3.csv\n",
      "Saved: C:\\Users\\zhao-\\Jiaheng\\BSA protein\\data\\Superspectra20231107/3x3_3\\Bare_Cysteamine_Cysteine_train3.csv\n",
      "Saved: C:\\Users\\zhao-\\Jiaheng\\BSA protein\\data\\Superspectra20231107/3x3_3\\Bare_Cysteamine_MCH_train3.csv\n",
      "Saved: C:\\Users\\zhao-\\Jiaheng\\BSA protein\\data\\Superspectra20231107/3x3_3\\Bare_Cysteine_MCH_train3.csv\n",
      "Saved: C:\\Users\\zhao-\\Jiaheng\\BSA protein\\data\\Superspectra20231107/3x3_3\\Cysteamine_Cysteine_MCH_train3.csv\n",
      "Saved: C:\\Users\\zhao-\\Jiaheng\\BSA protein\\data\\Superspectra20231107/3x3_3\\Bare_Cysteamine_Cysteine_test3.csv\n",
      "Saved: C:\\Users\\zhao-\\Jiaheng\\BSA protein\\data\\Superspectra20231107/3x3_3\\Bare_Cysteamine_MCH_test3.csv\n",
      "Saved: C:\\Users\\zhao-\\Jiaheng\\BSA protein\\data\\Superspectra20231107/3x3_3\\Bare_Cysteine_MCH_test3.csv\n",
      "Saved: C:\\Users\\zhao-\\Jiaheng\\BSA protein\\data\\Superspectra20231107/3x3_3\\Cysteamine_Cysteine_MCH_test3.csv\n",
      "Saved: C:\\Users\\zhao-\\Jiaheng\\BSA protein\\data\\Superspectra20231107/4x4_3\\Bare_Cysteamine_Cysteine_MCH_train3.csv\n",
      "Saved: C:\\Users\\zhao-\\Jiaheng\\BSA protein\\data\\Superspectra20231107/4x4_3\\Bare_Cysteamine_Cysteine_MCH_test3.csv\n",
      "Saved: C:\\Users\\zhao-\\Jiaheng\\BSA protein\\data\\Superspectra20231107/2x2_4\\Bare_Cysteamine_train4.csv\n",
      "Saved: C:\\Users\\zhao-\\Jiaheng\\BSA protein\\data\\Superspectra20231107/2x2_4\\Bare_Cysteine_train4.csv\n",
      "Saved: C:\\Users\\zhao-\\Jiaheng\\BSA protein\\data\\Superspectra20231107/2x2_4\\Bare_MCH_train4.csv\n",
      "Saved: C:\\Users\\zhao-\\Jiaheng\\BSA protein\\data\\Superspectra20231107/2x2_4\\Cysteamine_Cysteine_train4.csv\n",
      "Saved: C:\\Users\\zhao-\\Jiaheng\\BSA protein\\data\\Superspectra20231107/2x2_4\\Cysteamine_MCH_train4.csv\n",
      "Saved: C:\\Users\\zhao-\\Jiaheng\\BSA protein\\data\\Superspectra20231107/2x2_4\\Cysteine_MCH_train4.csv\n",
      "Saved: C:\\Users\\zhao-\\Jiaheng\\BSA protein\\data\\Superspectra20231107/2x2_4\\Bare_Cysteamine_test4.csv\n",
      "Saved: C:\\Users\\zhao-\\Jiaheng\\BSA protein\\data\\Superspectra20231107/2x2_4\\Bare_Cysteine_test4.csv\n",
      "Saved: C:\\Users\\zhao-\\Jiaheng\\BSA protein\\data\\Superspectra20231107/2x2_4\\Bare_MCH_test4.csv\n",
      "Saved: C:\\Users\\zhao-\\Jiaheng\\BSA protein\\data\\Superspectra20231107/2x2_4\\Cysteamine_Cysteine_test4.csv\n",
      "Saved: C:\\Users\\zhao-\\Jiaheng\\BSA protein\\data\\Superspectra20231107/2x2_4\\Cysteamine_MCH_test4.csv\n",
      "Saved: C:\\Users\\zhao-\\Jiaheng\\BSA protein\\data\\Superspectra20231107/2x2_4\\Cysteine_MCH_test4.csv\n",
      "Saved: C:\\Users\\zhao-\\Jiaheng\\BSA protein\\data\\Superspectra20231107/3x3_4\\Bare_Cysteamine_Cysteine_train4.csv\n",
      "Saved: C:\\Users\\zhao-\\Jiaheng\\BSA protein\\data\\Superspectra20231107/3x3_4\\Bare_Cysteamine_MCH_train4.csv\n",
      "Saved: C:\\Users\\zhao-\\Jiaheng\\BSA protein\\data\\Superspectra20231107/3x3_4\\Bare_Cysteine_MCH_train4.csv\n",
      "Saved: C:\\Users\\zhao-\\Jiaheng\\BSA protein\\data\\Superspectra20231107/3x3_4\\Cysteamine_Cysteine_MCH_train4.csv\n",
      "Saved: C:\\Users\\zhao-\\Jiaheng\\BSA protein\\data\\Superspectra20231107/3x3_4\\Bare_Cysteamine_Cysteine_test4.csv\n",
      "Saved: C:\\Users\\zhao-\\Jiaheng\\BSA protein\\data\\Superspectra20231107/3x3_4\\Bare_Cysteamine_MCH_test4.csv\n",
      "Saved: C:\\Users\\zhao-\\Jiaheng\\BSA protein\\data\\Superspectra20231107/3x3_4\\Bare_Cysteine_MCH_test4.csv\n",
      "Saved: C:\\Users\\zhao-\\Jiaheng\\BSA protein\\data\\Superspectra20231107/3x3_4\\Cysteamine_Cysteine_MCH_test4.csv\n",
      "Saved: C:\\Users\\zhao-\\Jiaheng\\BSA protein\\data\\Superspectra20231107/4x4_4\\Bare_Cysteamine_Cysteine_MCH_train4.csv\n",
      "Saved: C:\\Users\\zhao-\\Jiaheng\\BSA protein\\data\\Superspectra20231107/4x4_4\\Bare_Cysteamine_Cysteine_MCH_test4.csv\n",
      "Saved: C:\\Users\\zhao-\\Jiaheng\\BSA protein\\data\\Superspectra20231107/2x2_5\\Bare_Cysteamine_train5.csv\n",
      "Saved: C:\\Users\\zhao-\\Jiaheng\\BSA protein\\data\\Superspectra20231107/2x2_5\\Bare_Cysteine_train5.csv\n",
      "Saved: C:\\Users\\zhao-\\Jiaheng\\BSA protein\\data\\Superspectra20231107/2x2_5\\Bare_MCH_train5.csv\n",
      "Saved: C:\\Users\\zhao-\\Jiaheng\\BSA protein\\data\\Superspectra20231107/2x2_5\\Cysteamine_Cysteine_train5.csv\n",
      "Saved: C:\\Users\\zhao-\\Jiaheng\\BSA protein\\data\\Superspectra20231107/2x2_5\\Cysteamine_MCH_train5.csv\n",
      "Saved: C:\\Users\\zhao-\\Jiaheng\\BSA protein\\data\\Superspectra20231107/2x2_5\\Cysteine_MCH_train5.csv\n",
      "Saved: C:\\Users\\zhao-\\Jiaheng\\BSA protein\\data\\Superspectra20231107/2x2_5\\Bare_Cysteamine_test5.csv\n",
      "Saved: C:\\Users\\zhao-\\Jiaheng\\BSA protein\\data\\Superspectra20231107/2x2_5\\Bare_Cysteine_test5.csv\n",
      "Saved: C:\\Users\\zhao-\\Jiaheng\\BSA protein\\data\\Superspectra20231107/2x2_5\\Bare_MCH_test5.csv\n",
      "Saved: C:\\Users\\zhao-\\Jiaheng\\BSA protein\\data\\Superspectra20231107/2x2_5\\Cysteamine_Cysteine_test5.csv\n",
      "Saved: C:\\Users\\zhao-\\Jiaheng\\BSA protein\\data\\Superspectra20231107/2x2_5\\Cysteamine_MCH_test5.csv\n",
      "Saved: C:\\Users\\zhao-\\Jiaheng\\BSA protein\\data\\Superspectra20231107/2x2_5\\Cysteine_MCH_test5.csv\n",
      "Saved: C:\\Users\\zhao-\\Jiaheng\\BSA protein\\data\\Superspectra20231107/3x3_5\\Bare_Cysteamine_Cysteine_train5.csv\n",
      "Saved: C:\\Users\\zhao-\\Jiaheng\\BSA protein\\data\\Superspectra20231107/3x3_5\\Bare_Cysteamine_MCH_train5.csv\n",
      "Saved: C:\\Users\\zhao-\\Jiaheng\\BSA protein\\data\\Superspectra20231107/3x3_5\\Bare_Cysteine_MCH_train5.csv\n",
      "Saved: C:\\Users\\zhao-\\Jiaheng\\BSA protein\\data\\Superspectra20231107/3x3_5\\Cysteamine_Cysteine_MCH_train5.csv\n",
      "Saved: C:\\Users\\zhao-\\Jiaheng\\BSA protein\\data\\Superspectra20231107/3x3_5\\Bare_Cysteamine_Cysteine_test5.csv\n",
      "Saved: C:\\Users\\zhao-\\Jiaheng\\BSA protein\\data\\Superspectra20231107/3x3_5\\Bare_Cysteamine_MCH_test5.csv\n",
      "Saved: C:\\Users\\zhao-\\Jiaheng\\BSA protein\\data\\Superspectra20231107/3x3_5\\Bare_Cysteine_MCH_test5.csv\n",
      "Saved: C:\\Users\\zhao-\\Jiaheng\\BSA protein\\data\\Superspectra20231107/3x3_5\\Cysteamine_Cysteine_MCH_test5.csv\n",
      "Saved: C:\\Users\\zhao-\\Jiaheng\\BSA protein\\data\\Superspectra20231107/4x4_5\\Bare_Cysteamine_Cysteine_MCH_train5.csv\n",
      "Saved: C:\\Users\\zhao-\\Jiaheng\\BSA protein\\data\\Superspectra20231107/4x4_5\\Bare_Cysteamine_Cysteine_MCH_test5.csv\n",
      "Saved: C:\\Users\\zhao-\\Jiaheng\\BSA protein\\data\\Superspectra20231107/2x2_6\\Bare_Cysteamine_train6.csv\n",
      "Saved: C:\\Users\\zhao-\\Jiaheng\\BSA protein\\data\\Superspectra20231107/2x2_6\\Bare_Cysteine_train6.csv\n",
      "Saved: C:\\Users\\zhao-\\Jiaheng\\BSA protein\\data\\Superspectra20231107/2x2_6\\Bare_MCH_train6.csv\n",
      "Saved: C:\\Users\\zhao-\\Jiaheng\\BSA protein\\data\\Superspectra20231107/2x2_6\\Cysteamine_Cysteine_train6.csv\n",
      "Saved: C:\\Users\\zhao-\\Jiaheng\\BSA protein\\data\\Superspectra20231107/2x2_6\\Cysteamine_MCH_train6.csv\n",
      "Saved: C:\\Users\\zhao-\\Jiaheng\\BSA protein\\data\\Superspectra20231107/2x2_6\\Cysteine_MCH_train6.csv\n",
      "Saved: C:\\Users\\zhao-\\Jiaheng\\BSA protein\\data\\Superspectra20231107/2x2_6\\Bare_Cysteamine_test6.csv\n",
      "Saved: C:\\Users\\zhao-\\Jiaheng\\BSA protein\\data\\Superspectra20231107/2x2_6\\Bare_Cysteine_test6.csv\n",
      "Saved: C:\\Users\\zhao-\\Jiaheng\\BSA protein\\data\\Superspectra20231107/2x2_6\\Bare_MCH_test6.csv\n",
      "Saved: C:\\Users\\zhao-\\Jiaheng\\BSA protein\\data\\Superspectra20231107/2x2_6\\Cysteamine_Cysteine_test6.csv\n",
      "Saved: C:\\Users\\zhao-\\Jiaheng\\BSA protein\\data\\Superspectra20231107/2x2_6\\Cysteamine_MCH_test6.csv\n",
      "Saved: C:\\Users\\zhao-\\Jiaheng\\BSA protein\\data\\Superspectra20231107/2x2_6\\Cysteine_MCH_test6.csv\n",
      "Saved: C:\\Users\\zhao-\\Jiaheng\\BSA protein\\data\\Superspectra20231107/3x3_6\\Bare_Cysteamine_Cysteine_train6.csv\n",
      "Saved: C:\\Users\\zhao-\\Jiaheng\\BSA protein\\data\\Superspectra20231107/3x3_6\\Bare_Cysteamine_MCH_train6.csv\n",
      "Saved: C:\\Users\\zhao-\\Jiaheng\\BSA protein\\data\\Superspectra20231107/3x3_6\\Bare_Cysteine_MCH_train6.csv\n",
      "Saved: C:\\Users\\zhao-\\Jiaheng\\BSA protein\\data\\Superspectra20231107/3x3_6\\Cysteamine_Cysteine_MCH_train6.csv\n",
      "Saved: C:\\Users\\zhao-\\Jiaheng\\BSA protein\\data\\Superspectra20231107/3x3_6\\Bare_Cysteamine_Cysteine_test6.csv\n",
      "Saved: C:\\Users\\zhao-\\Jiaheng\\BSA protein\\data\\Superspectra20231107/3x3_6\\Bare_Cysteamine_MCH_test6.csv\n",
      "Saved: C:\\Users\\zhao-\\Jiaheng\\BSA protein\\data\\Superspectra20231107/3x3_6\\Bare_Cysteine_MCH_test6.csv\n",
      "Saved: C:\\Users\\zhao-\\Jiaheng\\BSA protein\\data\\Superspectra20231107/3x3_6\\Cysteamine_Cysteine_MCH_test6.csv\n",
      "Saved: C:\\Users\\zhao-\\Jiaheng\\BSA protein\\data\\Superspectra20231107/4x4_6\\Bare_Cysteamine_Cysteine_MCH_train6.csv\n",
      "Saved: C:\\Users\\zhao-\\Jiaheng\\BSA protein\\data\\Superspectra20231107/4x4_6\\Bare_Cysteamine_Cysteine_MCH_test6.csv\n",
      "Saved: C:\\Users\\zhao-\\Jiaheng\\BSA protein\\data\\Superspectra20231107/2x2_7\\Bare_Cysteamine_train7.csv\n",
      "Saved: C:\\Users\\zhao-\\Jiaheng\\BSA protein\\data\\Superspectra20231107/2x2_7\\Bare_Cysteine_train7.csv\n",
      "Saved: C:\\Users\\zhao-\\Jiaheng\\BSA protein\\data\\Superspectra20231107/2x2_7\\Bare_MCH_train7.csv\n",
      "Saved: C:\\Users\\zhao-\\Jiaheng\\BSA protein\\data\\Superspectra20231107/2x2_7\\Cysteamine_Cysteine_train7.csv\n",
      "Saved: C:\\Users\\zhao-\\Jiaheng\\BSA protein\\data\\Superspectra20231107/2x2_7\\Cysteamine_MCH_train7.csv\n",
      "Saved: C:\\Users\\zhao-\\Jiaheng\\BSA protein\\data\\Superspectra20231107/2x2_7\\Cysteine_MCH_train7.csv\n",
      "Saved: C:\\Users\\zhao-\\Jiaheng\\BSA protein\\data\\Superspectra20231107/2x2_7\\Bare_Cysteamine_test7.csv\n",
      "Saved: C:\\Users\\zhao-\\Jiaheng\\BSA protein\\data\\Superspectra20231107/2x2_7\\Bare_Cysteine_test7.csv\n",
      "Saved: C:\\Users\\zhao-\\Jiaheng\\BSA protein\\data\\Superspectra20231107/2x2_7\\Bare_MCH_test7.csv\n",
      "Saved: C:\\Users\\zhao-\\Jiaheng\\BSA protein\\data\\Superspectra20231107/2x2_7\\Cysteamine_Cysteine_test7.csv\n",
      "Saved: C:\\Users\\zhao-\\Jiaheng\\BSA protein\\data\\Superspectra20231107/2x2_7\\Cysteamine_MCH_test7.csv\n",
      "Saved: C:\\Users\\zhao-\\Jiaheng\\BSA protein\\data\\Superspectra20231107/2x2_7\\Cysteine_MCH_test7.csv\n",
      "Saved: C:\\Users\\zhao-\\Jiaheng\\BSA protein\\data\\Superspectra20231107/3x3_7\\Bare_Cysteamine_Cysteine_train7.csv\n",
      "Saved: C:\\Users\\zhao-\\Jiaheng\\BSA protein\\data\\Superspectra20231107/3x3_7\\Bare_Cysteamine_MCH_train7.csv\n",
      "Saved: C:\\Users\\zhao-\\Jiaheng\\BSA protein\\data\\Superspectra20231107/3x3_7\\Bare_Cysteine_MCH_train7.csv\n",
      "Saved: C:\\Users\\zhao-\\Jiaheng\\BSA protein\\data\\Superspectra20231107/3x3_7\\Cysteamine_Cysteine_MCH_train7.csv\n",
      "Saved: C:\\Users\\zhao-\\Jiaheng\\BSA protein\\data\\Superspectra20231107/3x3_7\\Bare_Cysteamine_Cysteine_test7.csv\n",
      "Saved: C:\\Users\\zhao-\\Jiaheng\\BSA protein\\data\\Superspectra20231107/3x3_7\\Bare_Cysteamine_MCH_test7.csv\n",
      "Saved: C:\\Users\\zhao-\\Jiaheng\\BSA protein\\data\\Superspectra20231107/3x3_7\\Bare_Cysteine_MCH_test7.csv\n",
      "Saved: C:\\Users\\zhao-\\Jiaheng\\BSA protein\\data\\Superspectra20231107/3x3_7\\Cysteamine_Cysteine_MCH_test7.csv\n",
      "Saved: C:\\Users\\zhao-\\Jiaheng\\BSA protein\\data\\Superspectra20231107/4x4_7\\Bare_Cysteamine_Cysteine_MCH_train7.csv\n",
      "Saved: C:\\Users\\zhao-\\Jiaheng\\BSA protein\\data\\Superspectra20231107/4x4_7\\Bare_Cysteamine_Cysteine_MCH_test7.csv\n",
      "Saved: C:\\Users\\zhao-\\Jiaheng\\BSA protein\\data\\Superspectra20231107/2x2_8\\Bare_Cysteamine_train8.csv\n",
      "Saved: C:\\Users\\zhao-\\Jiaheng\\BSA protein\\data\\Superspectra20231107/2x2_8\\Bare_Cysteine_train8.csv\n",
      "Saved: C:\\Users\\zhao-\\Jiaheng\\BSA protein\\data\\Superspectra20231107/2x2_8\\Bare_MCH_train8.csv\n",
      "Saved: C:\\Users\\zhao-\\Jiaheng\\BSA protein\\data\\Superspectra20231107/2x2_8\\Cysteamine_Cysteine_train8.csv\n",
      "Saved: C:\\Users\\zhao-\\Jiaheng\\BSA protein\\data\\Superspectra20231107/2x2_8\\Cysteamine_MCH_train8.csv\n",
      "Saved: C:\\Users\\zhao-\\Jiaheng\\BSA protein\\data\\Superspectra20231107/2x2_8\\Cysteine_MCH_train8.csv\n",
      "Saved: C:\\Users\\zhao-\\Jiaheng\\BSA protein\\data\\Superspectra20231107/2x2_8\\Bare_Cysteamine_test8.csv\n",
      "Saved: C:\\Users\\zhao-\\Jiaheng\\BSA protein\\data\\Superspectra20231107/2x2_8\\Bare_Cysteine_test8.csv\n",
      "Saved: C:\\Users\\zhao-\\Jiaheng\\BSA protein\\data\\Superspectra20231107/2x2_8\\Bare_MCH_test8.csv\n",
      "Saved: C:\\Users\\zhao-\\Jiaheng\\BSA protein\\data\\Superspectra20231107/2x2_8\\Cysteamine_Cysteine_test8.csv\n",
      "Saved: C:\\Users\\zhao-\\Jiaheng\\BSA protein\\data\\Superspectra20231107/2x2_8\\Cysteamine_MCH_test8.csv\n",
      "Saved: C:\\Users\\zhao-\\Jiaheng\\BSA protein\\data\\Superspectra20231107/2x2_8\\Cysteine_MCH_test8.csv\n",
      "Saved: C:\\Users\\zhao-\\Jiaheng\\BSA protein\\data\\Superspectra20231107/3x3_8\\Bare_Cysteamine_Cysteine_train8.csv\n",
      "Saved: C:\\Users\\zhao-\\Jiaheng\\BSA protein\\data\\Superspectra20231107/3x3_8\\Bare_Cysteamine_MCH_train8.csv\n",
      "Saved: C:\\Users\\zhao-\\Jiaheng\\BSA protein\\data\\Superspectra20231107/3x3_8\\Bare_Cysteine_MCH_train8.csv\n",
      "Saved: C:\\Users\\zhao-\\Jiaheng\\BSA protein\\data\\Superspectra20231107/3x3_8\\Cysteamine_Cysteine_MCH_train8.csv\n",
      "Saved: C:\\Users\\zhao-\\Jiaheng\\BSA protein\\data\\Superspectra20231107/3x3_8\\Bare_Cysteamine_Cysteine_test8.csv\n",
      "Saved: C:\\Users\\zhao-\\Jiaheng\\BSA protein\\data\\Superspectra20231107/3x3_8\\Bare_Cysteamine_MCH_test8.csv\n",
      "Saved: C:\\Users\\zhao-\\Jiaheng\\BSA protein\\data\\Superspectra20231107/3x3_8\\Bare_Cysteine_MCH_test8.csv\n",
      "Saved: C:\\Users\\zhao-\\Jiaheng\\BSA protein\\data\\Superspectra20231107/3x3_8\\Cysteamine_Cysteine_MCH_test8.csv\n",
      "Saved: C:\\Users\\zhao-\\Jiaheng\\BSA protein\\data\\Superspectra20231107/4x4_8\\Bare_Cysteamine_Cysteine_MCH_train8.csv\n",
      "Saved: C:\\Users\\zhao-\\Jiaheng\\BSA protein\\data\\Superspectra20231107/4x4_8\\Bare_Cysteamine_Cysteine_MCH_test8.csv\n",
      "Saved: C:\\Users\\zhao-\\Jiaheng\\BSA protein\\data\\Superspectra20231107/2x2_9\\Bare_Cysteamine_train9.csv\n",
      "Saved: C:\\Users\\zhao-\\Jiaheng\\BSA protein\\data\\Superspectra20231107/2x2_9\\Bare_Cysteine_train9.csv\n",
      "Saved: C:\\Users\\zhao-\\Jiaheng\\BSA protein\\data\\Superspectra20231107/2x2_9\\Bare_MCH_train9.csv\n",
      "Saved: C:\\Users\\zhao-\\Jiaheng\\BSA protein\\data\\Superspectra20231107/2x2_9\\Cysteamine_Cysteine_train9.csv\n",
      "Saved: C:\\Users\\zhao-\\Jiaheng\\BSA protein\\data\\Superspectra20231107/2x2_9\\Cysteamine_MCH_train9.csv\n",
      "Saved: C:\\Users\\zhao-\\Jiaheng\\BSA protein\\data\\Superspectra20231107/2x2_9\\Cysteine_MCH_train9.csv\n",
      "Saved: C:\\Users\\zhao-\\Jiaheng\\BSA protein\\data\\Superspectra20231107/2x2_9\\Bare_Cysteamine_test9.csv\n",
      "Saved: C:\\Users\\zhao-\\Jiaheng\\BSA protein\\data\\Superspectra20231107/2x2_9\\Bare_Cysteine_test9.csv\n",
      "Saved: C:\\Users\\zhao-\\Jiaheng\\BSA protein\\data\\Superspectra20231107/2x2_9\\Bare_MCH_test9.csv\n",
      "Saved: C:\\Users\\zhao-\\Jiaheng\\BSA protein\\data\\Superspectra20231107/2x2_9\\Cysteamine_Cysteine_test9.csv\n",
      "Saved: C:\\Users\\zhao-\\Jiaheng\\BSA protein\\data\\Superspectra20231107/2x2_9\\Cysteamine_MCH_test9.csv\n",
      "Saved: C:\\Users\\zhao-\\Jiaheng\\BSA protein\\data\\Superspectra20231107/2x2_9\\Cysteine_MCH_test9.csv\n",
      "Saved: C:\\Users\\zhao-\\Jiaheng\\BSA protein\\data\\Superspectra20231107/3x3_9\\Bare_Cysteamine_Cysteine_train9.csv\n",
      "Saved: C:\\Users\\zhao-\\Jiaheng\\BSA protein\\data\\Superspectra20231107/3x3_9\\Bare_Cysteamine_MCH_train9.csv\n",
      "Saved: C:\\Users\\zhao-\\Jiaheng\\BSA protein\\data\\Superspectra20231107/3x3_9\\Bare_Cysteine_MCH_train9.csv\n",
      "Saved: C:\\Users\\zhao-\\Jiaheng\\BSA protein\\data\\Superspectra20231107/3x3_9\\Cysteamine_Cysteine_MCH_train9.csv\n",
      "Saved: C:\\Users\\zhao-\\Jiaheng\\BSA protein\\data\\Superspectra20231107/3x3_9\\Bare_Cysteamine_Cysteine_test9.csv\n",
      "Saved: C:\\Users\\zhao-\\Jiaheng\\BSA protein\\data\\Superspectra20231107/3x3_9\\Bare_Cysteamine_MCH_test9.csv\n",
      "Saved: C:\\Users\\zhao-\\Jiaheng\\BSA protein\\data\\Superspectra20231107/3x3_9\\Bare_Cysteine_MCH_test9.csv\n",
      "Saved: C:\\Users\\zhao-\\Jiaheng\\BSA protein\\data\\Superspectra20231107/3x3_9\\Cysteamine_Cysteine_MCH_test9.csv\n",
      "Saved: C:\\Users\\zhao-\\Jiaheng\\BSA protein\\data\\Superspectra20231107/4x4_9\\Bare_Cysteamine_Cysteine_MCH_train9.csv\n",
      "Saved: C:\\Users\\zhao-\\Jiaheng\\BSA protein\\data\\Superspectra20231107/4x4_9\\Bare_Cysteamine_Cysteine_MCH_test9.csv\n",
      "Saved: C:\\Users\\zhao-\\Jiaheng\\BSA protein\\data\\Superspectra20231107/2x2_10\\Bare_Cysteamine_train10.csv\n",
      "Saved: C:\\Users\\zhao-\\Jiaheng\\BSA protein\\data\\Superspectra20231107/2x2_10\\Bare_Cysteine_train10.csv\n",
      "Saved: C:\\Users\\zhao-\\Jiaheng\\BSA protein\\data\\Superspectra20231107/2x2_10\\Bare_MCH_train10.csv\n",
      "Saved: C:\\Users\\zhao-\\Jiaheng\\BSA protein\\data\\Superspectra20231107/2x2_10\\Cysteamine_Cysteine_train10.csv\n",
      "Saved: C:\\Users\\zhao-\\Jiaheng\\BSA protein\\data\\Superspectra20231107/2x2_10\\Cysteamine_MCH_train10.csv\n",
      "Saved: C:\\Users\\zhao-\\Jiaheng\\BSA protein\\data\\Superspectra20231107/2x2_10\\Cysteine_MCH_train10.csv\n",
      "Saved: C:\\Users\\zhao-\\Jiaheng\\BSA protein\\data\\Superspectra20231107/2x2_10\\Bare_Cysteamine_test10.csv\n",
      "Saved: C:\\Users\\zhao-\\Jiaheng\\BSA protein\\data\\Superspectra20231107/2x2_10\\Bare_Cysteine_test10.csv\n",
      "Saved: C:\\Users\\zhao-\\Jiaheng\\BSA protein\\data\\Superspectra20231107/2x2_10\\Bare_MCH_test10.csv\n",
      "Saved: C:\\Users\\zhao-\\Jiaheng\\BSA protein\\data\\Superspectra20231107/2x2_10\\Cysteamine_Cysteine_test10.csv\n",
      "Saved: C:\\Users\\zhao-\\Jiaheng\\BSA protein\\data\\Superspectra20231107/2x2_10\\Cysteamine_MCH_test10.csv\n",
      "Saved: C:\\Users\\zhao-\\Jiaheng\\BSA protein\\data\\Superspectra20231107/2x2_10\\Cysteine_MCH_test10.csv\n",
      "Saved: C:\\Users\\zhao-\\Jiaheng\\BSA protein\\data\\Superspectra20231107/3x3_10\\Bare_Cysteamine_Cysteine_train10.csv\n",
      "Saved: C:\\Users\\zhao-\\Jiaheng\\BSA protein\\data\\Superspectra20231107/3x3_10\\Bare_Cysteamine_MCH_train10.csv\n",
      "Saved: C:\\Users\\zhao-\\Jiaheng\\BSA protein\\data\\Superspectra20231107/3x3_10\\Bare_Cysteine_MCH_train10.csv\n",
      "Saved: C:\\Users\\zhao-\\Jiaheng\\BSA protein\\data\\Superspectra20231107/3x3_10\\Cysteamine_Cysteine_MCH_train10.csv\n",
      "Saved: C:\\Users\\zhao-\\Jiaheng\\BSA protein\\data\\Superspectra20231107/3x3_10\\Bare_Cysteamine_Cysteine_test10.csv\n",
      "Saved: C:\\Users\\zhao-\\Jiaheng\\BSA protein\\data\\Superspectra20231107/3x3_10\\Bare_Cysteamine_MCH_test10.csv\n",
      "Saved: C:\\Users\\zhao-\\Jiaheng\\BSA protein\\data\\Superspectra20231107/3x3_10\\Bare_Cysteine_MCH_test10.csv\n",
      "Saved: C:\\Users\\zhao-\\Jiaheng\\BSA protein\\data\\Superspectra20231107/3x3_10\\Cysteamine_Cysteine_MCH_test10.csv\n",
      "Saved: C:\\Users\\zhao-\\Jiaheng\\BSA protein\\data\\Superspectra20231107/4x4_10\\Bare_Cysteamine_Cysteine_MCH_train10.csv\n",
      "Saved: C:\\Users\\zhao-\\Jiaheng\\BSA protein\\data\\Superspectra20231107/4x4_10\\Bare_Cysteamine_Cysteine_MCH_test10.csv\n"
     ]
    }
   ],
   "source": [
    "# Example usage\n",
    "START = 1\n",
    "iteration_number = 10\n",
    "conc_levels = [0, 0.05, 0.001, 0.00002, 4e-7, 8e-9]\n",
    "\n",
    "save_all_combinations(START, iteration_number, WORKING_PATH, conc_levels)"
   ]
  },
  {
   "cell_type": "markdown",
   "id": "b1621273",
   "metadata": {},
   "source": [
    "## Step 3: regression models"
   ]
  },
  {
   "cell_type": "markdown",
   "id": "0766d598",
   "metadata": {},
   "source": [
    "### 1x1 single spectra"
   ]
  },
  {
   "cell_type": "code",
   "execution_count": 12,
   "id": "ab7fcedb",
   "metadata": {},
   "outputs": [],
   "source": [
    "# set the number of total iterations (groups)\n",
    "iteration_number = 5\n",
    "START = 1 # Included"
   ]
  },
  {
   "cell_type": "code",
   "execution_count": 13,
   "id": "89c076fe",
   "metadata": {
    "scrolled": true
   },
   "outputs": [
    {
     "name": "stdout",
     "output_type": "stream",
     "text": [
      "MAE: 1.2609676979141937\n",
      "RMSE: 1.942515770299907\n",
      "R^2: 0.8536016429220932\n",
      "SVR plot data saved to C:\\Users\\zhao-\\Jiaheng\\BSA protein\\data\\Superspectra20231107\\Results\\1x1_1_FigureData\\Bare-BSA_svr1.csv\n",
      "MAE: 1.4281223364611553\n",
      "RMSE: 2.152962050300328\n",
      "R^2: 0.8201626701292901\n",
      "RF plot data saved to C:\\Users\\zhao-\\Jiaheng\\BSA protein\\data\\Superspectra20231107\\Results\\1x1_1_FigureData\\Bare-BSA_rf1.csv\n",
      "MAE: 1.2609676979141937\n",
      "RMSE: 1.942515770299907\n",
      "R^2: 0.8536016429220932\n",
      "SVR plot data saved to C:\\Users\\zhao-\\Jiaheng\\BSA protein\\data\\Superspectra20231107\\Results\\1x1_1_FigureData\\Cysteamine-BSA_svr1.csv\n",
      "MAE: 1.3896189031422765\n",
      "RMSE: 2.0745481293218053\n",
      "R^2: 0.833023971920293\n",
      "RF plot data saved to C:\\Users\\zhao-\\Jiaheng\\BSA protein\\data\\Superspectra20231107\\Results\\1x1_1_FigureData\\Cysteamine-BSA_rf1.csv\n",
      "MAE: 1.2609676979141937\n",
      "RMSE: 1.942515770299907\n",
      "R^2: 0.8536016429220932\n",
      "SVR plot data saved to C:\\Users\\zhao-\\Jiaheng\\BSA protein\\data\\Superspectra20231107\\Results\\1x1_1_FigureData\\Cysteine-BSA_svr1.csv\n",
      "MAE: 1.4088002119041694\n",
      "RMSE: 2.1303301291056327\n",
      "R^2: 0.823923695117259\n",
      "RF plot data saved to C:\\Users\\zhao-\\Jiaheng\\BSA protein\\data\\Superspectra20231107\\Results\\1x1_1_FigureData\\Cysteine-BSA_rf1.csv\n",
      "MAE: 1.2609676979141937\n",
      "RMSE: 1.942515770299907\n",
      "R^2: 0.8536016429220932\n",
      "SVR plot data saved to C:\\Users\\zhao-\\Jiaheng\\BSA protein\\data\\Superspectra20231107\\Results\\1x1_1_FigureData\\MCH-BSA_svr1.csv\n",
      "MAE: 1.3807823384499942\n",
      "RMSE: 2.111148067105358\n",
      "R^2: 0.8270802956506084\n",
      "RF plot data saved to C:\\Users\\zhao-\\Jiaheng\\BSA protein\\data\\Superspectra20231107\\Results\\1x1_1_FigureData\\MCH-BSA_rf1.csv\n",
      "MAE: 1.13928815316699\n",
      "RMSE: 1.7315754491453446\n",
      "R^2: 0.8836704801365949\n",
      "SVR plot data saved to C:\\Users\\zhao-\\Jiaheng\\BSA protein\\data\\Superspectra20231107\\Results\\1x1_2_FigureData\\Bare-BSA_svr2.csv\n",
      "MAE: 1.4246279913393076\n",
      "RMSE: 2.493335647992644\n",
      "R^2: 0.7588048398200852\n",
      "RF plot data saved to C:\\Users\\zhao-\\Jiaheng\\BSA protein\\data\\Superspectra20231107\\Results\\1x1_2_FigureData\\Bare-BSA_rf2.csv\n",
      "MAE: 1.13928815316699\n",
      "RMSE: 1.7315754491453446\n",
      "R^2: 0.8836704801365949\n",
      "SVR plot data saved to C:\\Users\\zhao-\\Jiaheng\\BSA protein\\data\\Superspectra20231107\\Results\\1x1_2_FigureData\\Cysteamine-BSA_svr2.csv\n",
      "MAE: 1.482905306420406\n",
      "RMSE: 2.552439624506752\n",
      "R^2: 0.7472343511430872\n",
      "RF plot data saved to C:\\Users\\zhao-\\Jiaheng\\BSA protein\\data\\Superspectra20231107\\Results\\1x1_2_FigureData\\Cysteamine-BSA_rf2.csv\n",
      "MAE: 1.13928815316699\n",
      "RMSE: 1.7315754491453446\n",
      "R^2: 0.8836704801365949\n",
      "SVR plot data saved to C:\\Users\\zhao-\\Jiaheng\\BSA protein\\data\\Superspectra20231107\\Results\\1x1_2_FigureData\\Cysteine-BSA_svr2.csv\n",
      "MAE: 1.447472735408927\n",
      "RMSE: 2.432833371926602\n",
      "R^2: 0.7703683082210673\n",
      "RF plot data saved to C:\\Users\\zhao-\\Jiaheng\\BSA protein\\data\\Superspectra20231107\\Results\\1x1_2_FigureData\\Cysteine-BSA_rf2.csv\n",
      "MAE: 1.13928815316699\n",
      "RMSE: 1.7315754491453446\n",
      "R^2: 0.8836704801365949\n",
      "SVR plot data saved to C:\\Users\\zhao-\\Jiaheng\\BSA protein\\data\\Superspectra20231107\\Results\\1x1_2_FigureData\\MCH-BSA_svr2.csv\n",
      "MAE: 1.4378078863816635\n",
      "RMSE: 2.4519610230597806\n",
      "R^2: 0.7667432496570303\n",
      "RF plot data saved to C:\\Users\\zhao-\\Jiaheng\\BSA protein\\data\\Superspectra20231107\\Results\\1x1_2_FigureData\\MCH-BSA_rf2.csv\n",
      "MAE: 1.0870667099649336\n",
      "RMSE: 1.6189937816849933\n",
      "R^2: 0.8983055017808826\n",
      "SVR plot data saved to C:\\Users\\zhao-\\Jiaheng\\BSA protein\\data\\Superspectra20231107\\Results\\1x1_3_FigureData\\Bare-BSA_svr3.csv\n",
      "MAE: 1.398176840013886\n",
      "RMSE: 2.21969684908353\n",
      "R^2: 0.8088411419435716\n",
      "RF plot data saved to C:\\Users\\zhao-\\Jiaheng\\BSA protein\\data\\Superspectra20231107\\Results\\1x1_3_FigureData\\Bare-BSA_rf3.csv\n",
      "MAE: 1.0870667099649336\n",
      "RMSE: 1.6189937816849933\n",
      "R^2: 0.8983055017808826\n",
      "SVR plot data saved to C:\\Users\\zhao-\\Jiaheng\\BSA protein\\data\\Superspectra20231107\\Results\\1x1_3_FigureData\\Cysteamine-BSA_svr3.csv\n",
      "MAE: 1.3972884982279872\n",
      "RMSE: 2.227189490974276\n",
      "R^2: 0.8075484408931194\n",
      "RF plot data saved to C:\\Users\\zhao-\\Jiaheng\\BSA protein\\data\\Superspectra20231107\\Results\\1x1_3_FigureData\\Cysteamine-BSA_rf3.csv\n",
      "MAE: 1.0870667099649336\n",
      "RMSE: 1.6189937816849933\n",
      "R^2: 0.8983055017808826\n",
      "SVR plot data saved to C:\\Users\\zhao-\\Jiaheng\\BSA protein\\data\\Superspectra20231107\\Results\\1x1_3_FigureData\\Cysteine-BSA_svr3.csv\n",
      "MAE: 1.3513622889544286\n",
      "RMSE: 2.1483536531708913\n",
      "R^2: 0.8209317267466736\n",
      "RF plot data saved to C:\\Users\\zhao-\\Jiaheng\\BSA protein\\data\\Superspectra20231107\\Results\\1x1_3_FigureData\\Cysteine-BSA_rf3.csv\n",
      "MAE: 1.0870667099649336\n",
      "RMSE: 1.6189937816849933\n",
      "R^2: 0.8983055017808826\n",
      "SVR plot data saved to C:\\Users\\zhao-\\Jiaheng\\BSA protein\\data\\Superspectra20231107\\Results\\1x1_3_FigureData\\MCH-BSA_svr3.csv\n",
      "MAE: 1.371840275321609\n",
      "RMSE: 2.1685554120087205\n",
      "R^2: 0.8175482033873522\n",
      "RF plot data saved to C:\\Users\\zhao-\\Jiaheng\\BSA protein\\data\\Superspectra20231107\\Results\\1x1_3_FigureData\\MCH-BSA_rf3.csv\n",
      "MAE: 1.1287436107368753\n",
      "RMSE: 1.7790574178565293\n",
      "R^2: 0.8772032066258119\n",
      "SVR plot data saved to C:\\Users\\zhao-\\Jiaheng\\BSA protein\\data\\Superspectra20231107\\Results\\1x1_4_FigureData\\Bare-BSA_svr4.csv\n",
      "MAE: 1.4296325354378425\n",
      "RMSE: 2.332225879545643\n",
      "R^2: 0.788967999084992\n",
      "RF plot data saved to C:\\Users\\zhao-\\Jiaheng\\BSA protein\\data\\Superspectra20231107\\Results\\1x1_4_FigureData\\Bare-BSA_rf4.csv\n",
      "MAE: 1.1287436107368753\n",
      "RMSE: 1.7790574178565293\n",
      "R^2: 0.8772032066258119\n",
      "SVR plot data saved to C:\\Users\\zhao-\\Jiaheng\\BSA protein\\data\\Superspectra20231107\\Results\\1x1_4_FigureData\\Cysteamine-BSA_svr4.csv\n",
      "MAE: 1.4389642530917028\n",
      "RMSE: 2.3097270880461607\n",
      "R^2: 0.793019976567632\n",
      "RF plot data saved to C:\\Users\\zhao-\\Jiaheng\\BSA protein\\data\\Superspectra20231107\\Results\\1x1_4_FigureData\\Cysteamine-BSA_rf4.csv\n",
      "MAE: 1.1287436107368753\n",
      "RMSE: 1.7790574178565293\n",
      "R^2: 0.8772032066258119\n",
      "SVR plot data saved to C:\\Users\\zhao-\\Jiaheng\\BSA protein\\data\\Superspectra20231107\\Results\\1x1_4_FigureData\\Cysteine-BSA_svr4.csv\n",
      "MAE: 1.4513128344000663\n",
      "RMSE: 2.355586129194003\n",
      "R^2: 0.7847193118360658\n",
      "RF plot data saved to C:\\Users\\zhao-\\Jiaheng\\BSA protein\\data\\Superspectra20231107\\Results\\1x1_4_FigureData\\Cysteine-BSA_rf4.csv\n",
      "MAE: 1.1287436107368753\n",
      "RMSE: 1.7790574178565293\n",
      "R^2: 0.8772032066258119\n",
      "SVR plot data saved to C:\\Users\\zhao-\\Jiaheng\\BSA protein\\data\\Superspectra20231107\\Results\\1x1_4_FigureData\\MCH-BSA_svr4.csv\n",
      "MAE: 1.43745708351404\n",
      "RMSE: 2.34972505724135\n",
      "R^2: 0.7857892840513031\n",
      "RF plot data saved to C:\\Users\\zhao-\\Jiaheng\\BSA protein\\data\\Superspectra20231107\\Results\\1x1_4_FigureData\\MCH-BSA_rf4.csv\n",
      "MAE: 1.3045341091708669\n",
      "RMSE: 1.924182710843569\n",
      "R^2: 0.8563519573753111\n",
      "SVR plot data saved to C:\\Users\\zhao-\\Jiaheng\\BSA protein\\data\\Superspectra20231107\\Results\\1x1_5_FigureData\\Bare-BSA_svr5.csv\n",
      "MAE: 1.5376635106582552\n",
      "RMSE: 2.2923942879291377\n",
      "R^2: 0.796114785870347\n",
      "RF plot data saved to C:\\Users\\zhao-\\Jiaheng\\BSA protein\\data\\Superspectra20231107\\Results\\1x1_5_FigureData\\Bare-BSA_rf5.csv\n",
      "MAE: 1.3045341091708669\n",
      "RMSE: 1.924182710843569\n",
      "R^2: 0.8563519573753111\n",
      "SVR plot data saved to C:\\Users\\zhao-\\Jiaheng\\BSA protein\\data\\Superspectra20231107\\Results\\1x1_5_FigureData\\Cysteamine-BSA_svr5.csv\n",
      "MAE: 1.5103219979475877\n",
      "RMSE: 2.2462886161926665\n",
      "R^2: 0.8042335755683988\n",
      "RF plot data saved to C:\\Users\\zhao-\\Jiaheng\\BSA protein\\data\\Superspectra20231107\\Results\\1x1_5_FigureData\\Cysteamine-BSA_rf5.csv\n",
      "MAE: 1.3045341091708669\n",
      "RMSE: 1.924182710843569\n",
      "R^2: 0.8563519573753111\n",
      "SVR plot data saved to C:\\Users\\zhao-\\Jiaheng\\BSA protein\\data\\Superspectra20231107\\Results\\1x1_5_FigureData\\Cysteine-BSA_svr5.csv\n",
      "MAE: 1.5273954857341323\n",
      "RMSE: 2.2941148532836833\n",
      "R^2: 0.7958086173513307\n",
      "RF plot data saved to C:\\Users\\zhao-\\Jiaheng\\BSA protein\\data\\Superspectra20231107\\Results\\1x1_5_FigureData\\Cysteine-BSA_rf5.csv\n",
      "MAE: 1.3045341091708669\n",
      "RMSE: 1.924182710843569\n",
      "R^2: 0.8563519573753111\n",
      "SVR plot data saved to C:\\Users\\zhao-\\Jiaheng\\BSA protein\\data\\Superspectra20231107\\Results\\1x1_5_FigureData\\MCH-BSA_svr5.csv\n",
      "MAE: 1.53390316021163\n",
      "RMSE: 2.3082433276050747\n",
      "R^2: 0.7932858176097738\n",
      "RF plot data saved to C:\\Users\\zhao-\\Jiaheng\\BSA protein\\data\\Superspectra20231107\\Results\\1x1_5_FigureData\\MCH-BSA_rf5.csv\n"
     ]
    }
   ],
   "source": [
    "for i in range(START, START+iteration_number):\n",
    "    modification_combination_list = ['Bare-BSA', 'Cysteamine-BSA', 'Cysteine-BSA', 'MCH-BSA']\n",
    "    \n",
    "    for modification in modification_combination_list:\n",
    "        # Step 1: reformat the train and test sets\n",
    "        # train\n",
    "        file_path = f\"{WORKING_PATH}\\\\BSAML101_test_train_dataset\\\\train_test_set{i}\\\\train_dataset{i}.csv\"\n",
    "\n",
    "        # Read the CSV file into a DataFrame\n",
    "        train = pd.read_csv(file_path)\n",
    "\n",
    "#         # Display the first few rows of the data to verify\n",
    "#         print(train.head())\n",
    "\n",
    "        # Select training data with a specific label\n",
    "        selected_label = train['label'].iloc[0] # always choose the first label. This label has no use, but just to ensure that the code can run.\n",
    "        selected_data_train = train[train['label'] == selected_label] # split training data\n",
    "        # selected_data_train\n",
    "\n",
    "        # Get the indices of the selected data\n",
    "        selected_indices_train = selected_data_train.index\n",
    "        # selected_indices_train\n",
    "\n",
    "        # Get new X_train and y_train_reg\n",
    "        X_train_split = selected_data_train.values[:,:-2]\n",
    "        y_train_reg_split = np.log10(selected_data_train.values[:,-1].astype(float)+1e-20) # we only need the regression part.\n",
    "\n",
    "        # test\n",
    "        tfile_path = f\"{WORKING_PATH}\\\\BSAML101_test_train_dataset\\\\train_test_set{i}\\\\test_dataset{i}.csv\"\n",
    "\n",
    "        # Read the CSV file into a DataFrame\n",
    "        test = pd.read_csv(tfile_path)\n",
    "\n",
    "#         # Display the first few rows of the data to verify\n",
    "#         print(test.head())\n",
    "\n",
    "        # Similarly, select testing data with the specific label\n",
    "        selected_data_test = test[test['label'] == selected_label] # split testing data\n",
    "        # selected_data_test\n",
    "\n",
    "        # Get the indices of the selected data\n",
    "        selected_indices_test = selected_data_test.index\n",
    "        # selected_indices_test\n",
    "\n",
    "        # Get new X_test and y_test_reg\n",
    "        X_test_split = selected_data_test.values[:,:-2]\n",
    "        y_test_reg_split = np.log10(selected_data_test.values[:,-1].astype(float)+1e-20) # we only need the regression part.\n",
    "     \n",
    "    \n",
    "        # Step 2: SVR calculation\n",
    "        # Create a svr\n",
    "        svr = svm.SVR(kernel = 'rbf', C = 1000, epsilon = 0.1)\n",
    "        # sklearn.svr only accept label vectors as input, not one-hot vectors.\n",
    "        y_train_reg_split_label = y_train_reg_split\n",
    "        with parallel_backend('threading', n_jobs=-1):\n",
    "            # Fit the SVR model\n",
    "            svr.fit(X_train_split, y_train_reg_split_label)\n",
    "        svr_pred = svr.predict(X_test_split)\n",
    "        \n",
    "        # Comparing results\n",
    "        y_test_reg_split_label = y_test_reg_split\n",
    "\n",
    "        # Saving performances and pred vs real curve\n",
    "        MAE = mean_absolute_error(y_test_reg_split_label, svr_pred)\n",
    "        RMSE = np.sqrt(mean_squared_error(y_test_reg_split_label, svr_pred))\n",
    "        R_squared = r2_score(y_test_reg_split_label, svr_pred)\n",
    "\n",
    "        print(\"MAE:\", MAE)\n",
    "        print(\"RMSE:\", RMSE)\n",
    "        print(\"R^2:\", R_squared)\n",
    "        \n",
    "        # New directory where you want to save the file\n",
    "        save_directory = f\"{WORKING_PATH}\\\\Superspectra20250705\\\\Results\\\\1x1_{i}_FigureData\"\n",
    "        os.makedirs(save_directory, exist_ok=True)\n",
    "#         # Extract the base filename from the original file_path\n",
    "#         base_filename = os.path.basename(file_path)\n",
    "\n",
    "        # Create a DataFrame with these metrics\n",
    "        performance_metrics_df = pd.DataFrame({\n",
    "            'MAE': [MAE],\n",
    "            'RMSE': [RMSE],\n",
    "            'R^2': [R_squared]\n",
    "        })\n",
    "        \n",
    "        # Construct the new file path with the same filename in the new directory\n",
    "        save_file_path = os.path.join(save_directory, f\"{modification}_performance_svr{i}.csv\")\n",
    "        # Save the DataFrame to a CSV file in the new location with the same name\n",
    "        performance_metrics_df.to_csv(save_file_path, index=False)\n",
    "        \n",
    "        # Actual and predicted values\n",
    "#         plt.figure(figsize=(6, 6))\n",
    "#         plt.scatter(y_test_reg_split, svr_pred, edgecolors=\"grey\", linewidths=0.2, alpha = 0.3)\n",
    "#         plt.axline([plt.xlim()[0], plt.xlim()[0]], [plt.xlim()[1], plt.xlim()[1]], linestyle='--', color=\"grey\")\n",
    "#         plt.xlabel(\"Actual log10(C)\")\n",
    "#         plt.ylabel(\"Predicted log10(C)\")\n",
    "#         plt.title(modification)\n",
    "        \n",
    "        plot_data_df = pd.DataFrame({\n",
    "            'Actual_log10(C)': y_test_reg_split,\n",
    "            'Predicted_log10(C)': svr_pred\n",
    "        })\n",
    "\n",
    "        # Construct the new file path with the same filename in the new directory\n",
    "        save_file_path = os.path.join(save_directory, f\"{modification}_svr{i}.csv\")\n",
    "        # Save the DataFrame to a CSV file in the new location with the same name\n",
    "        plot_data_df.to_csv(save_file_path, index=False)\n",
    "\n",
    "        print(f\"SVR plot data saved to {save_file_path}\")\n",
    "\n",
    "        \n",
    "        # Step 3: RF calculation\n",
    "        # Create an rf\n",
    "        rf = RandomForestRegressor(n_estimators=100, criterion=\"squared_error\", max_depth=None, n_jobs=-1, verbose=0)\n",
    "        rf.fit(X_train_split, y_train_reg_split_label)\n",
    "        rf_pred = rf.predict(X_test_split)\n",
    "\n",
    "        # Saving performances and pred vs real curve\n",
    "        MAE = mean_absolute_error(y_test_reg_split_label, rf_pred)\n",
    "        RMSE = np.sqrt(mean_squared_error(y_test_reg_split_label, rf_pred))\n",
    "        R_squared = r2_score(y_test_reg_split_label, rf_pred)\n",
    "\n",
    "        print(\"MAE:\", MAE)\n",
    "        print(\"RMSE:\", RMSE)\n",
    "        print(\"R^2:\", R_squared)\n",
    "       \n",
    "        # Create a DataFrame with these metrics\n",
    "        performance_metrics_df = pd.DataFrame({\n",
    "            'MAE': [MAE],\n",
    "            'RMSE': [RMSE],\n",
    "            'R^2': [R_squared]\n",
    "        })\n",
    "        \n",
    "        # Construct the new file path with the same filename in the new directory\n",
    "        save_file_path = os.path.join(save_directory, f\"{modification}_performance_rf{i}.csv\")\n",
    "        # Save the DataFrame to a CSV file in the new location with the same name\n",
    "        performance_metrics_df.to_csv(save_file_path, index=False)\n",
    "        \n",
    "        # Actual and predicted values\n",
    "#         plt.figure(figsize=(6, 6))\n",
    "#         plt.scatter(y_test_reg_split, rf_pred, edgecolors=\"grey\", linewidths=0.2, alpha = 0.3)\n",
    "#         plt.axline([plt.xlim()[0], plt.xlim()[0]], [plt.xlim()[1], plt.xlim()[1]], linestyle='--', color=\"grey\")\n",
    "#         plt.xlabel(\"Actual log10(C)\")\n",
    "#         plt.ylabel(\"Predicted log10(C)\")\n",
    "#         plt.title(modification)\n",
    "\n",
    "        plot_data_df = pd.DataFrame({\n",
    "            'Actual_log10(C)': y_test_reg_split,\n",
    "            'Predicted_log10(C)': rf_pred\n",
    "        })\n",
    "\n",
    "        # Construct the new file path with the same filename in the new directory\n",
    "        save_file_path = os.path.join(save_directory, f\"{modification}_rf{i}.csv\")\n",
    "        # Save the DataFrame to a CSV file in the new location with the same name\n",
    "        plot_data_df.to_csv(save_file_path, index=False)\n",
    "\n",
    "        print(f\"RF plot data saved to {save_file_path}\")\n"
   ]
  },
  {
   "cell_type": "markdown",
   "id": "cccae89f",
   "metadata": {},
   "source": [
    "### 2x2 superspectra"
   ]
  },
  {
   "cell_type": "code",
   "execution_count": 14,
   "id": "e38798aa",
   "metadata": {},
   "outputs": [],
   "source": [
    "# set the number of total iterations (groups)\n",
    "iteration_number = 10\n",
    "START = 1 # Included"
   ]
  },
  {
   "cell_type": "code",
   "execution_count": 15,
   "id": "208fdc14",
   "metadata": {
    "scrolled": true
   },
   "outputs": [
    {
     "name": "stderr",
     "output_type": "stream",
     "text": [
      "C:\\Users\\zhao-\\AppData\\Local\\Temp\\ipykernel_11060\\2281128983.py:21: DtypeWarning: Columns (2798) have mixed types. Specify dtype option on import or set low_memory=False.\n",
      "  train = pd.read_csv(file_path)\n"
     ]
    },
    {
     "name": "stdout",
     "output_type": "stream",
     "text": [
      "NaN values found in the DataFrame. Imputing with median values...\n",
      "NaN values found in the DataFrame. Imputing with median values...\n",
      "MAE: 3.2091488778761783\n",
      "RMSE: 4.698540119177747\n",
      "R^2: 0.1625249136157637\n",
      "SVR plot data saved to C:\\Users\\zhao-\\Jiaheng\\BSA protein\\data\\Superspectra20231107\\Results\\2x2_1_FigureData\\Bare_Cysteamine_svr1.csv\n",
      "MAE: 2.1136249553807556\n",
      "RMSE: 3.8974566299995854\n",
      "R^2: 0.4237531032253342\n",
      "RF plot data saved to C:\\Users\\zhao-\\Jiaheng\\BSA protein\\data\\Superspectra20231107\\Results\\2x2_1_FigureData\\Bare_Cysteamine_rf1.csv\n"
     ]
    },
    {
     "name": "stderr",
     "output_type": "stream",
     "text": [
      "C:\\Users\\zhao-\\AppData\\Local\\Temp\\ipykernel_11060\\2281128983.py:21: DtypeWarning: Columns (2798) have mixed types. Specify dtype option on import or set low_memory=False.\n",
      "  train = pd.read_csv(file_path)\n"
     ]
    },
    {
     "name": "stdout",
     "output_type": "stream",
     "text": [
      "NaN values found in the DataFrame. Imputing with median values...\n",
      "NaN values found in the DataFrame. Imputing with median values...\n",
      "MAE: 2.131583159431404\n",
      "RMSE: 3.4404062800580495\n",
      "R^2: 0.5719569547010224\n",
      "SVR plot data saved to C:\\Users\\zhao-\\Jiaheng\\BSA protein\\data\\Superspectra20231107\\Results\\2x2_1_FigureData\\Bare_Cysteine_svr1.csv\n",
      "MAE: 0.26346159624534776\n",
      "RMSE: 0.48621122015580137\n",
      "R^2: 0.9914509484647269\n",
      "RF plot data saved to C:\\Users\\zhao-\\Jiaheng\\BSA protein\\data\\Superspectra20231107\\Results\\2x2_1_FigureData\\Bare_Cysteine_rf1.csv\n"
     ]
    },
    {
     "name": "stderr",
     "output_type": "stream",
     "text": [
      "C:\\Users\\zhao-\\AppData\\Local\\Temp\\ipykernel_11060\\2281128983.py:21: DtypeWarning: Columns (2798) have mixed types. Specify dtype option on import or set low_memory=False.\n",
      "  train = pd.read_csv(file_path)\n"
     ]
    },
    {
     "name": "stdout",
     "output_type": "stream",
     "text": [
      "NaN values found in the DataFrame. Imputing with median values...\n",
      "NaN values found in the DataFrame. Imputing with median values...\n",
      "MAE: 1.7573360047063409\n",
      "RMSE: 2.4491600292669395\n",
      "R^2: 0.7659060967110038\n",
      "SVR plot data saved to C:\\Users\\zhao-\\Jiaheng\\BSA protein\\data\\Superspectra20231107\\Results\\2x2_1_FigureData\\Bare_MCH_svr1.csv\n",
      "MAE: 0.9170010580127841\n",
      "RMSE: 1.6270387991853386\n",
      "R^2: 0.8966878032956691\n",
      "RF plot data saved to C:\\Users\\zhao-\\Jiaheng\\BSA protein\\data\\Superspectra20231107\\Results\\2x2_1_FigureData\\Bare_MCH_rf1.csv\n",
      "NaN values found in the DataFrame. Imputing with median values...\n",
      "NaN values found in the DataFrame. Imputing with median values...\n",
      "MAE: 0.7237195774136683\n",
      "RMSE: 1.1126384118605248\n",
      "R^2: 0.9552311354337956\n",
      "SVR plot data saved to C:\\Users\\zhao-\\Jiaheng\\BSA protein\\data\\Superspectra20231107\\Results\\2x2_1_FigureData\\Cysteamine_Cysteine_svr1.csv\n",
      "MAE: 0.28448919299389835\n",
      "RMSE: 0.507929051843465\n",
      "R^2: 0.9906701622951576\n",
      "RF plot data saved to C:\\Users\\zhao-\\Jiaheng\\BSA protein\\data\\Superspectra20231107\\Results\\2x2_1_FigureData\\Cysteamine_Cysteine_rf1.csv\n",
      "NaN values found in the DataFrame. Imputing with median values...\n",
      "NaN values found in the DataFrame. Imputing with median values...\n",
      "MAE: 0.9687363223061404\n",
      "RMSE: 1.4597358908892568\n",
      "R^2: 0.9168419399140372\n",
      "SVR plot data saved to C:\\Users\\zhao-\\Jiaheng\\BSA protein\\data\\Superspectra20231107\\Results\\2x2_1_FigureData\\Cysteamine_MCH_svr1.csv\n",
      "MAE: 1.1504952475415546\n",
      "RMSE: 3.067133660117316\n",
      "R^2: 0.6328688950894352\n",
      "RF plot data saved to C:\\Users\\zhao-\\Jiaheng\\BSA protein\\data\\Superspectra20231107\\Results\\2x2_1_FigureData\\Cysteamine_MCH_rf1.csv\n",
      "NaN values found in the DataFrame. Imputing with median values...\n",
      "NaN values found in the DataFrame. Imputing with median values...\n",
      "MAE: 0.7148735815538064\n",
      "RMSE: 0.9616338444809851\n",
      "R^2: 0.9639109660608965\n",
      "SVR plot data saved to C:\\Users\\zhao-\\Jiaheng\\BSA protein\\data\\Superspectra20231107\\Results\\2x2_1_FigureData\\Cysteine_MCH_svr1.csv\n",
      "MAE: 0.49918729425463165\n",
      "RMSE: 0.8335697436023234\n",
      "R^2: 0.9728831235739291\n",
      "RF plot data saved to C:\\Users\\zhao-\\Jiaheng\\BSA protein\\data\\Superspectra20231107\\Results\\2x2_1_FigureData\\Cysteine_MCH_rf1.csv\n"
     ]
    },
    {
     "name": "stderr",
     "output_type": "stream",
     "text": [
      "C:\\Users\\zhao-\\AppData\\Local\\Temp\\ipykernel_11060\\2281128983.py:21: DtypeWarning: Columns (2798) have mixed types. Specify dtype option on import or set low_memory=False.\n",
      "  train = pd.read_csv(file_path)\n"
     ]
    },
    {
     "name": "stdout",
     "output_type": "stream",
     "text": [
      "NaN values found in the DataFrame. Imputing with median values...\n",
      "NaN values found in the DataFrame. Imputing with median values...\n",
      "MAE: 2.9926292485727473\n",
      "RMSE: 4.634458869806313\n",
      "R^2: 0.18521301773482235\n",
      "SVR plot data saved to C:\\Users\\zhao-\\Jiaheng\\BSA protein\\data\\Superspectra20231107\\Results\\2x2_2_FigureData\\Bare_Cysteamine_svr2.csv\n",
      "MAE: 1.9297284860726425\n",
      "RMSE: 3.4315585957825836\n",
      "R^2: 0.5532867281710134\n",
      "RF plot data saved to C:\\Users\\zhao-\\Jiaheng\\BSA protein\\data\\Superspectra20231107\\Results\\2x2_2_FigureData\\Bare_Cysteamine_rf2.csv\n"
     ]
    },
    {
     "name": "stderr",
     "output_type": "stream",
     "text": [
      "C:\\Users\\zhao-\\AppData\\Local\\Temp\\ipykernel_11060\\2281128983.py:21: DtypeWarning: Columns (2798) have mixed types. Specify dtype option on import or set low_memory=False.\n",
      "  train = pd.read_csv(file_path)\n"
     ]
    },
    {
     "name": "stdout",
     "output_type": "stream",
     "text": [
      "NaN values found in the DataFrame. Imputing with median values...\n",
      "NaN values found in the DataFrame. Imputing with median values...\n",
      "MAE: 2.785080786114189\n",
      "RMSE: 4.115909262272806\n",
      "R^2: 0.3873681584871288\n",
      "SVR plot data saved to C:\\Users\\zhao-\\Jiaheng\\BSA protein\\data\\Superspectra20231107\\Results\\2x2_2_FigureData\\Bare_Cysteine_svr2.csv\n",
      "MAE: 0.22014975856571897\n",
      "RMSE: 0.36959009165346995\n",
      "R^2: 0.9950602084707517\n",
      "RF plot data saved to C:\\Users\\zhao-\\Jiaheng\\BSA protein\\data\\Superspectra20231107\\Results\\2x2_2_FigureData\\Bare_Cysteine_rf2.csv\n"
     ]
    },
    {
     "name": "stderr",
     "output_type": "stream",
     "text": [
      "C:\\Users\\zhao-\\AppData\\Local\\Temp\\ipykernel_11060\\2281128983.py:21: DtypeWarning: Columns (2798) have mixed types. Specify dtype option on import or set low_memory=False.\n",
      "  train = pd.read_csv(file_path)\n"
     ]
    },
    {
     "name": "stdout",
     "output_type": "stream",
     "text": [
      "NaN values found in the DataFrame. Imputing with median values...\n",
      "NaN values found in the DataFrame. Imputing with median values...\n",
      "MAE: 2.092849153641896\n",
      "RMSE: 3.6472036303052335\n",
      "R^2: 0.48087039096181017\n",
      "SVR plot data saved to C:\\Users\\zhao-\\Jiaheng\\BSA protein\\data\\Superspectra20231107\\Results\\2x2_2_FigureData\\Bare_MCH_svr2.csv\n",
      "MAE: 1.289994766817996\n",
      "RMSE: 3.0507508945870487\n",
      "R^2: 0.6367804035165032\n",
      "RF plot data saved to C:\\Users\\zhao-\\Jiaheng\\BSA protein\\data\\Superspectra20231107\\Results\\2x2_2_FigureData\\Bare_MCH_rf2.csv\n",
      "NaN values found in the DataFrame. Imputing with median values...\n",
      "NaN values found in the DataFrame. Imputing with median values...\n",
      "MAE: 0.5909456610088448\n",
      "RMSE: 0.7973410709736206\n",
      "R^2: 0.977009085203676\n",
      "SVR plot data saved to C:\\Users\\zhao-\\Jiaheng\\BSA protein\\data\\Superspectra20231107\\Results\\2x2_2_FigureData\\Cysteamine_Cysteine_svr2.csv\n",
      "MAE: 0.17995796276888598\n",
      "RMSE: 0.313495460403723\n",
      "R^2: 0.9964458930336816\n",
      "RF plot data saved to C:\\Users\\zhao-\\Jiaheng\\BSA protein\\data\\Superspectra20231107\\Results\\2x2_2_FigureData\\Cysteamine_Cysteine_rf2.csv\n",
      "NaN values found in the DataFrame. Imputing with median values...\n",
      "NaN values found in the DataFrame. Imputing with median values...\n",
      "MAE: 0.9498214350179126\n",
      "RMSE: 1.4334332835370398\n",
      "R^2: 0.9198117481550596\n",
      "SVR plot data saved to C:\\Users\\zhao-\\Jiaheng\\BSA protein\\data\\Superspectra20231107\\Results\\2x2_2_FigureData\\Cysteamine_MCH_svr2.csv\n",
      "MAE: 1.0596025997620369\n",
      "RMSE: 2.4177483061943335\n",
      "R^2: 0.7718723364954883\n",
      "RF plot data saved to C:\\Users\\zhao-\\Jiaheng\\BSA protein\\data\\Superspectra20231107\\Results\\2x2_2_FigureData\\Cysteamine_MCH_rf2.csv\n",
      "NaN values found in the DataFrame. Imputing with median values...\n",
      "NaN values found in the DataFrame. Imputing with median values...\n",
      "MAE: 0.6721609576465135\n",
      "RMSE: 0.96428796653733\n",
      "R^2: 0.9637114787299595\n",
      "SVR plot data saved to C:\\Users\\zhao-\\Jiaheng\\BSA protein\\data\\Superspectra20231107\\Results\\2x2_2_FigureData\\Cysteine_MCH_svr2.csv\n",
      "MAE: 0.40861154361806457\n",
      "RMSE: 0.654495025411774\n",
      "R^2: 0.983282609894414\n",
      "RF plot data saved to C:\\Users\\zhao-\\Jiaheng\\BSA protein\\data\\Superspectra20231107\\Results\\2x2_2_FigureData\\Cysteine_MCH_rf2.csv\n"
     ]
    },
    {
     "name": "stderr",
     "output_type": "stream",
     "text": [
      "C:\\Users\\zhao-\\AppData\\Local\\Temp\\ipykernel_11060\\2281128983.py:21: DtypeWarning: Columns (2798) have mixed types. Specify dtype option on import or set low_memory=False.\n",
      "  train = pd.read_csv(file_path)\n"
     ]
    },
    {
     "name": "stdout",
     "output_type": "stream",
     "text": [
      "NaN values found in the DataFrame. Imputing with median values...\n",
      "NaN values found in the DataFrame. Imputing with median values...\n",
      "MAE: 2.451194890769983\n",
      "RMSE: 4.115719817131831\n",
      "R^2: 0.3574045868914083\n",
      "SVR plot data saved to C:\\Users\\zhao-\\Jiaheng\\BSA protein\\data\\Superspectra20231107\\Results\\2x2_3_FigureData\\Bare_Cysteamine_svr3.csv\n",
      "MAE: 1.6375087663641077\n",
      "RMSE: 2.6862716762020145\n",
      "R^2: 0.7262551968226505\n",
      "RF plot data saved to C:\\Users\\zhao-\\Jiaheng\\BSA protein\\data\\Superspectra20231107\\Results\\2x2_3_FigureData\\Bare_Cysteamine_rf3.csv\n"
     ]
    },
    {
     "name": "stderr",
     "output_type": "stream",
     "text": [
      "C:\\Users\\zhao-\\AppData\\Local\\Temp\\ipykernel_11060\\2281128983.py:21: DtypeWarning: Columns (2798) have mixed types. Specify dtype option on import or set low_memory=False.\n",
      "  train = pd.read_csv(file_path)\n"
     ]
    },
    {
     "name": "stdout",
     "output_type": "stream",
     "text": [
      "NaN values found in the DataFrame. Imputing with median values...\n",
      "NaN values found in the DataFrame. Imputing with median values...\n",
      "MAE: 2.2568158450352165\n",
      "RMSE: 3.498195969315563\n",
      "R^2: 0.557456209098417\n",
      "SVR plot data saved to C:\\Users\\zhao-\\Jiaheng\\BSA protein\\data\\Superspectra20231107\\Results\\2x2_3_FigureData\\Bare_Cysteine_svr3.csv\n",
      "MAE: 0.2798988113597196\n",
      "RMSE: 0.47359827146311545\n",
      "R^2: 0.99188874230941\n",
      "RF plot data saved to C:\\Users\\zhao-\\Jiaheng\\BSA protein\\data\\Superspectra20231107\\Results\\2x2_3_FigureData\\Bare_Cysteine_rf3.csv\n"
     ]
    },
    {
     "name": "stderr",
     "output_type": "stream",
     "text": [
      "C:\\Users\\zhao-\\AppData\\Local\\Temp\\ipykernel_11060\\2281128983.py:21: DtypeWarning: Columns (2798) have mixed types. Specify dtype option on import or set low_memory=False.\n",
      "  train = pd.read_csv(file_path)\n"
     ]
    },
    {
     "name": "stdout",
     "output_type": "stream",
     "text": [
      "NaN values found in the DataFrame. Imputing with median values...\n",
      "NaN values found in the DataFrame. Imputing with median values...\n",
      "MAE: 2.098739672594697\n",
      "RMSE: 3.523606407183968\n",
      "R^2: 0.5154589690020623\n",
      "SVR plot data saved to C:\\Users\\zhao-\\Jiaheng\\BSA protein\\data\\Superspectra20231107\\Results\\2x2_3_FigureData\\Bare_MCH_svr3.csv\n",
      "MAE: 1.0233099200746187\n",
      "RMSE: 2.063739569023016\n",
      "R^2: 0.8337867814030829\n",
      "RF plot data saved to C:\\Users\\zhao-\\Jiaheng\\BSA protein\\data\\Superspectra20231107\\Results\\2x2_3_FigureData\\Bare_MCH_rf3.csv\n",
      "NaN values found in the DataFrame. Imputing with median values...\n",
      "NaN values found in the DataFrame. Imputing with median values...\n",
      "MAE: 0.5817349534190344\n",
      "RMSE: 0.8682933001579952\n",
      "R^2: 0.9727352900671086\n",
      "SVR plot data saved to C:\\Users\\zhao-\\Jiaheng\\BSA protein\\data\\Superspectra20231107\\Results\\2x2_3_FigureData\\Cysteamine_Cysteine_svr3.csv\n",
      "MAE: 0.2444612542660358\n",
      "RMSE: 0.44604941753068683\n",
      "R^2: 0.9928049480358597\n",
      "RF plot data saved to C:\\Users\\zhao-\\Jiaheng\\BSA protein\\data\\Superspectra20231107\\Results\\2x2_3_FigureData\\Cysteamine_Cysteine_rf3.csv\n",
      "NaN values found in the DataFrame. Imputing with median values...\n",
      "NaN values found in the DataFrame. Imputing with median values...\n",
      "MAE: 0.7686033133815042\n",
      "RMSE: 1.1366949300597475\n",
      "R^2: 0.9495752651882081\n",
      "SVR plot data saved to C:\\Users\\zhao-\\Jiaheng\\BSA protein\\data\\Superspectra20231107\\Results\\2x2_3_FigureData\\Cysteamine_MCH_svr3.csv\n",
      "MAE: 0.7984860036867885\n",
      "RMSE: 1.5167103018985286\n",
      "R^2: 0.910223834853683\n",
      "RF plot data saved to C:\\Users\\zhao-\\Jiaheng\\BSA protein\\data\\Superspectra20231107\\Results\\2x2_3_FigureData\\Cysteamine_MCH_rf3.csv\n",
      "NaN values found in the DataFrame. Imputing with median values...\n",
      "NaN values found in the DataFrame. Imputing with median values...\n",
      "MAE: 0.626365116991377\n",
      "RMSE: 0.9175962671412791\n",
      "R^2: 0.9671406435659015\n",
      "SVR plot data saved to C:\\Users\\zhao-\\Jiaheng\\BSA protein\\data\\Superspectra20231107\\Results\\2x2_3_FigureData\\Cysteine_MCH_svr3.csv\n",
      "MAE: 0.5151943030038578\n",
      "RMSE: 0.8390741597044836\n",
      "R^2: 0.9725238125635193\n",
      "RF plot data saved to C:\\Users\\zhao-\\Jiaheng\\BSA protein\\data\\Superspectra20231107\\Results\\2x2_3_FigureData\\Cysteine_MCH_rf3.csv\n"
     ]
    },
    {
     "name": "stderr",
     "output_type": "stream",
     "text": [
      "C:\\Users\\zhao-\\AppData\\Local\\Temp\\ipykernel_11060\\2281128983.py:21: DtypeWarning: Columns (2798) have mixed types. Specify dtype option on import or set low_memory=False.\n",
      "  train = pd.read_csv(file_path)\n"
     ]
    },
    {
     "name": "stdout",
     "output_type": "stream",
     "text": [
      "NaN values found in the DataFrame. Imputing with median values...\n",
      "NaN values found in the DataFrame. Imputing with median values...\n",
      "MAE: 3.052978992698543\n",
      "RMSE: 4.720914625478685\n",
      "R^2: 0.1545297889034003\n",
      "SVR plot data saved to C:\\Users\\zhao-\\Jiaheng\\BSA protein\\data\\Superspectra20231107\\Results\\2x2_4_FigureData\\Bare_Cysteamine_svr4.csv\n",
      "MAE: 1.5449543088920792\n",
      "RMSE: 2.3528704760563306\n",
      "R^2: 0.7899889928242533\n",
      "RF plot data saved to C:\\Users\\zhao-\\Jiaheng\\BSA protein\\data\\Superspectra20231107\\Results\\2x2_4_FigureData\\Bare_Cysteamine_rf4.csv\n"
     ]
    },
    {
     "name": "stderr",
     "output_type": "stream",
     "text": [
      "C:\\Users\\zhao-\\AppData\\Local\\Temp\\ipykernel_11060\\2281128983.py:21: DtypeWarning: Columns (2798) have mixed types. Specify dtype option on import or set low_memory=False.\n",
      "  train = pd.read_csv(file_path)\n"
     ]
    },
    {
     "name": "stdout",
     "output_type": "stream",
     "text": [
      "NaN values found in the DataFrame. Imputing with median values...\n",
      "NaN values found in the DataFrame. Imputing with median values...\n",
      "MAE: 2.290694910480159\n",
      "RMSE: 3.453646360962349\n",
      "R^2: 0.568656048254769\n",
      "SVR plot data saved to C:\\Users\\zhao-\\Jiaheng\\BSA protein\\data\\Superspectra20231107\\Results\\2x2_4_FigureData\\Bare_Cysteine_svr4.csv\n",
      "MAE: 0.25558953070383683\n",
      "RMSE: 0.4648752358674596\n",
      "R^2: 0.9921847872501172\n",
      "RF plot data saved to C:\\Users\\zhao-\\Jiaheng\\BSA protein\\data\\Superspectra20231107\\Results\\2x2_4_FigureData\\Bare_Cysteine_rf4.csv\n"
     ]
    },
    {
     "name": "stderr",
     "output_type": "stream",
     "text": [
      "C:\\Users\\zhao-\\AppData\\Local\\Temp\\ipykernel_11060\\2281128983.py:21: DtypeWarning: Columns (2798) have mixed types. Specify dtype option on import or set low_memory=False.\n",
      "  train = pd.read_csv(file_path)\n"
     ]
    },
    {
     "name": "stdout",
     "output_type": "stream",
     "text": [
      "NaN values found in the DataFrame. Imputing with median values...\n",
      "NaN values found in the DataFrame. Imputing with median values...\n",
      "MAE: 1.9461783052675719\n",
      "RMSE: 3.212794859922565\n",
      "R^2: 0.5971700340409246\n",
      "SVR plot data saved to C:\\Users\\zhao-\\Jiaheng\\BSA protein\\data\\Superspectra20231107\\Results\\2x2_4_FigureData\\Bare_MCH_svr4.csv\n",
      "MAE: 0.970673334579205\n",
      "RMSE: 2.1024708687293714\n",
      "R^2: 0.8274894137286068\n",
      "RF plot data saved to C:\\Users\\zhao-\\Jiaheng\\BSA protein\\data\\Superspectra20231107\\Results\\2x2_4_FigureData\\Bare_MCH_rf4.csv\n",
      "NaN values found in the DataFrame. Imputing with median values...\n",
      "NaN values found in the DataFrame. Imputing with median values...\n",
      "MAE: 0.6822536636281177\n",
      "RMSE: 0.8520262733965134\n",
      "R^2: 0.9737473012079886\n",
      "SVR plot data saved to C:\\Users\\zhao-\\Jiaheng\\BSA protein\\data\\Superspectra20231107\\Results\\2x2_4_FigureData\\Cysteamine_Cysteine_svr4.csv\n",
      "MAE: 0.24846260273798684\n",
      "RMSE: 0.4660354853121496\n",
      "R^2: 0.9921457276868582\n",
      "RF plot data saved to C:\\Users\\zhao-\\Jiaheng\\BSA protein\\data\\Superspectra20231107\\Results\\2x2_4_FigureData\\Cysteamine_Cysteine_rf4.csv\n",
      "NaN values found in the DataFrame. Imputing with median values...\n",
      "NaN values found in the DataFrame. Imputing with median values...\n",
      "MAE: 0.9498517291524416\n",
      "RMSE: 1.463450951539138\n",
      "R^2: 0.9164181230238971\n",
      "SVR plot data saved to C:\\Users\\zhao-\\Jiaheng\\BSA protein\\data\\Superspectra20231107\\Results\\2x2_4_FigureData\\Cysteamine_MCH_svr4.csv\n",
      "MAE: 0.8327953008617316\n",
      "RMSE: 1.590837489242691\n",
      "R^2: 0.9012340123894443\n",
      "RF plot data saved to C:\\Users\\zhao-\\Jiaheng\\BSA protein\\data\\Superspectra20231107\\Results\\2x2_4_FigureData\\Cysteamine_MCH_rf4.csv\n",
      "NaN values found in the DataFrame. Imputing with median values...\n",
      "NaN values found in the DataFrame. Imputing with median values...\n",
      "MAE: 0.6999941544784821\n",
      "RMSE: 0.8906033320739544\n",
      "R^2: 0.9690454561679259\n",
      "SVR plot data saved to C:\\Users\\zhao-\\Jiaheng\\BSA protein\\data\\Superspectra20231107\\Results\\2x2_4_FigureData\\Cysteine_MCH_svr4.csv\n",
      "MAE: 0.4635344088278419\n",
      "RMSE: 0.6844375781325874\n",
      "R^2: 0.9817180099270244\n",
      "RF plot data saved to C:\\Users\\zhao-\\Jiaheng\\BSA protein\\data\\Superspectra20231107\\Results\\2x2_4_FigureData\\Cysteine_MCH_rf4.csv\n"
     ]
    },
    {
     "name": "stderr",
     "output_type": "stream",
     "text": [
      "C:\\Users\\zhao-\\AppData\\Local\\Temp\\ipykernel_11060\\2281128983.py:21: DtypeWarning: Columns (2798) have mixed types. Specify dtype option on import or set low_memory=False.\n",
      "  train = pd.read_csv(file_path)\n"
     ]
    },
    {
     "name": "stdout",
     "output_type": "stream",
     "text": [
      "NaN values found in the DataFrame. Imputing with median values...\n",
      "NaN values found in the DataFrame. Imputing with median values...\n",
      "MAE: 3.42764062294453\n",
      "RMSE: 5.041327624138663\n",
      "R^2: 0.03586941180205061\n",
      "SVR plot data saved to C:\\Users\\zhao-\\Jiaheng\\BSA protein\\data\\Superspectra20231107\\Results\\2x2_5_FigureData\\Bare_Cysteamine_svr5.csv\n",
      "MAE: 1.7527939146263805\n",
      "RMSE: 2.6823305738702743\n",
      "R^2: 0.7270578445086151\n",
      "RF plot data saved to C:\\Users\\zhao-\\Jiaheng\\BSA protein\\data\\Superspectra20231107\\Results\\2x2_5_FigureData\\Bare_Cysteamine_rf5.csv\n"
     ]
    },
    {
     "name": "stderr",
     "output_type": "stream",
     "text": [
      "C:\\Users\\zhao-\\AppData\\Local\\Temp\\ipykernel_11060\\2281128983.py:21: DtypeWarning: Columns (2798) have mixed types. Specify dtype option on import or set low_memory=False.\n",
      "  train = pd.read_csv(file_path)\n"
     ]
    },
    {
     "name": "stdout",
     "output_type": "stream",
     "text": [
      "NaN values found in the DataFrame. Imputing with median values...\n",
      "NaN values found in the DataFrame. Imputing with median values...\n",
      "MAE: 2.1290923593435243\n",
      "RMSE: 3.228677616354889\n",
      "R^2: 0.6230208356664346\n",
      "SVR plot data saved to C:\\Users\\zhao-\\Jiaheng\\BSA protein\\data\\Superspectra20231107\\Results\\2x2_5_FigureData\\Bare_Cysteine_svr5.csv\n",
      "MAE: 0.2495686801181841\n",
      "RMSE: 0.457121533488163\n",
      "R^2: 0.9924433146080542\n",
      "RF plot data saved to C:\\Users\\zhao-\\Jiaheng\\BSA protein\\data\\Superspectra20231107\\Results\\2x2_5_FigureData\\Bare_Cysteine_rf5.csv\n"
     ]
    },
    {
     "name": "stderr",
     "output_type": "stream",
     "text": [
      "C:\\Users\\zhao-\\AppData\\Local\\Temp\\ipykernel_11060\\2281128983.py:21: DtypeWarning: Columns (2798) have mixed types. Specify dtype option on import or set low_memory=False.\n",
      "  train = pd.read_csv(file_path)\n"
     ]
    },
    {
     "name": "stdout",
     "output_type": "stream",
     "text": [
      "NaN values found in the DataFrame. Imputing with median values...\n",
      "NaN values found in the DataFrame. Imputing with median values...\n",
      "MAE: 2.161415573620431\n",
      "RMSE: 3.8781005229310224\n",
      "R^2: 0.4130597385179662\n",
      "SVR plot data saved to C:\\Users\\zhao-\\Jiaheng\\BSA protein\\data\\Superspectra20231107\\Results\\2x2_5_FigureData\\Bare_MCH_svr5.csv\n",
      "MAE: 1.220528429844393\n",
      "RMSE: 2.367057255877205\n",
      "R^2: 0.7813380065279852\n",
      "RF plot data saved to C:\\Users\\zhao-\\Jiaheng\\BSA protein\\data\\Superspectra20231107\\Results\\2x2_5_FigureData\\Bare_MCH_rf5.csv\n",
      "NaN values found in the DataFrame. Imputing with median values...\n",
      "NaN values found in the DataFrame. Imputing with median values...\n",
      "MAE: 0.6375614581783585\n",
      "RMSE: 0.8643004488557632\n",
      "R^2: 0.9729854673444361\n",
      "SVR plot data saved to C:\\Users\\zhao-\\Jiaheng\\BSA protein\\data\\Superspectra20231107\\Results\\2x2_5_FigureData\\Cysteamine_Cysteine_svr5.csv\n",
      "MAE: 0.23807503378697986\n",
      "RMSE: 0.3922007846059938\n",
      "R^2: 0.9944373094888537\n",
      "RF plot data saved to C:\\Users\\zhao-\\Jiaheng\\BSA protein\\data\\Superspectra20231107\\Results\\2x2_5_FigureData\\Cysteamine_Cysteine_rf5.csv\n",
      "NaN values found in the DataFrame. Imputing with median values...\n",
      "NaN values found in the DataFrame. Imputing with median values...\n",
      "MAE: 0.9018326980051957\n",
      "RMSE: 1.2707616306409109\n",
      "R^2: 0.9369791925035472\n",
      "SVR plot data saved to C:\\Users\\zhao-\\Jiaheng\\BSA protein\\data\\Superspectra20231107\\Results\\2x2_5_FigureData\\Cysteamine_MCH_svr5.csv\n",
      "MAE: 0.8151858064735388\n",
      "RMSE: 1.7738782302457023\n",
      "R^2: 0.8771985811031198\n",
      "RF plot data saved to C:\\Users\\zhao-\\Jiaheng\\BSA protein\\data\\Superspectra20231107\\Results\\2x2_5_FigureData\\Cysteamine_MCH_rf5.csv\n",
      "NaN values found in the DataFrame. Imputing with median values...\n",
      "NaN values found in the DataFrame. Imputing with median values...\n",
      "MAE: 0.6625017306054753\n",
      "RMSE: 0.9700443605699856\n",
      "R^2: 0.9632769311043561\n",
      "SVR plot data saved to C:\\Users\\zhao-\\Jiaheng\\BSA protein\\data\\Superspectra20231107\\Results\\2x2_5_FigureData\\Cysteine_MCH_svr5.csv\n",
      "MAE: 0.4889494845661002\n",
      "RMSE: 0.7611373539151074\n",
      "R^2: 0.977390974212084\n",
      "RF plot data saved to C:\\Users\\zhao-\\Jiaheng\\BSA protein\\data\\Superspectra20231107\\Results\\2x2_5_FigureData\\Cysteine_MCH_rf5.csv\n"
     ]
    },
    {
     "name": "stderr",
     "output_type": "stream",
     "text": [
      "C:\\Users\\zhao-\\AppData\\Local\\Temp\\ipykernel_11060\\2281128983.py:21: DtypeWarning: Columns (2798) have mixed types. Specify dtype option on import or set low_memory=False.\n",
      "  train = pd.read_csv(file_path)\n"
     ]
    },
    {
     "name": "stdout",
     "output_type": "stream",
     "text": [
      "NaN values found in the DataFrame. Imputing with median values...\n",
      "NaN values found in the DataFrame. Imputing with median values...\n",
      "MAE: 3.184391448637248\n",
      "RMSE: 4.731855716456666\n",
      "R^2: 0.15060636030556795\n",
      "SVR plot data saved to C:\\Users\\zhao-\\Jiaheng\\BSA protein\\data\\Superspectra20231107\\Results\\2x2_6_FigureData\\Bare_Cysteamine_svr6.csv\n",
      "MAE: 2.0192222943049356\n",
      "RMSE: 2.867460811027193\n",
      "R^2: 0.6880815962185854\n",
      "RF plot data saved to C:\\Users\\zhao-\\Jiaheng\\BSA protein\\data\\Superspectra20231107\\Results\\2x2_6_FigureData\\Bare_Cysteamine_rf6.csv\n"
     ]
    },
    {
     "name": "stderr",
     "output_type": "stream",
     "text": [
      "C:\\Users\\zhao-\\AppData\\Local\\Temp\\ipykernel_11060\\2281128983.py:21: DtypeWarning: Columns (2798) have mixed types. Specify dtype option on import or set low_memory=False.\n",
      "  train = pd.read_csv(file_path)\n"
     ]
    },
    {
     "name": "stdout",
     "output_type": "stream",
     "text": [
      "NaN values found in the DataFrame. Imputing with median values...\n",
      "NaN values found in the DataFrame. Imputing with median values...\n",
      "MAE: 2.1888177287698825\n",
      "RMSE: 3.1484828654502053\n",
      "R^2: 0.6415152792828673\n",
      "SVR plot data saved to C:\\Users\\zhao-\\Jiaheng\\BSA protein\\data\\Superspectra20231107\\Results\\2x2_6_FigureData\\Bare_Cysteine_svr6.csv\n",
      "MAE: 0.22782584889389376\n",
      "RMSE: 0.3786512027591967\n",
      "R^2: 0.9948150250443251\n",
      "RF plot data saved to C:\\Users\\zhao-\\Jiaheng\\BSA protein\\data\\Superspectra20231107\\Results\\2x2_6_FigureData\\Bare_Cysteine_rf6.csv\n"
     ]
    },
    {
     "name": "stderr",
     "output_type": "stream",
     "text": [
      "C:\\Users\\zhao-\\AppData\\Local\\Temp\\ipykernel_11060\\2281128983.py:21: DtypeWarning: Columns (2798) have mixed types. Specify dtype option on import or set low_memory=False.\n",
      "  train = pd.read_csv(file_path)\n"
     ]
    },
    {
     "name": "stdout",
     "output_type": "stream",
     "text": [
      "NaN values found in the DataFrame. Imputing with median values...\n",
      "NaN values found in the DataFrame. Imputing with median values...\n",
      "MAE: 2.321358602390296\n",
      "RMSE: 3.4708210373396158\n",
      "R^2: 0.5298675600542533\n",
      "SVR plot data saved to C:\\Users\\zhao-\\Jiaheng\\BSA protein\\data\\Superspectra20231107\\Results\\2x2_6_FigureData\\Bare_MCH_svr6.csv\n",
      "MAE: 1.17113881545009\n",
      "RMSE: 2.3975776936108435\n",
      "R^2: 0.7756628719173189\n",
      "RF plot data saved to C:\\Users\\zhao-\\Jiaheng\\BSA protein\\data\\Superspectra20231107\\Results\\2x2_6_FigureData\\Bare_MCH_rf6.csv\n",
      "NaN values found in the DataFrame. Imputing with median values...\n",
      "NaN values found in the DataFrame. Imputing with median values...\n",
      "MAE: 0.511425970629577\n",
      "RMSE: 0.685950566158311\n",
      "R^2: 0.9829841511370891\n",
      "SVR plot data saved to C:\\Users\\zhao-\\Jiaheng\\BSA protein\\data\\Superspectra20231107\\Results\\2x2_6_FigureData\\Cysteamine_Cysteine_svr6.csv\n",
      "MAE: 0.18599099609895356\n",
      "RMSE: 0.3742958619527901\n",
      "R^2: 0.9949336168196626\n",
      "RF plot data saved to C:\\Users\\zhao-\\Jiaheng\\BSA protein\\data\\Superspectra20231107\\Results\\2x2_6_FigureData\\Cysteamine_Cysteine_rf6.csv\n",
      "NaN values found in the DataFrame. Imputing with median values...\n",
      "NaN values found in the DataFrame. Imputing with median values...\n",
      "MAE: 0.7399866735873396\n",
      "RMSE: 0.9743333045004737\n",
      "R^2: 0.9629514792357111\n",
      "SVR plot data saved to C:\\Users\\zhao-\\Jiaheng\\BSA protein\\data\\Superspectra20231107\\Results\\2x2_6_FigureData\\Cysteamine_MCH_svr6.csv\n",
      "MAE: 0.9437597220028904\n",
      "RMSE: 1.8805805680040537\n",
      "R^2: 0.8619807492396288\n",
      "RF plot data saved to C:\\Users\\zhao-\\Jiaheng\\BSA protein\\data\\Superspectra20231107\\Results\\2x2_6_FigureData\\Cysteamine_MCH_rf6.csv\n",
      "NaN values found in the DataFrame. Imputing with median values...\n",
      "NaN values found in the DataFrame. Imputing with median values...\n",
      "MAE: 0.5673263047140176\n",
      "RMSE: 0.7991160985966435\n",
      "R^2: 0.9750784220627707\n",
      "SVR plot data saved to C:\\Users\\zhao-\\Jiaheng\\BSA protein\\data\\Superspectra20231107\\Results\\2x2_6_FigureData\\Cysteine_MCH_svr6.csv\n",
      "MAE: 0.4762314467411653\n",
      "RMSE: 0.7311851395664591\n",
      "R^2: 0.9791353795105232\n",
      "RF plot data saved to C:\\Users\\zhao-\\Jiaheng\\BSA protein\\data\\Superspectra20231107\\Results\\2x2_6_FigureData\\Cysteine_MCH_rf6.csv\n"
     ]
    },
    {
     "name": "stderr",
     "output_type": "stream",
     "text": [
      "C:\\Users\\zhao-\\AppData\\Local\\Temp\\ipykernel_11060\\2281128983.py:21: DtypeWarning: Columns (2798) have mixed types. Specify dtype option on import or set low_memory=False.\n",
      "  train = pd.read_csv(file_path)\n"
     ]
    },
    {
     "name": "stdout",
     "output_type": "stream",
     "text": [
      "NaN values found in the DataFrame. Imputing with median values...\n",
      "NaN values found in the DataFrame. Imputing with median values...\n",
      "MAE: 3.293537259933572\n",
      "RMSE: 4.737882487888053\n",
      "R^2: 0.14844130641388953\n",
      "SVR plot data saved to C:\\Users\\zhao-\\Jiaheng\\BSA protein\\data\\Superspectra20231107\\Results\\2x2_7_FigureData\\Bare_Cysteamine_svr7.csv\n",
      "MAE: 1.6444023481870231\n",
      "RMSE: 2.2338413522662495\n",
      "R^2: 0.8106999756861075\n",
      "RF plot data saved to C:\\Users\\zhao-\\Jiaheng\\BSA protein\\data\\Superspectra20231107\\Results\\2x2_7_FigureData\\Bare_Cysteamine_rf7.csv\n"
     ]
    },
    {
     "name": "stderr",
     "output_type": "stream",
     "text": [
      "C:\\Users\\zhao-\\AppData\\Local\\Temp\\ipykernel_11060\\2281128983.py:21: DtypeWarning: Columns (2798) have mixed types. Specify dtype option on import or set low_memory=False.\n",
      "  train = pd.read_csv(file_path)\n"
     ]
    },
    {
     "name": "stdout",
     "output_type": "stream",
     "text": [
      "NaN values found in the DataFrame. Imputing with median values...\n",
      "NaN values found in the DataFrame. Imputing with median values...\n",
      "MAE: 2.137798378131083\n",
      "RMSE: 2.916318273180853\n",
      "R^2: 0.6924343574299167\n",
      "SVR plot data saved to C:\\Users\\zhao-\\Jiaheng\\BSA protein\\data\\Superspectra20231107\\Results\\2x2_7_FigureData\\Bare_Cysteine_svr7.csv\n",
      "MAE: 0.2789909242373047\n",
      "RMSE: 0.4902262257006743\n",
      "R^2: 0.9913091738234496\n",
      "RF plot data saved to C:\\Users\\zhao-\\Jiaheng\\BSA protein\\data\\Superspectra20231107\\Results\\2x2_7_FigureData\\Bare_Cysteine_rf7.csv\n"
     ]
    },
    {
     "name": "stderr",
     "output_type": "stream",
     "text": [
      "C:\\Users\\zhao-\\AppData\\Local\\Temp\\ipykernel_11060\\2281128983.py:21: DtypeWarning: Columns (2798) have mixed types. Specify dtype option on import or set low_memory=False.\n",
      "  train = pd.read_csv(file_path)\n"
     ]
    },
    {
     "name": "stdout",
     "output_type": "stream",
     "text": [
      "NaN values found in the DataFrame. Imputing with median values...\n",
      "NaN values found in the DataFrame. Imputing with median values...\n",
      "MAE: 2.4187817277604373\n",
      "RMSE: 3.611552642134751\n",
      "R^2: 0.4909696512038627\n",
      "SVR plot data saved to C:\\Users\\zhao-\\Jiaheng\\BSA protein\\data\\Superspectra20231107\\Results\\2x2_7_FigureData\\Bare_MCH_svr7.csv\n",
      "MAE: 1.0641391593423266\n",
      "RMSE: 1.8706413114759552\n",
      "R^2: 0.8634358143575083\n",
      "RF plot data saved to C:\\Users\\zhao-\\Jiaheng\\BSA protein\\data\\Superspectra20231107\\Results\\2x2_7_FigureData\\Bare_MCH_rf7.csv\n",
      "NaN values found in the DataFrame. Imputing with median values...\n",
      "NaN values found in the DataFrame. Imputing with median values...\n",
      "MAE: 0.73890349124987\n",
      "RMSE: 1.0445442412955017\n",
      "R^2: 0.9605432182262453\n",
      "SVR plot data saved to C:\\Users\\zhao-\\Jiaheng\\BSA protein\\data\\Superspectra20231107\\Results\\2x2_7_FigureData\\Cysteamine_Cysteine_svr7.csv\n",
      "MAE: 0.22600232199352052\n",
      "RMSE: 0.4011744193761947\n",
      "R^2: 0.9941798463887395\n",
      "RF plot data saved to C:\\Users\\zhao-\\Jiaheng\\BSA protein\\data\\Superspectra20231107\\Results\\2x2_7_FigureData\\Cysteamine_Cysteine_rf7.csv\n",
      "NaN values found in the DataFrame. Imputing with median values...\n",
      "NaN values found in the DataFrame. Imputing with median values...\n",
      "MAE: 0.8459897371758863\n",
      "RMSE: 1.1742919100985876\n",
      "R^2: 0.9461844336706519\n",
      "SVR plot data saved to C:\\Users\\zhao-\\Jiaheng\\BSA protein\\data\\Superspectra20231107\\Results\\2x2_7_FigureData\\Cysteamine_MCH_svr7.csv\n",
      "MAE: 0.7765488473159091\n",
      "RMSE: 1.3986321344228312\n",
      "R^2: 0.923658132180232\n",
      "RF plot data saved to C:\\Users\\zhao-\\Jiaheng\\BSA protein\\data\\Superspectra20231107\\Results\\2x2_7_FigureData\\Cysteamine_MCH_rf7.csv\n",
      "NaN values found in the DataFrame. Imputing with median values...\n",
      "NaN values found in the DataFrame. Imputing with median values...\n",
      "MAE: 0.765774938845749\n",
      "RMSE: 1.006718475477828\n",
      "R^2: 0.9604476898247251\n",
      "SVR plot data saved to C:\\Users\\zhao-\\Jiaheng\\BSA protein\\data\\Superspectra20231107\\Results\\2x2_7_FigureData\\Cysteine_MCH_svr7.csv\n",
      "MAE: 0.43930597276364086\n",
      "RMSE: 0.7043131737827507\n",
      "R^2: 0.980640800272904\n",
      "RF plot data saved to C:\\Users\\zhao-\\Jiaheng\\BSA protein\\data\\Superspectra20231107\\Results\\2x2_7_FigureData\\Cysteine_MCH_rf7.csv\n"
     ]
    },
    {
     "name": "stderr",
     "output_type": "stream",
     "text": [
      "C:\\Users\\zhao-\\AppData\\Local\\Temp\\ipykernel_11060\\2281128983.py:21: DtypeWarning: Columns (2798) have mixed types. Specify dtype option on import or set low_memory=False.\n",
      "  train = pd.read_csv(file_path)\n"
     ]
    },
    {
     "name": "stdout",
     "output_type": "stream",
     "text": [
      "NaN values found in the DataFrame. Imputing with median values...\n",
      "NaN values found in the DataFrame. Imputing with median values...\n",
      "MAE: 3.0906145432991763\n",
      "RMSE: 4.504706758929403\n",
      "R^2: 0.23019794237978608\n",
      "SVR plot data saved to C:\\Users\\zhao-\\Jiaheng\\BSA protein\\data\\Superspectra20231107\\Results\\2x2_8_FigureData\\Bare_Cysteamine_svr8.csv\n",
      "MAE: 1.8204690471865266\n",
      "RMSE: 2.7136388612031452\n",
      "R^2: 0.7206490726868557\n",
      "RF plot data saved to C:\\Users\\zhao-\\Jiaheng\\BSA protein\\data\\Superspectra20231107\\Results\\2x2_8_FigureData\\Bare_Cysteamine_rf8.csv\n"
     ]
    },
    {
     "name": "stderr",
     "output_type": "stream",
     "text": [
      "C:\\Users\\zhao-\\AppData\\Local\\Temp\\ipykernel_11060\\2281128983.py:21: DtypeWarning: Columns (2798) have mixed types. Specify dtype option on import or set low_memory=False.\n",
      "  train = pd.read_csv(file_path)\n"
     ]
    },
    {
     "name": "stdout",
     "output_type": "stream",
     "text": [
      "NaN values found in the DataFrame. Imputing with median values...\n",
      "NaN values found in the DataFrame. Imputing with median values...\n",
      "MAE: 2.3002807505390783\n",
      "RMSE: 3.293533289074354\n",
      "R^2: 0.6077236763999396\n",
      "SVR plot data saved to C:\\Users\\zhao-\\Jiaheng\\BSA protein\\data\\Superspectra20231107\\Results\\2x2_8_FigureData\\Bare_Cysteine_svr8.csv\n",
      "MAE: 0.23530817905317078\n",
      "RMSE: 0.4025577083958936\n",
      "R^2: 0.9941396402617424\n",
      "RF plot data saved to C:\\Users\\zhao-\\Jiaheng\\BSA protein\\data\\Superspectra20231107\\Results\\2x2_8_FigureData\\Bare_Cysteine_rf8.csv\n"
     ]
    },
    {
     "name": "stderr",
     "output_type": "stream",
     "text": [
      "C:\\Users\\zhao-\\AppData\\Local\\Temp\\ipykernel_11060\\2281128983.py:21: DtypeWarning: Columns (2798) have mixed types. Specify dtype option on import or set low_memory=False.\n",
      "  train = pd.read_csv(file_path)\n"
     ]
    },
    {
     "name": "stdout",
     "output_type": "stream",
     "text": [
      "NaN values found in the DataFrame. Imputing with median values...\n",
      "NaN values found in the DataFrame. Imputing with median values...\n",
      "MAE: 2.0795137612103995\n",
      "RMSE: 3.4647159872782165\n",
      "R^2: 0.5315199977781782\n",
      "SVR plot data saved to C:\\Users\\zhao-\\Jiaheng\\BSA protein\\data\\Superspectra20231107\\Results\\2x2_8_FigureData\\Bare_MCH_svr8.csv\n",
      "MAE: 1.1963289428968324\n",
      "RMSE: 2.561702848785278\n",
      "R^2: 0.7438978175202215\n",
      "RF plot data saved to C:\\Users\\zhao-\\Jiaheng\\BSA protein\\data\\Superspectra20231107\\Results\\2x2_8_FigureData\\Bare_MCH_rf8.csv\n",
      "NaN values found in the DataFrame. Imputing with median values...\n",
      "NaN values found in the DataFrame. Imputing with median values...\n",
      "MAE: 0.616578430239674\n",
      "RMSE: 0.7969510870139477\n",
      "R^2: 0.9770315696727027\n",
      "SVR plot data saved to C:\\Users\\zhao-\\Jiaheng\\BSA protein\\data\\Superspectra20231107\\Results\\2x2_8_FigureData\\Cysteamine_Cysteine_svr8.csv\n",
      "MAE: 0.22781698871613631\n",
      "RMSE: 0.4022584231930303\n",
      "R^2: 0.994148350898419\n",
      "RF plot data saved to C:\\Users\\zhao-\\Jiaheng\\BSA protein\\data\\Superspectra20231107\\Results\\2x2_8_FigureData\\Cysteamine_Cysteine_rf8.csv\n",
      "NaN values found in the DataFrame. Imputing with median values...\n",
      "NaN values found in the DataFrame. Imputing with median values...\n",
      "MAE: 0.8693405114900276\n",
      "RMSE: 1.2184930576601734\n",
      "R^2: 0.9420568774878338\n",
      "SVR plot data saved to C:\\Users\\zhao-\\Jiaheng\\BSA protein\\data\\Superspectra20231107\\Results\\2x2_8_FigureData\\Cysteamine_MCH_svr8.csv\n",
      "MAE: 0.8146599609717138\n",
      "RMSE: 1.5973007528825445\n",
      "R^2: 0.9004298480820668\n",
      "RF plot data saved to C:\\Users\\zhao-\\Jiaheng\\BSA protein\\data\\Superspectra20231107\\Results\\2x2_8_FigureData\\Cysteamine_MCH_rf8.csv\n",
      "NaN values found in the DataFrame. Imputing with median values...\n",
      "NaN values found in the DataFrame. Imputing with median values...\n",
      "MAE: 0.6532034898236936\n",
      "RMSE: 0.8388107217399983\n",
      "R^2: 0.972541062849523\n",
      "SVR plot data saved to C:\\Users\\zhao-\\Jiaheng\\BSA protein\\data\\Superspectra20231107\\Results\\2x2_8_FigureData\\Cysteine_MCH_svr8.csv\n",
      "MAE: 0.5577130275442674\n",
      "RMSE: 0.8696098260543561\n",
      "R^2: 0.9704875914901129\n",
      "RF plot data saved to C:\\Users\\zhao-\\Jiaheng\\BSA protein\\data\\Superspectra20231107\\Results\\2x2_8_FigureData\\Cysteine_MCH_rf8.csv\n"
     ]
    },
    {
     "name": "stderr",
     "output_type": "stream",
     "text": [
      "C:\\Users\\zhao-\\AppData\\Local\\Temp\\ipykernel_11060\\2281128983.py:21: DtypeWarning: Columns (2798) have mixed types. Specify dtype option on import or set low_memory=False.\n",
      "  train = pd.read_csv(file_path)\n"
     ]
    },
    {
     "name": "stdout",
     "output_type": "stream",
     "text": [
      "NaN values found in the DataFrame. Imputing with median values...\n",
      "NaN values found in the DataFrame. Imputing with median values...\n",
      "MAE: 3.0216449599212747\n",
      "RMSE: 4.488131860571227\n",
      "R^2: 0.23585243564391523\n",
      "SVR plot data saved to C:\\Users\\zhao-\\Jiaheng\\BSA protein\\data\\Superspectra20231107\\Results\\2x2_9_FigureData\\Bare_Cysteamine_svr9.csv\n",
      "MAE: 1.719772774361029\n",
      "RMSE: 2.692061384209798\n",
      "R^2: 0.7250739235662458\n",
      "RF plot data saved to C:\\Users\\zhao-\\Jiaheng\\BSA protein\\data\\Superspectra20231107\\Results\\2x2_9_FigureData\\Bare_Cysteamine_rf9.csv\n"
     ]
    },
    {
     "name": "stderr",
     "output_type": "stream",
     "text": [
      "C:\\Users\\zhao-\\AppData\\Local\\Temp\\ipykernel_11060\\2281128983.py:21: DtypeWarning: Columns (2798) have mixed types. Specify dtype option on import or set low_memory=False.\n",
      "  train = pd.read_csv(file_path)\n"
     ]
    },
    {
     "name": "stdout",
     "output_type": "stream",
     "text": [
      "NaN values found in the DataFrame. Imputing with median values...\n",
      "NaN values found in the DataFrame. Imputing with median values...\n",
      "MAE: 2.491124872520748\n",
      "RMSE: 3.643911030087969\n",
      "R^2: 0.5198206150239393\n",
      "SVR plot data saved to C:\\Users\\zhao-\\Jiaheng\\BSA protein\\data\\Superspectra20231107\\Results\\2x2_9_FigureData\\Bare_Cysteine_svr9.csv\n",
      "MAE: 0.24169439953223298\n",
      "RMSE: 0.46972770992978113\n",
      "R^2: 0.9920207817737853\n",
      "RF plot data saved to C:\\Users\\zhao-\\Jiaheng\\BSA protein\\data\\Superspectra20231107\\Results\\2x2_9_FigureData\\Bare_Cysteine_rf9.csv\n"
     ]
    },
    {
     "name": "stderr",
     "output_type": "stream",
     "text": [
      "C:\\Users\\zhao-\\AppData\\Local\\Temp\\ipykernel_11060\\2281128983.py:21: DtypeWarning: Columns (2798) have mixed types. Specify dtype option on import or set low_memory=False.\n",
      "  train = pd.read_csv(file_path)\n"
     ]
    },
    {
     "name": "stdout",
     "output_type": "stream",
     "text": [
      "NaN values found in the DataFrame. Imputing with median values...\n",
      "NaN values found in the DataFrame. Imputing with median values...\n",
      "MAE: 2.0653614347014746\n",
      "RMSE: 3.5269386785307018\n",
      "R^2: 0.5145420756373655\n",
      "SVR plot data saved to C:\\Users\\zhao-\\Jiaheng\\BSA protein\\data\\Superspectra20231107\\Results\\2x2_9_FigureData\\Bare_MCH_svr9.csv\n",
      "MAE: 1.287603487545659\n",
      "RMSE: 3.059677541572897\n",
      "R^2: 0.6346516969512438\n",
      "RF plot data saved to C:\\Users\\zhao-\\Jiaheng\\BSA protein\\data\\Superspectra20231107\\Results\\2x2_9_FigureData\\Bare_MCH_rf9.csv\n",
      "NaN values found in the DataFrame. Imputing with median values...\n",
      "NaN values found in the DataFrame. Imputing with median values...\n",
      "MAE: 0.6650502750743384\n",
      "RMSE: 0.8919093688873752\n",
      "R^2: 0.9712320156698183\n",
      "SVR plot data saved to C:\\Users\\zhao-\\Jiaheng\\BSA protein\\data\\Superspectra20231107\\Results\\2x2_9_FigureData\\Cysteamine_Cysteine_svr9.csv\n",
      "MAE: 0.24718713067773032\n",
      "RMSE: 0.48202885633408116\n",
      "R^2: 0.9915973928904999\n",
      "RF plot data saved to C:\\Users\\zhao-\\Jiaheng\\BSA protein\\data\\Superspectra20231107\\Results\\2x2_9_FigureData\\Cysteamine_Cysteine_rf9.csv\n",
      "NaN values found in the DataFrame. Imputing with median values...\n",
      "NaN values found in the DataFrame. Imputing with median values...\n",
      "MAE: 0.9160621082518469\n",
      "RMSE: 1.2900868689663976\n",
      "R^2: 0.93504782677031\n",
      "SVR plot data saved to C:\\Users\\zhao-\\Jiaheng\\BSA protein\\data\\Superspectra20231107\\Results\\2x2_9_FigureData\\Cysteamine_MCH_svr9.csv\n",
      "MAE: 1.0125242649768675\n",
      "RMSE: 1.9400772582938106\n",
      "R^2: 0.8531094602128698\n",
      "RF plot data saved to C:\\Users\\zhao-\\Jiaheng\\BSA protein\\data\\Superspectra20231107\\Results\\2x2_9_FigureData\\Cysteamine_MCH_rf9.csv\n",
      "NaN values found in the DataFrame. Imputing with median values...\n",
      "NaN values found in the DataFrame. Imputing with median values...\n",
      "MAE: 0.6882070188063415\n",
      "RMSE: 0.9682031217628994\n",
      "R^2: 0.9634162067323331\n",
      "SVR plot data saved to C:\\Users\\zhao-\\Jiaheng\\BSA protein\\data\\Superspectra20231107\\Results\\2x2_9_FigureData\\Cysteine_MCH_svr9.csv\n",
      "MAE: 0.5349611284107613\n",
      "RMSE: 0.8313659705716123\n",
      "R^2: 0.9730263160207921\n",
      "RF plot data saved to C:\\Users\\zhao-\\Jiaheng\\BSA protein\\data\\Superspectra20231107\\Results\\2x2_9_FigureData\\Cysteine_MCH_rf9.csv\n"
     ]
    },
    {
     "name": "stderr",
     "output_type": "stream",
     "text": [
      "C:\\Users\\zhao-\\AppData\\Local\\Temp\\ipykernel_11060\\2281128983.py:21: DtypeWarning: Columns (2798) have mixed types. Specify dtype option on import or set low_memory=False.\n",
      "  train = pd.read_csv(file_path)\n"
     ]
    },
    {
     "name": "stdout",
     "output_type": "stream",
     "text": [
      "NaN values found in the DataFrame. Imputing with median values...\n",
      "NaN values found in the DataFrame. Imputing with median values...\n",
      "MAE: 3.158129762546185\n",
      "RMSE: 4.677286233038254\n",
      "R^2: 0.17008442842632931\n",
      "SVR plot data saved to C:\\Users\\zhao-\\Jiaheng\\BSA protein\\data\\Superspectra20231107\\Results\\2x2_10_FigureData\\Bare_Cysteamine_svr10.csv\n",
      "MAE: 2.0135853541404503\n",
      "RMSE: 2.6042302617723094\n",
      "R^2: 0.7427207389459461\n",
      "RF plot data saved to C:\\Users\\zhao-\\Jiaheng\\BSA protein\\data\\Superspectra20231107\\Results\\2x2_10_FigureData\\Bare_Cysteamine_rf10.csv\n"
     ]
    },
    {
     "name": "stderr",
     "output_type": "stream",
     "text": [
      "C:\\Users\\zhao-\\AppData\\Local\\Temp\\ipykernel_11060\\2281128983.py:21: DtypeWarning: Columns (2798) have mixed types. Specify dtype option on import or set low_memory=False.\n",
      "  train = pd.read_csv(file_path)\n"
     ]
    },
    {
     "name": "stdout",
     "output_type": "stream",
     "text": [
      "NaN values found in the DataFrame. Imputing with median values...\n",
      "NaN values found in the DataFrame. Imputing with median values...\n",
      "MAE: 2.7293801132268336\n",
      "RMSE: 3.9872261033803076\n",
      "R^2: 0.4250769651619757\n",
      "SVR plot data saved to C:\\Users\\zhao-\\Jiaheng\\BSA protein\\data\\Superspectra20231107\\Results\\2x2_10_FigureData\\Bare_Cysteine_svr10.csv\n",
      "MAE: 0.2879280888368856\n",
      "RMSE: 0.5096620410123128\n",
      "R^2: 0.9906063892541225\n",
      "RF plot data saved to C:\\Users\\zhao-\\Jiaheng\\BSA protein\\data\\Superspectra20231107\\Results\\2x2_10_FigureData\\Bare_Cysteine_rf10.csv\n"
     ]
    },
    {
     "name": "stderr",
     "output_type": "stream",
     "text": [
      "C:\\Users\\zhao-\\AppData\\Local\\Temp\\ipykernel_11060\\2281128983.py:21: DtypeWarning: Columns (2798) have mixed types. Specify dtype option on import or set low_memory=False.\n",
      "  train = pd.read_csv(file_path)\n"
     ]
    },
    {
     "name": "stdout",
     "output_type": "stream",
     "text": [
      "NaN values found in the DataFrame. Imputing with median values...\n",
      "NaN values found in the DataFrame. Imputing with median values...\n",
      "MAE: 2.2946860868584924\n",
      "RMSE: 3.662563862347412\n",
      "R^2: 0.4764885448957631\n",
      "SVR plot data saved to C:\\Users\\zhao-\\Jiaheng\\BSA protein\\data\\Superspectra20231107\\Results\\2x2_10_FigureData\\Bare_MCH_svr10.csv\n",
      "MAE: 1.309697592494323\n",
      "RMSE: 3.284484146063358\n",
      "R^2: 0.5789922244696688\n",
      "RF plot data saved to C:\\Users\\zhao-\\Jiaheng\\BSA protein\\data\\Superspectra20231107\\Results\\2x2_10_FigureData\\Bare_MCH_rf10.csv\n",
      "NaN values found in the DataFrame. Imputing with median values...\n",
      "NaN values found in the DataFrame. Imputing with median values...\n",
      "MAE: 0.5895248102963022\n",
      "RMSE: 0.7923815631198247\n",
      "R^2: 0.9772942053607913\n",
      "SVR plot data saved to C:\\Users\\zhao-\\Jiaheng\\BSA protein\\data\\Superspectra20231107\\Results\\2x2_10_FigureData\\Cysteamine_Cysteine_svr10.csv\n",
      "MAE: 0.23202981771249162\n",
      "RMSE: 0.42790554000377334\n",
      "R^2: 0.9933783869187732\n",
      "RF plot data saved to C:\\Users\\zhao-\\Jiaheng\\BSA protein\\data\\Superspectra20231107\\Results\\2x2_10_FigureData\\Cysteamine_Cysteine_rf10.csv\n",
      "NaN values found in the DataFrame. Imputing with median values...\n",
      "NaN values found in the DataFrame. Imputing with median values...\n",
      "MAE: 0.9507581953452912\n",
      "RMSE: 1.31795875044607\n",
      "R^2: 0.9322109710582219\n",
      "SVR plot data saved to C:\\Users\\zhao-\\Jiaheng\\BSA protein\\data\\Superspectra20231107\\Results\\2x2_10_FigureData\\Cysteamine_MCH_svr10.csv\n",
      "MAE: 1.1204236127281786\n",
      "RMSE: 2.6922153465333514\n",
      "R^2: 0.717137504771651\n",
      "RF plot data saved to C:\\Users\\zhao-\\Jiaheng\\BSA protein\\data\\Superspectra20231107\\Results\\2x2_10_FigureData\\Cysteamine_MCH_rf10.csv\n",
      "NaN values found in the DataFrame. Imputing with median values...\n",
      "NaN values found in the DataFrame. Imputing with median values...\n",
      "MAE: 0.6470457953673558\n",
      "RMSE: 0.887511247678107\n",
      "R^2: 0.9692600251096026\n",
      "SVR plot data saved to C:\\Users\\zhao-\\Jiaheng\\BSA protein\\data\\Superspectra20231107\\Results\\2x2_10_FigureData\\Cysteine_MCH_svr10.csv\n",
      "MAE: 0.42427365534222056\n",
      "RMSE: 0.6724093535116121\n",
      "R^2: 0.9823549347332591\n",
      "RF plot data saved to C:\\Users\\zhao-\\Jiaheng\\BSA protein\\data\\Superspectra20231107\\Results\\2x2_10_FigureData\\Cysteine_MCH_rf10.csv\n"
     ]
    }
   ],
   "source": [
    "from sklearn.impute import SimpleImputer\n",
    "\n",
    "def preprocess_data(df):\n",
    "    # Check if any NaNs are in the DataFrame\n",
    "    if df.isna().any().any():\n",
    "        print(\"NaN values found in the DataFrame. Imputing with median values...\")\n",
    "        # Impute NaN values using median, which is robust to outliers\n",
    "        imputer = SimpleImputer(strategy='median')\n",
    "        df.iloc[:, :-2] = imputer.fit_transform(df.iloc[:, :-2])  # Assume last two columns are 'label' and 'conc'\n",
    "    return df\n",
    "\n",
    "for i in range(START, START+iteration_number):\n",
    "    modification_combination_list = ['Bare_Cysteamine', 'Bare_Cysteine', 'Bare_MCH', 'Cysteamine_Cysteine', 'Cysteamine_MCH', 'Cysteine_MCH']\n",
    "    \n",
    "    for modification in modification_combination_list:\n",
    "        # Step 1: reformat the train and test sets\n",
    "        # train\n",
    "        file_path = f\"{WORKING_PATH}\\\\Superspectra20250705\\\\2x2_{i}\\\\{modification}_train{i}.csv\"\n",
    "\n",
    "        # Read the CSV file into a DataFrame\n",
    "        train = pd.read_csv(file_path)\n",
    "        train = preprocess_data(train)\n",
    "\n",
    "#         # Display the first few rows of the data to verify\n",
    "#         print(train.head())\n",
    "\n",
    "        # Select training data with a specific label\n",
    "        selected_label = train['label'].iloc[0] # always choose the first label. This label has no use, but just to ensure that the code can run.\n",
    "        selected_data_train = train[train['label'] == selected_label] # split training data\n",
    "        # selected_data_train\n",
    "\n",
    "        # Get the indices of the selected data\n",
    "        selected_indices_train = selected_data_train.index\n",
    "        # selected_indices_train\n",
    "\n",
    "        # Get new X_train and y_train_reg\n",
    "        X_train_split = selected_data_train.values[:,:-2]\n",
    "        y_train_reg_split = np.log10(selected_data_train.values[:,-1].astype(float)+1e-20) # we only need the regression part.\n",
    "\n",
    "        # test\n",
    "        tfile_path = f\"{WORKING_PATH}\\\\Superspectra20250705\\\\2x2_{i}\\\\{modification}_test{i}.csv\"  # Replace with the path to your CSV file\n",
    "\n",
    "        # Read the CSV file into a DataFrame\n",
    "        test = pd.read_csv(tfile_path)\n",
    "        test = preprocess_data(test)\n",
    "\n",
    "#         # Display the first few rows of the data to verify\n",
    "#         print(test.head())\n",
    "\n",
    "        # Similarly, select testing data with the specific label\n",
    "        selected_data_test = test[test['label'] == selected_label] # split testing data\n",
    "        # selected_data_test\n",
    "\n",
    "        # Get the indices of the selected data\n",
    "        selected_indices_test = selected_data_test.index\n",
    "        # selected_indices_test\n",
    "\n",
    "        # Get new X_test and y_test_reg\n",
    "        X_test_split = selected_data_test.values[:,:-2]\n",
    "        y_test_reg_split = np.log10(selected_data_test.values[:,-1].astype(float)+1e-20) # we only need the regression part.\n",
    "     \n",
    "    \n",
    "        # Step 2: SVR calculation\n",
    "        # Create a svr\n",
    "        svr = svm.SVR(kernel = 'rbf', C = 1000, epsilon = 0.1)\n",
    "        # sklearn.svr only accept label vectors as input, not one-hot vectors.\n",
    "        y_train_reg_split_label = y_train_reg_split\n",
    "        with parallel_backend('threading', n_jobs=-1):\n",
    "            # Fit the SVR model\n",
    "            svr.fit(X_train_split, y_train_reg_split_label)\n",
    "        svr_pred = svr.predict(X_test_split)\n",
    "        \n",
    "        # Comparing results\n",
    "        y_test_reg_split_label = y_test_reg_split\n",
    "\n",
    "        # Saving performances and pred vs real curve\n",
    "        MAE = mean_absolute_error(y_test_reg_split_label, svr_pred)\n",
    "        RMSE = np.sqrt(mean_squared_error(y_test_reg_split_label, svr_pred))\n",
    "        R_squared = r2_score(y_test_reg_split_label, svr_pred)\n",
    "\n",
    "        print(\"MAE:\", MAE)\n",
    "        print(\"RMSE:\", RMSE)\n",
    "        print(\"R^2:\", R_squared)\n",
    "        \n",
    "        # New directory where you want to save the file\n",
    "        save_directory = f\"{WORKING_PATH}\\\\Superspectra20250705\\\\Results\\\\2x2_{i}_FigureData\"\n",
    "        os.makedirs(save_directory, exist_ok=True)\n",
    "        \n",
    "#         # Extract the base filename from the original file_path\n",
    "#         base_filename = os.path.basename(file_path)\n",
    "\n",
    "        # Create a DataFrame with these metrics\n",
    "        performance_metrics_df = pd.DataFrame({\n",
    "            'MAE': [MAE],\n",
    "            'RMSE': [RMSE],\n",
    "            'R^2': [R_squared]\n",
    "        })\n",
    "        \n",
    "        # Construct the new file path with the same filename in the new directory\n",
    "        save_file_path = os.path.join(save_directory, f\"{modification}_performance_svr{i}.csv\")\n",
    "        # Save the DataFrame to a CSV file in the new location with the same name\n",
    "        performance_metrics_df.to_csv(save_file_path, index=False) \n",
    "        \n",
    "        # Actual and predicted values\n",
    "#         plt.figure(figsize=(6, 6))\n",
    "#         plt.scatter(y_test_reg_split, svr_pred, edgecolors=\"grey\", linewidths=0.2, alpha = 0.3)\n",
    "#         plt.axline([plt.xlim()[0], plt.xlim()[0]], [plt.xlim()[1], plt.xlim()[1]], linestyle='--', color=\"grey\")\n",
    "#         plt.xlabel(\"Actual log10(C)\")\n",
    "#         plt.ylabel(\"Predicted log10(C)\")\n",
    "#         plt.title(modification)\n",
    "        \n",
    "        plot_data_df = pd.DataFrame({\n",
    "            'Actual_log10(C)': y_test_reg_split,\n",
    "            'Predicted_log10(C)': svr_pred\n",
    "        })\n",
    "\n",
    "        # Construct the new file path with the same filename in the new directory\n",
    "        save_file_path = os.path.join(save_directory, f\"{modification}_svr{i}.csv\")\n",
    "        # Save the DataFrame to a CSV file in the new location with the same name\n",
    "        plot_data_df.to_csv(save_file_path, index=False)\n",
    "\n",
    "        print(f\"SVR plot data saved to {save_file_path}\")\n",
    "\n",
    "        \n",
    "        # Step 3: RF calculation\n",
    "        # Create an rf\n",
    "        rf = RandomForestRegressor(n_estimators=100, criterion=\"squared_error\", max_depth=None, n_jobs=-1, verbose=0)\n",
    "        rf.fit(X_train_split, y_train_reg_split_label)\n",
    "        rf_pred = rf.predict(X_test_split)\n",
    "\n",
    "        # Saving performances and pred vs real curve\n",
    "        MAE = mean_absolute_error(y_test_reg_split_label, rf_pred)\n",
    "        RMSE = np.sqrt(mean_squared_error(y_test_reg_split_label, rf_pred))\n",
    "        R_squared = r2_score(y_test_reg_split_label, rf_pred)\n",
    "\n",
    "        print(\"MAE:\", MAE)\n",
    "        print(\"RMSE:\", RMSE)\n",
    "        print(\"R^2:\", R_squared)\n",
    "        \n",
    "        # Create a DataFrame with these metrics\n",
    "        performance_metrics_df = pd.DataFrame({\n",
    "            'MAE': [MAE],\n",
    "            'RMSE': [RMSE],\n",
    "            'R^2': [R_squared]\n",
    "        })\n",
    "        \n",
    "        # Construct the new file path with the same filename in the new directory\n",
    "        save_file_path = os.path.join(save_directory, f\"{modification}_performance_rf{i}.csv\")\n",
    "        # Save the DataFrame to a CSV file in the new location with the same name\n",
    "        performance_metrics_df.to_csv(save_file_path, index=False)\n",
    "        \n",
    "        # Actual and predicted values\n",
    "#         plt.figure(figsize=(6, 6))\n",
    "#         plt.scatter(y_test_reg_split, rf_pred, edgecolors=\"grey\", linewidths=0.2, alpha = 0.3)\n",
    "#         plt.axline([plt.xlim()[0], plt.xlim()[0]], [plt.xlim()[1], plt.xlim()[1]], linestyle='--', color=\"grey\")\n",
    "#         plt.xlabel(\"Actual log10(C)\")\n",
    "#         plt.ylabel(\"Predicted log10(C)\")\n",
    "#         plt.title(modification)\n",
    "\n",
    "        plot_data_df = pd.DataFrame({\n",
    "            'Actual_log10(C)': y_test_reg_split,\n",
    "            'Predicted_log10(C)': rf_pred\n",
    "        })\n",
    "\n",
    "        # Construct the new file path with the same filename in the new directory\n",
    "        save_file_path = os.path.join(save_directory, f\"{modification}_rf{i}.csv\")\n",
    "        # Save the DataFrame to a CSV file in the new location with the same name\n",
    "        plot_data_df.to_csv(save_file_path, index=False)\n",
    "\n",
    "        print(f\"RF plot data saved to {save_file_path}\")\n"
   ]
  },
  {
   "cell_type": "markdown",
   "id": "aef69fc1",
   "metadata": {},
   "source": [
    "### 3x3 superspectra"
   ]
  },
  {
   "cell_type": "code",
   "execution_count": 16,
   "id": "7f9e9c2b",
   "metadata": {},
   "outputs": [],
   "source": [
    "# set the number of total iterations (groups)\n",
    "iteration_number = 10\n",
    "START = 1 # Included"
   ]
  },
  {
   "cell_type": "code",
   "execution_count": 17,
   "id": "214a5c9c",
   "metadata": {},
   "outputs": [
    {
     "name": "stderr",
     "output_type": "stream",
     "text": [
      "C:\\Users\\zhao-\\AppData\\Local\\Temp\\ipykernel_11060\\1142750743.py:10: DtypeWarning: Columns (4197) have mixed types. Specify dtype option on import or set low_memory=False.\n",
      "  train = pd.read_csv(file_path)\n"
     ]
    },
    {
     "name": "stdout",
     "output_type": "stream",
     "text": [
      "NaN values found in the DataFrame. Imputing with median values...\n"
     ]
    },
    {
     "name": "stderr",
     "output_type": "stream",
     "text": [
      "C:\\Users\\zhao-\\AppData\\Local\\Temp\\ipykernel_11060\\1142750743.py:33: DtypeWarning: Columns (4197) have mixed types. Specify dtype option on import or set low_memory=False.\n",
      "  test = pd.read_csv(tfile_path)\n"
     ]
    },
    {
     "name": "stdout",
     "output_type": "stream",
     "text": [
      "NaN values found in the DataFrame. Imputing with median values...\n",
      "MAE: 2.103009271684485\n",
      "RMSE: 3.1399892603184694\n",
      "R^2: 0.6434468258754898\n",
      "SVR plot data saved to C:\\Users\\zhao-\\Jiaheng\\BSA protein\\data\\Superspectra20231107\\Results\\3x3_1_FigureData\\Bare_Cysteamine_Cysteine_svr1.csv\n",
      "MAE: 0.2899642037838865\n",
      "RMSE: 0.5040048229979135\n",
      "R^2: 0.9908137689089521\n",
      "RF plot data saved to C:\\Users\\zhao-\\Jiaheng\\BSA protein\\data\\Superspectra20231107\\Results\\3x3_1_FigureData\\Bare_Cysteamine_Cysteine_rf1.csv\n"
     ]
    },
    {
     "name": "stderr",
     "output_type": "stream",
     "text": [
      "C:\\Users\\zhao-\\AppData\\Local\\Temp\\ipykernel_11060\\1142750743.py:10: DtypeWarning: Columns (4197) have mixed types. Specify dtype option on import or set low_memory=False.\n",
      "  train = pd.read_csv(file_path)\n"
     ]
    },
    {
     "name": "stdout",
     "output_type": "stream",
     "text": [
      "NaN values found in the DataFrame. Imputing with median values...\n"
     ]
    },
    {
     "name": "stderr",
     "output_type": "stream",
     "text": [
      "C:\\Users\\zhao-\\AppData\\Local\\Temp\\ipykernel_11060\\1142750743.py:33: DtypeWarning: Columns (4197) have mixed types. Specify dtype option on import or set low_memory=False.\n",
      "  test = pd.read_csv(tfile_path)\n"
     ]
    },
    {
     "name": "stdout",
     "output_type": "stream",
     "text": [
      "NaN values found in the DataFrame. Imputing with median values...\n",
      "MAE: 1.69618576295662\n",
      "RMSE: 2.3910175133474145\n",
      "R^2: 0.7768888414482639\n",
      "SVR plot data saved to C:\\Users\\zhao-\\Jiaheng\\BSA protein\\data\\Superspectra20231107\\Results\\3x3_1_FigureData\\Bare_Cysteamine_MCH_svr1.csv\n",
      "MAE: 1.2072195467912712\n",
      "RMSE: 3.0633698678182877\n",
      "R^2: 0.6337693823498349\n",
      "RF plot data saved to C:\\Users\\zhao-\\Jiaheng\\BSA protein\\data\\Superspectra20231107\\Results\\3x3_1_FigureData\\Bare_Cysteamine_MCH_rf1.csv\n"
     ]
    },
    {
     "name": "stderr",
     "output_type": "stream",
     "text": [
      "C:\\Users\\zhao-\\AppData\\Local\\Temp\\ipykernel_11060\\1142750743.py:10: DtypeWarning: Columns (4197) have mixed types. Specify dtype option on import or set low_memory=False.\n",
      "  train = pd.read_csv(file_path)\n"
     ]
    },
    {
     "name": "stdout",
     "output_type": "stream",
     "text": [
      "NaN values found in the DataFrame. Imputing with median values...\n"
     ]
    },
    {
     "name": "stderr",
     "output_type": "stream",
     "text": [
      "C:\\Users\\zhao-\\AppData\\Local\\Temp\\ipykernel_11060\\1142750743.py:33: DtypeWarning: Columns (4197) have mixed types. Specify dtype option on import or set low_memory=False.\n",
      "  test = pd.read_csv(tfile_path)\n"
     ]
    },
    {
     "name": "stdout",
     "output_type": "stream",
     "text": [
      "NaN values found in the DataFrame. Imputing with median values...\n",
      "MAE: 1.7357221821981454\n",
      "RMSE: 2.4412516021913526\n",
      "R^2: 0.7674154513957\n",
      "SVR plot data saved to C:\\Users\\zhao-\\Jiaheng\\BSA protein\\data\\Superspectra20231107\\Results\\3x3_1_FigureData\\Bare_Cysteine_MCH_svr1.csv\n",
      "MAE: 0.5950113984290158\n",
      "RMSE: 0.8978321551549006\n",
      "R^2: 0.968540914949394\n",
      "RF plot data saved to C:\\Users\\zhao-\\Jiaheng\\BSA protein\\data\\Superspectra20231107\\Results\\3x3_1_FigureData\\Bare_Cysteine_MCH_rf1.csv\n",
      "NaN values found in the DataFrame. Imputing with median values...\n",
      "NaN values found in the DataFrame. Imputing with median values...\n",
      "MAE: 0.7294801263801544\n",
      "RMSE: 1.0549184102637996\n",
      "R^2: 0.9565696309016287\n",
      "SVR plot data saved to C:\\Users\\zhao-\\Jiaheng\\BSA protein\\data\\Superspectra20231107\\Results\\3x3_1_FigureData\\Cysteamine_Cysteine_MCH_svr1.csv\n",
      "MAE: 0.5315282088539408\n",
      "RMSE: 0.8664301576469\n",
      "R^2: 0.970703017100568\n",
      "RF plot data saved to C:\\Users\\zhao-\\Jiaheng\\BSA protein\\data\\Superspectra20231107\\Results\\3x3_1_FigureData\\Cysteamine_Cysteine_MCH_rf1.csv\n"
     ]
    },
    {
     "name": "stderr",
     "output_type": "stream",
     "text": [
      "C:\\Users\\zhao-\\AppData\\Local\\Temp\\ipykernel_11060\\1142750743.py:10: DtypeWarning: Columns (4197) have mixed types. Specify dtype option on import or set low_memory=False.\n",
      "  train = pd.read_csv(file_path)\n"
     ]
    },
    {
     "name": "stdout",
     "output_type": "stream",
     "text": [
      "NaN values found in the DataFrame. Imputing with median values...\n"
     ]
    },
    {
     "name": "stderr",
     "output_type": "stream",
     "text": [
      "C:\\Users\\zhao-\\AppData\\Local\\Temp\\ipykernel_11060\\1142750743.py:33: DtypeWarning: Columns (4197) have mixed types. Specify dtype option on import or set low_memory=False.\n",
      "  test = pd.read_csv(tfile_path)\n"
     ]
    },
    {
     "name": "stdout",
     "output_type": "stream",
     "text": [
      "NaN values found in the DataFrame. Imputing with median values...\n",
      "MAE: 2.661482400304473\n",
      "RMSE: 3.681582192572316\n",
      "R^2: 0.509840998010173\n",
      "SVR plot data saved to C:\\Users\\zhao-\\Jiaheng\\BSA protein\\data\\Superspectra20231107\\Results\\3x3_2_FigureData\\Bare_Cysteamine_Cysteine_svr2.csv\n",
      "MAE: 0.2086450370123225\n",
      "RMSE: 0.35147218582667156\n",
      "R^2: 0.995532650749486\n",
      "RF plot data saved to C:\\Users\\zhao-\\Jiaheng\\BSA protein\\data\\Superspectra20231107\\Results\\3x3_2_FigureData\\Bare_Cysteamine_Cysteine_rf2.csv\n"
     ]
    },
    {
     "name": "stderr",
     "output_type": "stream",
     "text": [
      "C:\\Users\\zhao-\\AppData\\Local\\Temp\\ipykernel_11060\\1142750743.py:10: DtypeWarning: Columns (4197) have mixed types. Specify dtype option on import or set low_memory=False.\n",
      "  train = pd.read_csv(file_path)\n"
     ]
    },
    {
     "name": "stdout",
     "output_type": "stream",
     "text": [
      "NaN values found in the DataFrame. Imputing with median values...\n"
     ]
    },
    {
     "name": "stderr",
     "output_type": "stream",
     "text": [
      "C:\\Users\\zhao-\\AppData\\Local\\Temp\\ipykernel_11060\\1142750743.py:33: DtypeWarning: Columns (4197) have mixed types. Specify dtype option on import or set low_memory=False.\n",
      "  test = pd.read_csv(tfile_path)\n"
     ]
    },
    {
     "name": "stdout",
     "output_type": "stream",
     "text": [
      "NaN values found in the DataFrame. Imputing with median values...\n",
      "MAE: 1.8602266534959195\n",
      "RMSE: 3.19716827950802\n",
      "R^2: 0.6010791203584617\n",
      "SVR plot data saved to C:\\Users\\zhao-\\Jiaheng\\BSA protein\\data\\Superspectra20231107\\Results\\3x3_2_FigureData\\Bare_Cysteamine_MCH_svr2.csv\n",
      "MAE: 1.1164908475600708\n",
      "RMSE: 2.4039376177113567\n",
      "R^2: 0.7744711195372905\n",
      "RF plot data saved to C:\\Users\\zhao-\\Jiaheng\\BSA protein\\data\\Superspectra20231107\\Results\\3x3_2_FigureData\\Bare_Cysteamine_MCH_rf2.csv\n"
     ]
    },
    {
     "name": "stderr",
     "output_type": "stream",
     "text": [
      "C:\\Users\\zhao-\\AppData\\Local\\Temp\\ipykernel_11060\\1142750743.py:10: DtypeWarning: Columns (4197) have mixed types. Specify dtype option on import or set low_memory=False.\n",
      "  train = pd.read_csv(file_path)\n"
     ]
    },
    {
     "name": "stdout",
     "output_type": "stream",
     "text": [
      "NaN values found in the DataFrame. Imputing with median values...\n"
     ]
    },
    {
     "name": "stderr",
     "output_type": "stream",
     "text": [
      "C:\\Users\\zhao-\\AppData\\Local\\Temp\\ipykernel_11060\\1142750743.py:33: DtypeWarning: Columns (4197) have mixed types. Specify dtype option on import or set low_memory=False.\n",
      "  test = pd.read_csv(tfile_path)\n"
     ]
    },
    {
     "name": "stdout",
     "output_type": "stream",
     "text": [
      "NaN values found in the DataFrame. Imputing with median values...\n",
      "MAE: 1.907229078918932\n",
      "RMSE: 2.8734238081847034\n",
      "R^2: 0.6777780298400995\n",
      "SVR plot data saved to C:\\Users\\zhao-\\Jiaheng\\BSA protein\\data\\Superspectra20231107\\Results\\3x3_2_FigureData\\Bare_Cysteine_MCH_svr2.csv\n",
      "MAE: 0.47805688068008556\n",
      "RMSE: 0.7124104179542997\n",
      "R^2: 0.9801931095050598\n",
      "RF plot data saved to C:\\Users\\zhao-\\Jiaheng\\BSA protein\\data\\Superspectra20231107\\Results\\3x3_2_FigureData\\Bare_Cysteine_MCH_rf2.csv\n",
      "NaN values found in the DataFrame. Imputing with median values...\n",
      "NaN values found in the DataFrame. Imputing with median values...\n",
      "MAE: 0.6679097749037741\n",
      "RMSE: 0.9283513216263146\n",
      "R^2: 0.9663658468735894\n",
      "SVR plot data saved to C:\\Users\\zhao-\\Jiaheng\\BSA protein\\data\\Superspectra20231107\\Results\\3x3_2_FigureData\\Cysteamine_Cysteine_MCH_svr2.csv\n",
      "MAE: 0.42428265530433634\n",
      "RMSE: 0.6605597574213765\n",
      "R^2: 0.9829713585492542\n",
      "RF plot data saved to C:\\Users\\zhao-\\Jiaheng\\BSA protein\\data\\Superspectra20231107\\Results\\3x3_2_FigureData\\Cysteamine_Cysteine_MCH_rf2.csv\n"
     ]
    },
    {
     "name": "stderr",
     "output_type": "stream",
     "text": [
      "C:\\Users\\zhao-\\AppData\\Local\\Temp\\ipykernel_11060\\1142750743.py:10: DtypeWarning: Columns (4197) have mixed types. Specify dtype option on import or set low_memory=False.\n",
      "  train = pd.read_csv(file_path)\n"
     ]
    },
    {
     "name": "stdout",
     "output_type": "stream",
     "text": [
      "NaN values found in the DataFrame. Imputing with median values...\n"
     ]
    },
    {
     "name": "stderr",
     "output_type": "stream",
     "text": [
      "C:\\Users\\zhao-\\AppData\\Local\\Temp\\ipykernel_11060\\1142750743.py:33: DtypeWarning: Columns (4197) have mixed types. Specify dtype option on import or set low_memory=False.\n",
      "  test = pd.read_csv(tfile_path)\n"
     ]
    },
    {
     "name": "stdout",
     "output_type": "stream",
     "text": [
      "NaN values found in the DataFrame. Imputing with median values...\n",
      "MAE: 1.9167484988183765\n",
      "RMSE: 2.9641679640565797\n",
      "R^2: 0.6822587497131165\n",
      "SVR plot data saved to C:\\Users\\zhao-\\Jiaheng\\BSA protein\\data\\Superspectra20231107\\Results\\3x3_3_FigureData\\Bare_Cysteamine_Cysteine_svr3.csv\n",
      "MAE: 0.27131040382024907\n",
      "RMSE: 0.45930577380632076\n",
      "R^2: 0.9923709266339032\n",
      "RF plot data saved to C:\\Users\\zhao-\\Jiaheng\\BSA protein\\data\\Superspectra20231107\\Results\\3x3_3_FigureData\\Bare_Cysteamine_Cysteine_rf3.csv\n"
     ]
    },
    {
     "name": "stderr",
     "output_type": "stream",
     "text": [
      "C:\\Users\\zhao-\\AppData\\Local\\Temp\\ipykernel_11060\\1142750743.py:10: DtypeWarning: Columns (4197) have mixed types. Specify dtype option on import or set low_memory=False.\n",
      "  train = pd.read_csv(file_path)\n"
     ]
    },
    {
     "name": "stdout",
     "output_type": "stream",
     "text": [
      "NaN values found in the DataFrame. Imputing with median values...\n"
     ]
    },
    {
     "name": "stderr",
     "output_type": "stream",
     "text": [
      "C:\\Users\\zhao-\\AppData\\Local\\Temp\\ipykernel_11060\\1142750743.py:33: DtypeWarning: Columns (4197) have mixed types. Specify dtype option on import or set low_memory=False.\n",
      "  test = pd.read_csv(tfile_path)\n"
     ]
    },
    {
     "name": "stdout",
     "output_type": "stream",
     "text": [
      "NaN values found in the DataFrame. Imputing with median values...\n",
      "MAE: 1.7407727885850985\n",
      "RMSE: 2.8319127622586056\n",
      "R^2: 0.687020769547359\n",
      "SVR plot data saved to C:\\Users\\zhao-\\Jiaheng\\BSA protein\\data\\Superspectra20231107\\Results\\3x3_3_FigureData\\Bare_Cysteamine_MCH_svr3.csv\n",
      "MAE: 0.829026484241953\n",
      "RMSE: 1.5402235158144941\n",
      "R^2: 0.9074186995862245\n",
      "RF plot data saved to C:\\Users\\zhao-\\Jiaheng\\BSA protein\\data\\Superspectra20231107\\Results\\3x3_3_FigureData\\Bare_Cysteamine_MCH_rf3.csv\n"
     ]
    },
    {
     "name": "stderr",
     "output_type": "stream",
     "text": [
      "C:\\Users\\zhao-\\AppData\\Local\\Temp\\ipykernel_11060\\1142750743.py:10: DtypeWarning: Columns (4197) have mixed types. Specify dtype option on import or set low_memory=False.\n",
      "  train = pd.read_csv(file_path)\n"
     ]
    },
    {
     "name": "stdout",
     "output_type": "stream",
     "text": [
      "NaN values found in the DataFrame. Imputing with median values...\n"
     ]
    },
    {
     "name": "stderr",
     "output_type": "stream",
     "text": [
      "C:\\Users\\zhao-\\AppData\\Local\\Temp\\ipykernel_11060\\1142750743.py:33: DtypeWarning: Columns (4197) have mixed types. Specify dtype option on import or set low_memory=False.\n",
      "  test = pd.read_csv(tfile_path)\n"
     ]
    },
    {
     "name": "stdout",
     "output_type": "stream",
     "text": [
      "NaN values found in the DataFrame. Imputing with median values...\n",
      "MAE: 1.8482362369633198\n",
      "RMSE: 2.8900473501733948\n",
      "R^2: 0.6740389609578654\n",
      "SVR plot data saved to C:\\Users\\zhao-\\Jiaheng\\BSA protein\\data\\Superspectra20231107\\Results\\3x3_3_FigureData\\Bare_Cysteine_MCH_svr3.csv\n",
      "MAE: 0.5891072506979113\n",
      "RMSE: 0.9148996593395095\n",
      "R^2: 0.967333492206393\n",
      "RF plot data saved to C:\\Users\\zhao-\\Jiaheng\\BSA protein\\data\\Superspectra20231107\\Results\\3x3_3_FigureData\\Bare_Cysteine_MCH_rf3.csv\n",
      "NaN values found in the DataFrame. Imputing with median values...\n",
      "NaN values found in the DataFrame. Imputing with median values...\n",
      "MAE: 0.5526220281629198\n",
      "RMSE: 0.828467801788106\n",
      "R^2: 0.9732140505025767\n",
      "SVR plot data saved to C:\\Users\\zhao-\\Jiaheng\\BSA protein\\data\\Superspectra20231107\\Results\\3x3_3_FigureData\\Cysteamine_Cysteine_MCH_svr3.csv\n",
      "MAE: 0.5274044952511818\n",
      "RMSE: 0.8865746580220333\n",
      "R^2: 0.9693248706001042\n",
      "RF plot data saved to C:\\Users\\zhao-\\Jiaheng\\BSA protein\\data\\Superspectra20231107\\Results\\3x3_3_FigureData\\Cysteamine_Cysteine_MCH_rf3.csv\n"
     ]
    },
    {
     "name": "stderr",
     "output_type": "stream",
     "text": [
      "C:\\Users\\zhao-\\AppData\\Local\\Temp\\ipykernel_11060\\1142750743.py:10: DtypeWarning: Columns (4197) have mixed types. Specify dtype option on import or set low_memory=False.\n",
      "  train = pd.read_csv(file_path)\n"
     ]
    },
    {
     "name": "stdout",
     "output_type": "stream",
     "text": [
      "NaN values found in the DataFrame. Imputing with median values...\n"
     ]
    },
    {
     "name": "stderr",
     "output_type": "stream",
     "text": [
      "C:\\Users\\zhao-\\AppData\\Local\\Temp\\ipykernel_11060\\1142750743.py:33: DtypeWarning: Columns (4197) have mixed types. Specify dtype option on import or set low_memory=False.\n",
      "  test = pd.read_csv(tfile_path)\n"
     ]
    },
    {
     "name": "stdout",
     "output_type": "stream",
     "text": [
      "NaN values found in the DataFrame. Imputing with median values...\n",
      "MAE: 2.5522327688701267\n",
      "RMSE: 3.5275573976859826\n",
      "R^2: 0.549996222262306\n",
      "SVR plot data saved to C:\\Users\\zhao-\\Jiaheng\\BSA protein\\data\\Superspectra20231107\\Results\\3x3_4_FigureData\\Bare_Cysteamine_Cysteine_svr4.csv\n",
      "MAE: 0.2740418178430358\n",
      "RMSE: 0.5098707476164924\n",
      "R^2: 0.9905986943117642\n",
      "RF plot data saved to C:\\Users\\zhao-\\Jiaheng\\BSA protein\\data\\Superspectra20231107\\Results\\3x3_4_FigureData\\Bare_Cysteamine_Cysteine_rf4.csv\n"
     ]
    },
    {
     "name": "stderr",
     "output_type": "stream",
     "text": [
      "C:\\Users\\zhao-\\AppData\\Local\\Temp\\ipykernel_11060\\1142750743.py:10: DtypeWarning: Columns (4197) have mixed types. Specify dtype option on import or set low_memory=False.\n",
      "  train = pd.read_csv(file_path)\n"
     ]
    },
    {
     "name": "stdout",
     "output_type": "stream",
     "text": [
      "NaN values found in the DataFrame. Imputing with median values...\n"
     ]
    },
    {
     "name": "stderr",
     "output_type": "stream",
     "text": [
      "C:\\Users\\zhao-\\AppData\\Local\\Temp\\ipykernel_11060\\1142750743.py:33: DtypeWarning: Columns (4197) have mixed types. Specify dtype option on import or set low_memory=False.\n",
      "  test = pd.read_csv(tfile_path)\n"
     ]
    },
    {
     "name": "stdout",
     "output_type": "stream",
     "text": [
      "NaN values found in the DataFrame. Imputing with median values...\n",
      "MAE: 1.9793542982964916\n",
      "RMSE: 3.022570634962301\n",
      "R^2: 0.6434596433919151\n",
      "SVR plot data saved to C:\\Users\\zhao-\\Jiaheng\\BSA protein\\data\\Superspectra20231107\\Results\\3x3_4_FigureData\\Bare_Cysteamine_MCH_svr4.csv\n",
      "MAE: 0.8603567076650023\n",
      "RMSE: 1.6517118600079232\n",
      "R^2: 0.8935307115898341\n",
      "RF plot data saved to C:\\Users\\zhao-\\Jiaheng\\BSA protein\\data\\Superspectra20231107\\Results\\3x3_4_FigureData\\Bare_Cysteamine_MCH_rf4.csv\n"
     ]
    },
    {
     "name": "stderr",
     "output_type": "stream",
     "text": [
      "C:\\Users\\zhao-\\AppData\\Local\\Temp\\ipykernel_11060\\1142750743.py:10: DtypeWarning: Columns (4197) have mixed types. Specify dtype option on import or set low_memory=False.\n",
      "  train = pd.read_csv(file_path)\n"
     ]
    },
    {
     "name": "stdout",
     "output_type": "stream",
     "text": [
      "NaN values found in the DataFrame. Imputing with median values...\n"
     ]
    },
    {
     "name": "stderr",
     "output_type": "stream",
     "text": [
      "C:\\Users\\zhao-\\AppData\\Local\\Temp\\ipykernel_11060\\1142750743.py:33: DtypeWarning: Columns (4197) have mixed types. Specify dtype option on import or set low_memory=False.\n",
      "  test = pd.read_csv(tfile_path)\n"
     ]
    },
    {
     "name": "stdout",
     "output_type": "stream",
     "text": [
      "NaN values found in the DataFrame. Imputing with median values...\n",
      "MAE: 1.8247833328745955\n",
      "RMSE: 2.611115815895156\n",
      "R^2: 0.733922563492349\n",
      "SVR plot data saved to C:\\Users\\zhao-\\Jiaheng\\BSA protein\\data\\Superspectra20231107\\Results\\3x3_4_FigureData\\Bare_Cysteine_MCH_svr4.csv\n",
      "MAE: 0.45641762153213117\n",
      "RMSE: 0.6495564999162216\n",
      "R^2: 0.9835339419184179\n",
      "RF plot data saved to C:\\Users\\zhao-\\Jiaheng\\BSA protein\\data\\Superspectra20231107\\Results\\3x3_4_FigureData\\Bare_Cysteine_MCH_rf4.csv\n",
      "NaN values found in the DataFrame. Imputing with median values...\n",
      "NaN values found in the DataFrame. Imputing with median values...\n",
      "MAE: 0.8247616324325411\n",
      "RMSE: 1.1670058608730636\n",
      "R^2: 0.946850173483743\n",
      "SVR plot data saved to C:\\Users\\zhao-\\Jiaheng\\BSA protein\\data\\Superspectra20231107\\Results\\3x3_4_FigureData\\Cysteamine_Cysteine_MCH_svr4.csv\n",
      "MAE: 0.43862217868823583\n",
      "RMSE: 0.6649633038081827\n",
      "R^2: 0.982743562787019\n",
      "RF plot data saved to C:\\Users\\zhao-\\Jiaheng\\BSA protein\\data\\Superspectra20231107\\Results\\3x3_4_FigureData\\Cysteamine_Cysteine_MCH_rf4.csv\n"
     ]
    },
    {
     "name": "stderr",
     "output_type": "stream",
     "text": [
      "C:\\Users\\zhao-\\AppData\\Local\\Temp\\ipykernel_11060\\1142750743.py:10: DtypeWarning: Columns (4197) have mixed types. Specify dtype option on import or set low_memory=False.\n",
      "  train = pd.read_csv(file_path)\n"
     ]
    },
    {
     "name": "stdout",
     "output_type": "stream",
     "text": [
      "NaN values found in the DataFrame. Imputing with median values...\n"
     ]
    },
    {
     "name": "stderr",
     "output_type": "stream",
     "text": [
      "C:\\Users\\zhao-\\AppData\\Local\\Temp\\ipykernel_11060\\1142750743.py:33: DtypeWarning: Columns (4197) have mixed types. Specify dtype option on import or set low_memory=False.\n",
      "  test = pd.read_csv(tfile_path)\n"
     ]
    },
    {
     "name": "stdout",
     "output_type": "stream",
     "text": [
      "NaN values found in the DataFrame. Imputing with median values...\n",
      "MAE: 2.104692764800888\n",
      "RMSE: 3.05045589442854\n",
      "R^2: 0.6634903818600364\n",
      "SVR plot data saved to C:\\Users\\zhao-\\Jiaheng\\BSA protein\\data\\Superspectra20231107\\Results\\3x3_5_FigureData\\Bare_Cysteamine_Cysteine_svr5.csv\n",
      "MAE: 0.23861312092711368\n",
      "RMSE: 0.43481868361513737\n",
      "R^2: 0.9931627040989179\n",
      "RF plot data saved to C:\\Users\\zhao-\\Jiaheng\\BSA protein\\data\\Superspectra20231107\\Results\\3x3_5_FigureData\\Bare_Cysteamine_Cysteine_rf5.csv\n"
     ]
    },
    {
     "name": "stderr",
     "output_type": "stream",
     "text": [
      "C:\\Users\\zhao-\\AppData\\Local\\Temp\\ipykernel_11060\\1142750743.py:10: DtypeWarning: Columns (4197) have mixed types. Specify dtype option on import or set low_memory=False.\n",
      "  train = pd.read_csv(file_path)\n"
     ]
    },
    {
     "name": "stdout",
     "output_type": "stream",
     "text": [
      "NaN values found in the DataFrame. Imputing with median values...\n"
     ]
    },
    {
     "name": "stderr",
     "output_type": "stream",
     "text": [
      "C:\\Users\\zhao-\\AppData\\Local\\Temp\\ipykernel_11060\\1142750743.py:33: DtypeWarning: Columns (4197) have mixed types. Specify dtype option on import or set low_memory=False.\n",
      "  test = pd.read_csv(tfile_path)\n"
     ]
    },
    {
     "name": "stdout",
     "output_type": "stream",
     "text": [
      "NaN values found in the DataFrame. Imputing with median values...\n",
      "MAE: 2.168417491515877\n",
      "RMSE: 3.375334721537968\n",
      "R^2: 0.5553795120909579\n",
      "SVR plot data saved to C:\\Users\\zhao-\\Jiaheng\\BSA protein\\data\\Superspectra20231107\\Results\\3x3_5_FigureData\\Bare_Cysteamine_MCH_svr5.csv\n",
      "MAE: 0.9549452231328913\n",
      "RMSE: 1.9805244695008148\n",
      "R^2: 0.8469207936114226\n",
      "RF plot data saved to C:\\Users\\zhao-\\Jiaheng\\BSA protein\\data\\Superspectra20231107\\Results\\3x3_5_FigureData\\Bare_Cysteamine_MCH_rf5.csv\n"
     ]
    },
    {
     "name": "stderr",
     "output_type": "stream",
     "text": [
      "C:\\Users\\zhao-\\AppData\\Local\\Temp\\ipykernel_11060\\1142750743.py:10: DtypeWarning: Columns (4197) have mixed types. Specify dtype option on import or set low_memory=False.\n",
      "  train = pd.read_csv(file_path)\n"
     ]
    },
    {
     "name": "stdout",
     "output_type": "stream",
     "text": [
      "NaN values found in the DataFrame. Imputing with median values...\n"
     ]
    },
    {
     "name": "stderr",
     "output_type": "stream",
     "text": [
      "C:\\Users\\zhao-\\AppData\\Local\\Temp\\ipykernel_11060\\1142750743.py:33: DtypeWarning: Columns (4197) have mixed types. Specify dtype option on import or set low_memory=False.\n",
      "  test = pd.read_csv(tfile_path)\n"
     ]
    },
    {
     "name": "stdout",
     "output_type": "stream",
     "text": [
      "NaN values found in the DataFrame. Imputing with median values...\n",
      "MAE: 1.8930930347900436\n",
      "RMSE: 2.916671912173301\n",
      "R^2: 0.6680054642701652\n",
      "SVR plot data saved to C:\\Users\\zhao-\\Jiaheng\\BSA protein\\data\\Superspectra20231107\\Results\\3x3_5_FigureData\\Bare_Cysteine_MCH_svr5.csv\n",
      "MAE: 0.5577430274179943\n",
      "RMSE: 0.7798893447845644\n",
      "R^2: 0.9762632229470086\n",
      "RF plot data saved to C:\\Users\\zhao-\\Jiaheng\\BSA protein\\data\\Superspectra20231107\\Results\\3x3_5_FigureData\\Bare_Cysteine_MCH_rf5.csv\n",
      "NaN values found in the DataFrame. Imputing with median values...\n",
      "NaN values found in the DataFrame. Imputing with median values...\n",
      "MAE: 0.6997162936812378\n",
      "RMSE: 1.0436821008888768\n",
      "R^2: 0.9574898881348124\n",
      "SVR plot data saved to C:\\Users\\zhao-\\Jiaheng\\BSA protein\\data\\Superspectra20231107\\Results\\3x3_5_FigureData\\Cysteamine_Cysteine_MCH_svr5.csv\n",
      "MAE: 0.47312242429782964\n",
      "RMSE: 0.7173063946394428\n",
      "R^2: 0.9799199318691685\n",
      "RF plot data saved to C:\\Users\\zhao-\\Jiaheng\\BSA protein\\data\\Superspectra20231107\\Results\\3x3_5_FigureData\\Cysteamine_Cysteine_MCH_rf5.csv\n"
     ]
    },
    {
     "name": "stderr",
     "output_type": "stream",
     "text": [
      "C:\\Users\\zhao-\\AppData\\Local\\Temp\\ipykernel_11060\\1142750743.py:10: DtypeWarning: Columns (4197) have mixed types. Specify dtype option on import or set low_memory=False.\n",
      "  train = pd.read_csv(file_path)\n"
     ]
    },
    {
     "name": "stdout",
     "output_type": "stream",
     "text": [
      "NaN values found in the DataFrame. Imputing with median values...\n"
     ]
    },
    {
     "name": "stderr",
     "output_type": "stream",
     "text": [
      "C:\\Users\\zhao-\\AppData\\Local\\Temp\\ipykernel_11060\\1142750743.py:33: DtypeWarning: Columns (4197) have mixed types. Specify dtype option on import or set low_memory=False.\n",
      "  test = pd.read_csv(tfile_path)\n"
     ]
    },
    {
     "name": "stdout",
     "output_type": "stream",
     "text": [
      "NaN values found in the DataFrame. Imputing with median values...\n",
      "MAE: 2.2725800589304566\n",
      "RMSE: 3.1065452593957326\n",
      "R^2: 0.6510016672961096\n",
      "SVR plot data saved to C:\\Users\\zhao-\\Jiaheng\\BSA protein\\data\\Superspectra20231107\\Results\\3x3_6_FigureData\\Bare_Cysteamine_Cysteine_svr6.csv\n",
      "MAE: 0.20973893164809773\n",
      "RMSE: 0.36889657779772206\n",
      "R^2: 0.9950787295284272\n",
      "RF plot data saved to C:\\Users\\zhao-\\Jiaheng\\BSA protein\\data\\Superspectra20231107\\Results\\3x3_6_FigureData\\Bare_Cysteamine_Cysteine_rf6.csv\n"
     ]
    },
    {
     "name": "stderr",
     "output_type": "stream",
     "text": [
      "C:\\Users\\zhao-\\AppData\\Local\\Temp\\ipykernel_11060\\1142750743.py:10: DtypeWarning: Columns (4197) have mixed types. Specify dtype option on import or set low_memory=False.\n",
      "  train = pd.read_csv(file_path)\n"
     ]
    },
    {
     "name": "stdout",
     "output_type": "stream",
     "text": [
      "NaN values found in the DataFrame. Imputing with median values...\n"
     ]
    },
    {
     "name": "stderr",
     "output_type": "stream",
     "text": [
      "C:\\Users\\zhao-\\AppData\\Local\\Temp\\ipykernel_11060\\1142750743.py:33: DtypeWarning: Columns (4197) have mixed types. Specify dtype option on import or set low_memory=False.\n",
      "  test = pd.read_csv(tfile_path)\n"
     ]
    },
    {
     "name": "stdout",
     "output_type": "stream",
     "text": [
      "NaN values found in the DataFrame. Imputing with median values...\n",
      "MAE: 2.292300446623379\n",
      "RMSE: 3.1466204038111147\n",
      "R^2: 0.6135934443267037\n",
      "SVR plot data saved to C:\\Users\\zhao-\\Jiaheng\\BSA protein\\data\\Superspectra20231107\\Results\\3x3_6_FigureData\\Bare_Cysteamine_MCH_svr6.csv\n",
      "MAE: 1.0261050453623737\n",
      "RMSE: 1.8946637477543729\n",
      "R^2: 0.8599058282604766\n",
      "RF plot data saved to C:\\Users\\zhao-\\Jiaheng\\BSA protein\\data\\Superspectra20231107\\Results\\3x3_6_FigureData\\Bare_Cysteamine_MCH_rf6.csv\n"
     ]
    },
    {
     "name": "stderr",
     "output_type": "stream",
     "text": [
      "C:\\Users\\zhao-\\AppData\\Local\\Temp\\ipykernel_11060\\1142750743.py:10: DtypeWarning: Columns (4197) have mixed types. Specify dtype option on import or set low_memory=False.\n",
      "  train = pd.read_csv(file_path)\n"
     ]
    },
    {
     "name": "stdout",
     "output_type": "stream",
     "text": [
      "NaN values found in the DataFrame. Imputing with median values...\n"
     ]
    },
    {
     "name": "stderr",
     "output_type": "stream",
     "text": [
      "C:\\Users\\zhao-\\AppData\\Local\\Temp\\ipykernel_11060\\1142750743.py:33: DtypeWarning: Columns (4197) have mixed types. Specify dtype option on import or set low_memory=False.\n",
      "  test = pd.read_csv(tfile_path)\n"
     ]
    },
    {
     "name": "stdout",
     "output_type": "stream",
     "text": [
      "NaN values found in the DataFrame. Imputing with median values...\n",
      "MAE: 1.6507153115393611\n",
      "RMSE: 2.18003362573689\n",
      "R^2: 0.814526374289369\n",
      "SVR plot data saved to C:\\Users\\zhao-\\Jiaheng\\BSA protein\\data\\Superspectra20231107\\Results\\3x3_6_FigureData\\Bare_Cysteine_MCH_svr6.csv\n",
      "MAE: 0.500309934198108\n",
      "RMSE: 0.7365961262780154\n",
      "R^2: 0.9788254281231439\n",
      "RF plot data saved to C:\\Users\\zhao-\\Jiaheng\\BSA protein\\data\\Superspectra20231107\\Results\\3x3_6_FigureData\\Bare_Cysteine_MCH_rf6.csv\n",
      "NaN values found in the DataFrame. Imputing with median values...\n",
      "NaN values found in the DataFrame. Imputing with median values...\n",
      "MAE: 0.5521449844885933\n",
      "RMSE: 0.7306165137545502\n",
      "R^2: 0.979167818759851\n",
      "SVR plot data saved to C:\\Users\\zhao-\\Jiaheng\\BSA protein\\data\\Superspectra20231107\\Results\\3x3_6_FigureData\\Cysteamine_Cysteine_MCH_svr6.csv\n",
      "MAE: 0.4503335253200612\n",
      "RMSE: 0.7130388601951736\n",
      "R^2: 0.9801581493851176\n",
      "RF plot data saved to C:\\Users\\zhao-\\Jiaheng\\BSA protein\\data\\Superspectra20231107\\Results\\3x3_6_FigureData\\Cysteamine_Cysteine_MCH_rf6.csv\n"
     ]
    },
    {
     "name": "stderr",
     "output_type": "stream",
     "text": [
      "C:\\Users\\zhao-\\AppData\\Local\\Temp\\ipykernel_11060\\1142750743.py:10: DtypeWarning: Columns (4197) have mixed types. Specify dtype option on import or set low_memory=False.\n",
      "  train = pd.read_csv(file_path)\n"
     ]
    },
    {
     "name": "stdout",
     "output_type": "stream",
     "text": [
      "NaN values found in the DataFrame. Imputing with median values...\n"
     ]
    },
    {
     "name": "stderr",
     "output_type": "stream",
     "text": [
      "C:\\Users\\zhao-\\AppData\\Local\\Temp\\ipykernel_11060\\1142750743.py:33: DtypeWarning: Columns (4197) have mixed types. Specify dtype option on import or set low_memory=False.\n",
      "  test = pd.read_csv(tfile_path)\n"
     ]
    },
    {
     "name": "stdout",
     "output_type": "stream",
     "text": [
      "NaN values found in the DataFrame. Imputing with median values...\n",
      "MAE: 2.3430740879619822\n",
      "RMSE: 3.064011786299426\n",
      "R^2: 0.6604929126448469\n",
      "SVR plot data saved to C:\\Users\\zhao-\\Jiaheng\\BSA protein\\data\\Superspectra20231107\\Results\\3x3_7_FigureData\\Bare_Cysteamine_Cysteine_svr7.csv\n",
      "MAE: 0.2775394123636554\n",
      "RMSE: 0.4788560324702041\n",
      "R^2: 0.9917076445940306\n",
      "RF plot data saved to C:\\Users\\zhao-\\Jiaheng\\BSA protein\\data\\Superspectra20231107\\Results\\3x3_7_FigureData\\Bare_Cysteamine_Cysteine_rf7.csv\n"
     ]
    },
    {
     "name": "stderr",
     "output_type": "stream",
     "text": [
      "C:\\Users\\zhao-\\AppData\\Local\\Temp\\ipykernel_11060\\1142750743.py:10: DtypeWarning: Columns (4197) have mixed types. Specify dtype option on import or set low_memory=False.\n",
      "  train = pd.read_csv(file_path)\n"
     ]
    },
    {
     "name": "stdout",
     "output_type": "stream",
     "text": [
      "NaN values found in the DataFrame. Imputing with median values...\n"
     ]
    },
    {
     "name": "stderr",
     "output_type": "stream",
     "text": [
      "C:\\Users\\zhao-\\AppData\\Local\\Temp\\ipykernel_11060\\1142750743.py:33: DtypeWarning: Columns (4197) have mixed types. Specify dtype option on import or set low_memory=False.\n",
      "  test = pd.read_csv(tfile_path)\n"
     ]
    },
    {
     "name": "stdout",
     "output_type": "stream",
     "text": [
      "NaN values found in the DataFrame. Imputing with median values...\n",
      "MAE: 1.923317758066436\n",
      "RMSE: 2.832457737769137\n",
      "R^2: 0.6869002980200549\n",
      "SVR plot data saved to C:\\Users\\zhao-\\Jiaheng\\BSA protein\\data\\Superspectra20231107\\Results\\3x3_7_FigureData\\Bare_Cysteamine_MCH_svr7.csv\n",
      "MAE: 0.7757121046458768\n",
      "RMSE: 1.3202628937220595\n",
      "R^2: 0.9319737372738172\n",
      "RF plot data saved to C:\\Users\\zhao-\\Jiaheng\\BSA protein\\data\\Superspectra20231107\\Results\\3x3_7_FigureData\\Bare_Cysteamine_MCH_rf7.csv\n"
     ]
    },
    {
     "name": "stderr",
     "output_type": "stream",
     "text": [
      "C:\\Users\\zhao-\\AppData\\Local\\Temp\\ipykernel_11060\\1142750743.py:10: DtypeWarning: Columns (4197) have mixed types. Specify dtype option on import or set low_memory=False.\n",
      "  train = pd.read_csv(file_path)\n"
     ]
    },
    {
     "name": "stdout",
     "output_type": "stream",
     "text": [
      "NaN values found in the DataFrame. Imputing with median values...\n"
     ]
    },
    {
     "name": "stderr",
     "output_type": "stream",
     "text": [
      "C:\\Users\\zhao-\\AppData\\Local\\Temp\\ipykernel_11060\\1142750743.py:33: DtypeWarning: Columns (4197) have mixed types. Specify dtype option on import or set low_memory=False.\n",
      "  test = pd.read_csv(tfile_path)\n"
     ]
    },
    {
     "name": "stdout",
     "output_type": "stream",
     "text": [
      "NaN values found in the DataFrame. Imputing with median values...\n",
      "MAE: 1.927250906052135\n",
      "RMSE: 2.5060472304229067\n",
      "R^2: 0.7549050966179165\n",
      "SVR plot data saved to C:\\Users\\zhao-\\Jiaheng\\BSA protein\\data\\Superspectra20231107\\Results\\3x3_7_FigureData\\Bare_Cysteine_MCH_svr7.csv\n",
      "MAE: 0.5066009787774792\n",
      "RMSE: 0.7425174577972197\n",
      "R^2: 0.9784836244863065\n",
      "RF plot data saved to C:\\Users\\zhao-\\Jiaheng\\BSA protein\\data\\Superspectra20231107\\Results\\3x3_7_FigureData\\Bare_Cysteine_MCH_rf7.csv\n",
      "NaN values found in the DataFrame. Imputing with median values...\n",
      "NaN values found in the DataFrame. Imputing with median values...\n",
      "MAE: 0.6822297096363513\n",
      "RMSE: 0.9346803299140688\n",
      "R^2: 0.965905683895868\n",
      "SVR plot data saved to C:\\Users\\zhao-\\Jiaheng\\BSA protein\\data\\Superspectra20231107\\Results\\3x3_7_FigureData\\Cysteamine_Cysteine_MCH_svr7.csv\n",
      "MAE: 0.5133928689639166\n",
      "RMSE: 0.7807113598823583\n",
      "R^2: 0.9762131587367304\n",
      "RF plot data saved to C:\\Users\\zhao-\\Jiaheng\\BSA protein\\data\\Superspectra20231107\\Results\\3x3_7_FigureData\\Cysteamine_Cysteine_MCH_rf7.csv\n"
     ]
    },
    {
     "name": "stderr",
     "output_type": "stream",
     "text": [
      "C:\\Users\\zhao-\\AppData\\Local\\Temp\\ipykernel_11060\\1142750743.py:10: DtypeWarning: Columns (4197) have mixed types. Specify dtype option on import or set low_memory=False.\n",
      "  train = pd.read_csv(file_path)\n"
     ]
    },
    {
     "name": "stdout",
     "output_type": "stream",
     "text": [
      "NaN values found in the DataFrame. Imputing with median values...\n"
     ]
    },
    {
     "name": "stderr",
     "output_type": "stream",
     "text": [
      "C:\\Users\\zhao-\\AppData\\Local\\Temp\\ipykernel_11060\\1142750743.py:33: DtypeWarning: Columns (4197) have mixed types. Specify dtype option on import or set low_memory=False.\n",
      "  test = pd.read_csv(tfile_path)\n"
     ]
    },
    {
     "name": "stdout",
     "output_type": "stream",
     "text": [
      "NaN values found in the DataFrame. Imputing with median values...\n",
      "MAE: 2.3601540980893634\n",
      "RMSE: 3.147353533951389\n",
      "R^2: 0.6417724034259088\n",
      "SVR plot data saved to C:\\Users\\zhao-\\Jiaheng\\BSA protein\\data\\Superspectra20231107\\Results\\3x3_8_FigureData\\Bare_Cysteamine_Cysteine_svr8.csv\n",
      "MAE: 0.23604224140664087\n",
      "RMSE: 0.41012110984553773\n",
      "R^2: 0.9939173583749585\n",
      "RF plot data saved to C:\\Users\\zhao-\\Jiaheng\\BSA protein\\data\\Superspectra20231107\\Results\\3x3_8_FigureData\\Bare_Cysteamine_Cysteine_rf8.csv\n"
     ]
    },
    {
     "name": "stderr",
     "output_type": "stream",
     "text": [
      "C:\\Users\\zhao-\\AppData\\Local\\Temp\\ipykernel_11060\\1142750743.py:10: DtypeWarning: Columns (4197) have mixed types. Specify dtype option on import or set low_memory=False.\n",
      "  train = pd.read_csv(file_path)\n"
     ]
    },
    {
     "name": "stdout",
     "output_type": "stream",
     "text": [
      "NaN values found in the DataFrame. Imputing with median values...\n"
     ]
    },
    {
     "name": "stderr",
     "output_type": "stream",
     "text": [
      "C:\\Users\\zhao-\\AppData\\Local\\Temp\\ipykernel_11060\\1142750743.py:33: DtypeWarning: Columns (4197) have mixed types. Specify dtype option on import or set low_memory=False.\n",
      "  test = pd.read_csv(tfile_path)\n"
     ]
    },
    {
     "name": "stdout",
     "output_type": "stream",
     "text": [
      "NaN values found in the DataFrame. Imputing with median values...\n",
      "MAE: 1.8379459704955208\n",
      "RMSE: 2.809465423887332\n",
      "R^2: 0.6919628048692494\n",
      "SVR plot data saved to C:\\Users\\zhao-\\Jiaheng\\BSA protein\\data\\Superspectra20231107\\Results\\3x3_8_FigureData\\Bare_Cysteamine_MCH_svr8.csv\n",
      "MAE: 0.8913810338988027\n",
      "RMSE: 1.6581503454750772\n",
      "R^2: 0.892699044702269\n",
      "RF plot data saved to C:\\Users\\zhao-\\Jiaheng\\BSA protein\\data\\Superspectra20231107\\Results\\3x3_8_FigureData\\Bare_Cysteamine_MCH_rf8.csv\n"
     ]
    },
    {
     "name": "stderr",
     "output_type": "stream",
     "text": [
      "C:\\Users\\zhao-\\AppData\\Local\\Temp\\ipykernel_11060\\1142750743.py:10: DtypeWarning: Columns (4197) have mixed types. Specify dtype option on import or set low_memory=False.\n",
      "  train = pd.read_csv(file_path)\n"
     ]
    },
    {
     "name": "stdout",
     "output_type": "stream",
     "text": [
      "NaN values found in the DataFrame. Imputing with median values...\n"
     ]
    },
    {
     "name": "stderr",
     "output_type": "stream",
     "text": [
      "C:\\Users\\zhao-\\AppData\\Local\\Temp\\ipykernel_11060\\1142750743.py:33: DtypeWarning: Columns (4197) have mixed types. Specify dtype option on import or set low_memory=False.\n",
      "  test = pd.read_csv(tfile_path)\n"
     ]
    },
    {
     "name": "stdout",
     "output_type": "stream",
     "text": [
      "NaN values found in the DataFrame. Imputing with median values...\n",
      "MAE: 1.873190910829678\n",
      "RMSE: 2.6374468845845063\n",
      "R^2: 0.7285291383819339\n",
      "SVR plot data saved to C:\\Users\\zhao-\\Jiaheng\\BSA protein\\data\\Superspectra20231107\\Results\\3x3_8_FigureData\\Bare_Cysteine_MCH_svr8.csv\n",
      "MAE: 0.5752075731778655\n",
      "RMSE: 0.8098566420570495\n",
      "R^2: 0.9744040016291319\n",
      "RF plot data saved to C:\\Users\\zhao-\\Jiaheng\\BSA protein\\data\\Superspectra20231107\\Results\\3x3_8_FigureData\\Bare_Cysteine_MCH_rf8.csv\n",
      "NaN values found in the DataFrame. Imputing with median values...\n",
      "NaN values found in the DataFrame. Imputing with median values...\n",
      "MAE: 0.637090776440324\n",
      "RMSE: 0.8483548306028035\n",
      "R^2: 0.9719126444952636\n",
      "SVR plot data saved to C:\\Users\\zhao-\\Jiaheng\\BSA protein\\data\\Superspectra20231107\\Results\\3x3_8_FigureData\\Cysteamine_Cysteine_MCH_svr8.csv\n",
      "MAE: 0.5012986254669697\n",
      "RMSE: 0.795192497502545\n",
      "R^2: 0.9753225474873938\n",
      "RF plot data saved to C:\\Users\\zhao-\\Jiaheng\\BSA protein\\data\\Superspectra20231107\\Results\\3x3_8_FigureData\\Cysteamine_Cysteine_MCH_rf8.csv\n"
     ]
    },
    {
     "name": "stderr",
     "output_type": "stream",
     "text": [
      "C:\\Users\\zhao-\\AppData\\Local\\Temp\\ipykernel_11060\\1142750743.py:10: DtypeWarning: Columns (4197) have mixed types. Specify dtype option on import or set low_memory=False.\n",
      "  train = pd.read_csv(file_path)\n"
     ]
    },
    {
     "name": "stdout",
     "output_type": "stream",
     "text": [
      "NaN values found in the DataFrame. Imputing with median values...\n"
     ]
    },
    {
     "name": "stderr",
     "output_type": "stream",
     "text": [
      "C:\\Users\\zhao-\\AppData\\Local\\Temp\\ipykernel_11060\\1142750743.py:33: DtypeWarning: Columns (4197) have mixed types. Specify dtype option on import or set low_memory=False.\n",
      "  test = pd.read_csv(tfile_path)\n"
     ]
    },
    {
     "name": "stdout",
     "output_type": "stream",
     "text": [
      "NaN values found in the DataFrame. Imputing with median values...\n",
      "MAE: 2.387365065906686\n",
      "RMSE: 3.2916493764053123\n",
      "R^2: 0.6081723149358496\n",
      "SVR plot data saved to C:\\Users\\zhao-\\Jiaheng\\BSA protein\\data\\Superspectra20231107\\Results\\3x3_9_FigureData\\Bare_Cysteamine_Cysteine_svr9.csv\n",
      "MAE: 0.2656360952502729\n",
      "RMSE: 0.4845175272733742\n",
      "R^2: 0.9915104051283355\n",
      "RF plot data saved to C:\\Users\\zhao-\\Jiaheng\\BSA protein\\data\\Superspectra20231107\\Results\\3x3_9_FigureData\\Bare_Cysteamine_Cysteine_rf9.csv\n"
     ]
    },
    {
     "name": "stderr",
     "output_type": "stream",
     "text": [
      "C:\\Users\\zhao-\\AppData\\Local\\Temp\\ipykernel_11060\\1142750743.py:10: DtypeWarning: Columns (4197) have mixed types. Specify dtype option on import or set low_memory=False.\n",
      "  train = pd.read_csv(file_path)\n"
     ]
    },
    {
     "name": "stdout",
     "output_type": "stream",
     "text": [
      "NaN values found in the DataFrame. Imputing with median values...\n"
     ]
    },
    {
     "name": "stderr",
     "output_type": "stream",
     "text": [
      "C:\\Users\\zhao-\\AppData\\Local\\Temp\\ipykernel_11060\\1142750743.py:33: DtypeWarning: Columns (4197) have mixed types. Specify dtype option on import or set low_memory=False.\n",
      "  test = pd.read_csv(tfile_path)\n"
     ]
    },
    {
     "name": "stdout",
     "output_type": "stream",
     "text": [
      "NaN values found in the DataFrame. Imputing with median values...\n",
      "MAE: 1.8960776312155645\n",
      "RMSE: 2.9550089752901965\n",
      "R^2: 0.6592205594294958\n",
      "SVR plot data saved to C:\\Users\\zhao-\\Jiaheng\\BSA protein\\data\\Superspectra20231107\\Results\\3x3_9_FigureData\\Bare_Cysteamine_MCH_svr9.csv\n",
      "MAE: 1.0524348126810252\n",
      "RMSE: 2.1909614692135735\n",
      "R^2: 0.812662268471085\n",
      "RF plot data saved to C:\\Users\\zhao-\\Jiaheng\\BSA protein\\data\\Superspectra20231107\\Results\\3x3_9_FigureData\\Bare_Cysteamine_MCH_rf9.csv\n"
     ]
    },
    {
     "name": "stderr",
     "output_type": "stream",
     "text": [
      "C:\\Users\\zhao-\\AppData\\Local\\Temp\\ipykernel_11060\\1142750743.py:10: DtypeWarning: Columns (4197) have mixed types. Specify dtype option on import or set low_memory=False.\n",
      "  train = pd.read_csv(file_path)\n"
     ]
    },
    {
     "name": "stdout",
     "output_type": "stream",
     "text": [
      "NaN values found in the DataFrame. Imputing with median values...\n"
     ]
    },
    {
     "name": "stderr",
     "output_type": "stream",
     "text": [
      "C:\\Users\\zhao-\\AppData\\Local\\Temp\\ipykernel_11060\\1142750743.py:33: DtypeWarning: Columns (4197) have mixed types. Specify dtype option on import or set low_memory=False.\n",
      "  test = pd.read_csv(tfile_path)\n"
     ]
    },
    {
     "name": "stdout",
     "output_type": "stream",
     "text": [
      "NaN values found in the DataFrame. Imputing with median values...\n",
      "MAE: 2.0972121545573468\n",
      "RMSE: 3.070278678650599\n",
      "R^2: 0.6321156014712257\n",
      "SVR plot data saved to C:\\Users\\zhao-\\Jiaheng\\BSA protein\\data\\Superspectra20231107\\Results\\3x3_9_FigureData\\Bare_Cysteine_MCH_svr9.csv\n",
      "MAE: 0.5648248148610459\n",
      "RMSE: 0.8413829851958258\n",
      "R^2: 0.9723723956716058\n",
      "RF plot data saved to C:\\Users\\zhao-\\Jiaheng\\BSA protein\\data\\Superspectra20231107\\Results\\3x3_9_FigureData\\Bare_Cysteine_MCH_rf9.csv\n",
      "NaN values found in the DataFrame. Imputing with median values...\n",
      "NaN values found in the DataFrame. Imputing with median values...\n",
      "MAE: 0.6808967910612427\n",
      "RMSE: 0.9831710533311045\n",
      "R^2: 0.9622763293953407\n",
      "SVR plot data saved to C:\\Users\\zhao-\\Jiaheng\\BSA protein\\data\\Superspectra20231107\\Results\\3x3_9_FigureData\\Cysteamine_Cysteine_MCH_svr9.csv\n",
      "MAE: 0.4539653932778659\n",
      "RMSE: 0.7231977862275221\n",
      "R^2: 0.979588733499395\n",
      "RF plot data saved to C:\\Users\\zhao-\\Jiaheng\\BSA protein\\data\\Superspectra20231107\\Results\\3x3_9_FigureData\\Cysteamine_Cysteine_MCH_rf9.csv\n"
     ]
    },
    {
     "name": "stderr",
     "output_type": "stream",
     "text": [
      "C:\\Users\\zhao-\\AppData\\Local\\Temp\\ipykernel_11060\\1142750743.py:10: DtypeWarning: Columns (4197) have mixed types. Specify dtype option on import or set low_memory=False.\n",
      "  train = pd.read_csv(file_path)\n"
     ]
    },
    {
     "name": "stdout",
     "output_type": "stream",
     "text": [
      "NaN values found in the DataFrame. Imputing with median values...\n"
     ]
    },
    {
     "name": "stderr",
     "output_type": "stream",
     "text": [
      "C:\\Users\\zhao-\\AppData\\Local\\Temp\\ipykernel_11060\\1142750743.py:33: DtypeWarning: Columns (4197) have mixed types. Specify dtype option on import or set low_memory=False.\n",
      "  test = pd.read_csv(tfile_path)\n"
     ]
    },
    {
     "name": "stdout",
     "output_type": "stream",
     "text": [
      "NaN values found in the DataFrame. Imputing with median values...\n",
      "MAE: 2.703025420425835\n",
      "RMSE: 3.738562972458092\n",
      "R^2: 0.49455095269720817\n",
      "SVR plot data saved to C:\\Users\\zhao-\\Jiaheng\\BSA protein\\data\\Superspectra20231107\\Results\\3x3_10_FigureData\\Bare_Cysteamine_Cysteine_svr10.csv\n",
      "MAE: 0.26966402425548613\n",
      "RMSE: 0.46111879326618643\n",
      "R^2: 0.9923105792220336\n",
      "RF plot data saved to C:\\Users\\zhao-\\Jiaheng\\BSA protein\\data\\Superspectra20231107\\Results\\3x3_10_FigureData\\Bare_Cysteamine_Cysteine_rf10.csv\n"
     ]
    },
    {
     "name": "stderr",
     "output_type": "stream",
     "text": [
      "C:\\Users\\zhao-\\AppData\\Local\\Temp\\ipykernel_11060\\1142750743.py:10: DtypeWarning: Columns (4197) have mixed types. Specify dtype option on import or set low_memory=False.\n",
      "  train = pd.read_csv(file_path)\n"
     ]
    },
    {
     "name": "stdout",
     "output_type": "stream",
     "text": [
      "NaN values found in the DataFrame. Imputing with median values...\n"
     ]
    },
    {
     "name": "stderr",
     "output_type": "stream",
     "text": [
      "C:\\Users\\zhao-\\AppData\\Local\\Temp\\ipykernel_11060\\1142750743.py:33: DtypeWarning: Columns (4197) have mixed types. Specify dtype option on import or set low_memory=False.\n",
      "  test = pd.read_csv(tfile_path)\n"
     ]
    },
    {
     "name": "stdout",
     "output_type": "stream",
     "text": [
      "NaN values found in the DataFrame. Imputing with median values...\n",
      "MAE: 2.0327553782058967\n",
      "RMSE: 3.0838644873925047\n",
      "R^2: 0.6288526631190338\n",
      "SVR plot data saved to C:\\Users\\zhao-\\Jiaheng\\BSA protein\\data\\Superspectra20231107\\Results\\3x3_10_FigureData\\Bare_Cysteamine_MCH_svr10.csv\n",
      "MAE: 1.1479720195861767\n",
      "RMSE: 2.7693195142143514\n",
      "R^2: 0.7007033133762302\n",
      "RF plot data saved to C:\\Users\\zhao-\\Jiaheng\\BSA protein\\data\\Superspectra20231107\\Results\\3x3_10_FigureData\\Bare_Cysteamine_MCH_rf10.csv\n"
     ]
    },
    {
     "name": "stderr",
     "output_type": "stream",
     "text": [
      "C:\\Users\\zhao-\\AppData\\Local\\Temp\\ipykernel_11060\\1142750743.py:10: DtypeWarning: Columns (4197) have mixed types. Specify dtype option on import or set low_memory=False.\n",
      "  train = pd.read_csv(file_path)\n"
     ]
    },
    {
     "name": "stdout",
     "output_type": "stream",
     "text": [
      "NaN values found in the DataFrame. Imputing with median values...\n"
     ]
    },
    {
     "name": "stderr",
     "output_type": "stream",
     "text": [
      "C:\\Users\\zhao-\\AppData\\Local\\Temp\\ipykernel_11060\\1142750743.py:33: DtypeWarning: Columns (4197) have mixed types. Specify dtype option on import or set low_memory=False.\n",
      "  test = pd.read_csv(tfile_path)\n"
     ]
    },
    {
     "name": "stdout",
     "output_type": "stream",
     "text": [
      "NaN values found in the DataFrame. Imputing with median values...\n",
      "MAE: 2.1613510842468027\n",
      "RMSE: 2.9894893850407915\n",
      "R^2: 0.651221417422801\n",
      "SVR plot data saved to C:\\Users\\zhao-\\Jiaheng\\BSA protein\\data\\Superspectra20231107\\Results\\3x3_10_FigureData\\Bare_Cysteine_MCH_svr10.csv\n",
      "MAE: 0.43400261945735424\n",
      "RMSE: 0.6736427943125962\n",
      "R^2: 0.9822901405570359\n",
      "RF plot data saved to C:\\Users\\zhao-\\Jiaheng\\BSA protein\\data\\Superspectra20231107\\Results\\3x3_10_FigureData\\Bare_Cysteine_MCH_rf10.csv\n",
      "NaN values found in the DataFrame. Imputing with median values...\n",
      "NaN values found in the DataFrame. Imputing with median values...\n",
      "MAE: 0.7317920231140762\n",
      "RMSE: 0.9591374530322574\n",
      "R^2: 0.9640980963638202\n",
      "SVR plot data saved to C:\\Users\\zhao-\\Jiaheng\\BSA protein\\data\\Superspectra20231107\\Results\\3x3_10_FigureData\\Cysteamine_Cysteine_MCH_svr10.csv\n",
      "MAE: 0.45561687871054596\n",
      "RMSE: 0.6984061222084024\n",
      "R^2: 0.9809641684742179\n",
      "RF plot data saved to C:\\Users\\zhao-\\Jiaheng\\BSA protein\\data\\Superspectra20231107\\Results\\3x3_10_FigureData\\Cysteamine_Cysteine_MCH_rf10.csv\n"
     ]
    }
   ],
   "source": [
    "for i in range(START, START+iteration_number):\n",
    "    modification_combination_list = ['Bare_Cysteamine_Cysteine', 'Bare_Cysteamine_MCH', 'Bare_Cysteine_MCH', 'Cysteamine_Cysteine_MCH']\n",
    "    \n",
    "    for modification in modification_combination_list:\n",
    "        # Step 1: reformat the train and test sets\n",
    "        # train\n",
    "        file_path = f\"{WORKING_PATH}\\\\Superspectra20250705\\\\3x3_{i}\\\\{modification}_train{i}.csv\"\n",
    "\n",
    "        # Read the CSV file into a DataFrame\n",
    "        train = pd.read_csv(file_path)\n",
    "        train = preprocess_data(train)\n",
    "\n",
    "#         # Display the first few rows of the data to verify\n",
    "#         print(train.head())\n",
    "\n",
    "        # Select training data with a specific label\n",
    "        selected_label = train['label'].iloc[0] # always choose the first label. This label has no use, but just to ensure that the code can run.\n",
    "        selected_data_train = train[train['label'] == selected_label] # split training data\n",
    "        # selected_data_train\n",
    "\n",
    "        # Get the indices of the selected data\n",
    "        selected_indices_train = selected_data_train.index\n",
    "        # selected_indices_train\n",
    "\n",
    "        # Get new X_train and y_train_reg\n",
    "        X_train_split = selected_data_train.values[:,:-2]\n",
    "        y_train_reg_split = np.log10(selected_data_train.values[:,-1].astype(float)+1e-20) # we only need the regression part.\n",
    "\n",
    "        # test\n",
    "        tfile_path = f\"{WORKING_PATH}\\\\Superspectra20250705\\\\3x3_{i}\\\\{modification}_test{i}.csv\"  # Replace with the path to your CSV file\n",
    "\n",
    "        # Read the CSV file into a DataFrame\n",
    "        test = pd.read_csv(tfile_path)\n",
    "        test = preprocess_data(test)\n",
    "\n",
    "#         # Display the first few rows of the data to verify\n",
    "#         print(test.head())\n",
    "\n",
    "        # Similarly, select testing data with the specific label\n",
    "        selected_data_test = test[test['label'] == selected_label] # split testing data\n",
    "        # selected_data_test\n",
    "\n",
    "        # Get the indices of the selected data\n",
    "        selected_indices_test = selected_data_test.index\n",
    "        # selected_indices_test\n",
    "\n",
    "        # Get new X_test and y_test_reg\n",
    "        X_test_split = selected_data_test.values[:,:-2]\n",
    "        y_test_reg_split = np.log10(selected_data_test.values[:,-1].astype(float)+1e-20) # we only need the regression part.\n",
    "     \n",
    "    \n",
    "        # Step 2: SVR calculation\n",
    "        # Create a svr\n",
    "        svr = svm.SVR(kernel = 'rbf', C = 1000, epsilon = 0.1)\n",
    "        # sklearn.svr only accept label vectors as input, not one-hot vectors.\n",
    "        y_train_reg_split_label = y_train_reg_split\n",
    "        with parallel_backend('threading', n_jobs=-1):\n",
    "            # Fit the SVR model\n",
    "            svr.fit(X_train_split, y_train_reg_split_label)\n",
    "        svr_pred = svr.predict(X_test_split)\n",
    "        \n",
    "        # Comparing results\n",
    "        y_test_reg_split_label = y_test_reg_split\n",
    "\n",
    "        # Saving performances and pred vs real curve\n",
    "        MAE = mean_absolute_error(y_test_reg_split_label, svr_pred)\n",
    "        RMSE = np.sqrt(mean_squared_error(y_test_reg_split_label, svr_pred))\n",
    "        R_squared = r2_score(y_test_reg_split_label, svr_pred)\n",
    "\n",
    "        print(\"MAE:\", MAE)\n",
    "        print(\"RMSE:\", RMSE)\n",
    "        print(\"R^2:\", R_squared)\n",
    "        \n",
    "        # New directory where you want to save the file\n",
    "        save_directory = f\"{WORKING_PATH}\\\\Superspectra20250705\\\\Results\\\\3x3_{i}_FigureData\"\n",
    "        os.makedirs(save_directory, exist_ok=True)\n",
    "        \n",
    "#         # Extract the base filename from the original file_path\n",
    "#         base_filename = os.path.basename(file_path)\n",
    "\n",
    "        # Create a DataFrame with these metrics\n",
    "        performance_metrics_df = pd.DataFrame({\n",
    "            'MAE': [MAE],\n",
    "            'RMSE': [RMSE],\n",
    "            'R^2': [R_squared]\n",
    "        })\n",
    "        \n",
    "        # Construct the new file path with the same filename in the new directory\n",
    "        save_file_path = os.path.join(save_directory, f\"{modification}_performance_svr{i}.csv\")\n",
    "        # Save the DataFrame to a CSV file in the new location with the same name\n",
    "        performance_metrics_df.to_csv(save_file_path, index=False) \n",
    "        \n",
    "        # Actual and predicted values\n",
    "#         plt.figure(figsize=(6, 6))\n",
    "#         plt.scatter(y_test_reg_split, svr_pred, edgecolors=\"grey\", linewidths=0.2, alpha = 0.3)\n",
    "#         plt.axline([plt.xlim()[0], plt.xlim()[0]], [plt.xlim()[1], plt.xlim()[1]], linestyle='--', color=\"grey\")\n",
    "#         plt.xlabel(\"Actual log10(C)\")\n",
    "#         plt.ylabel(\"Predicted log10(C)\")\n",
    "#         plt.title(modification)\n",
    "        \n",
    "        plot_data_df = pd.DataFrame({\n",
    "            'Actual_log10(C)': y_test_reg_split,\n",
    "            'Predicted_log10(C)': svr_pred\n",
    "        })\n",
    "\n",
    "        # Construct the new file path with the same filename in the new directory\n",
    "        save_file_path = os.path.join(save_directory, f\"{modification}_svr{i}.csv\")\n",
    "        # Save the DataFrame to a CSV file in the new location with the same name\n",
    "        plot_data_df.to_csv(save_file_path, index=False)\n",
    "\n",
    "        print(f\"SVR plot data saved to {save_file_path}\")\n",
    "\n",
    "        \n",
    "        # Step 3: RF calculation\n",
    "        # Create an rf\n",
    "        rf = RandomForestRegressor(n_estimators=100, criterion=\"squared_error\", max_depth=None, n_jobs=-1, verbose=0)\n",
    "        rf.fit(X_train_split, y_train_reg_split_label)\n",
    "        rf_pred = rf.predict(X_test_split)\n",
    "\n",
    "        # Saving performances and pred vs real curve\n",
    "        MAE = mean_absolute_error(y_test_reg_split_label, rf_pred)\n",
    "        RMSE = np.sqrt(mean_squared_error(y_test_reg_split_label, rf_pred))\n",
    "        R_squared = r2_score(y_test_reg_split_label, rf_pred)\n",
    "\n",
    "        print(\"MAE:\", MAE)\n",
    "        print(\"RMSE:\", RMSE)\n",
    "        print(\"R^2:\", R_squared)\n",
    "        \n",
    "        # Create a DataFrame with these metrics\n",
    "        performance_metrics_df = pd.DataFrame({\n",
    "            'MAE': [MAE],\n",
    "            'RMSE': [RMSE],\n",
    "            'R^2': [R_squared]\n",
    "        })\n",
    "        \n",
    "        # Construct the new file path with the same filename in the new directory\n",
    "        save_file_path = os.path.join(save_directory, f\"{modification}_performance_rf{i}.csv\")\n",
    "        # Save the DataFrame to a CSV file in the new location with the same name\n",
    "        performance_metrics_df.to_csv(save_file_path, index=False)\n",
    "        \n",
    "        # Actual and predicted values\n",
    "#         plt.figure(figsize=(6, 6))\n",
    "#         plt.scatter(y_test_reg_split, rf_pred, edgecolors=\"grey\", linewidths=0.2, alpha = 0.3)\n",
    "#         plt.axline([plt.xlim()[0], plt.xlim()[0]], [plt.xlim()[1], plt.xlim()[1]], linestyle='--', color=\"grey\")\n",
    "#         plt.xlabel(\"Actual log10(C)\")\n",
    "#         plt.ylabel(\"Predicted log10(C)\")\n",
    "#         plt.title(modification)\n",
    "\n",
    "        plot_data_df = pd.DataFrame({\n",
    "            'Actual_log10(C)': y_test_reg_split,\n",
    "            'Predicted_log10(C)': rf_pred\n",
    "        })\n",
    "\n",
    "        # Construct the new file path with the same filename in the new directory\n",
    "        save_file_path = os.path.join(save_directory, f\"{modification}_rf{i}.csv\")\n",
    "        # Save the DataFrame to a CSV file in the new location with the same name\n",
    "        plot_data_df.to_csv(save_file_path, index=False)\n",
    "\n",
    "        print(f\"RF plot data saved to {save_file_path}\")\n"
   ]
  },
  {
   "cell_type": "markdown",
   "id": "a2365ea1",
   "metadata": {},
   "source": [
    "### 4x4 superspectra"
   ]
  },
  {
   "cell_type": "code",
   "execution_count": 18,
   "id": "e351e8b3",
   "metadata": {},
   "outputs": [],
   "source": [
    "# set the number of total iterations (groups)\n",
    "iteration_number = 10\n",
    "START = 1 # Included"
   ]
  },
  {
   "cell_type": "code",
   "execution_count": 19,
   "id": "cb9f1606",
   "metadata": {
    "scrolled": true
   },
   "outputs": [
    {
     "name": "stderr",
     "output_type": "stream",
     "text": [
      "C:\\Users\\zhao-\\AppData\\Local\\Temp\\ipykernel_11060\\3668949453.py:10: DtypeWarning: Columns (5596) have mixed types. Specify dtype option on import or set low_memory=False.\n",
      "  train = pd.read_csv(file_path)\n"
     ]
    },
    {
     "name": "stdout",
     "output_type": "stream",
     "text": [
      "NaN values found in the DataFrame. Imputing with median values...\n"
     ]
    },
    {
     "name": "stderr",
     "output_type": "stream",
     "text": [
      "C:\\Users\\zhao-\\AppData\\Local\\Temp\\ipykernel_11060\\3668949453.py:33: DtypeWarning: Columns (5596) have mixed types. Specify dtype option on import or set low_memory=False.\n",
      "  test = pd.read_csv(tfile_path)\n"
     ]
    },
    {
     "name": "stdout",
     "output_type": "stream",
     "text": [
      "NaN values found in the DataFrame. Imputing with median values...\n",
      "MAE: 1.6115564998852203\n",
      "RMSE: 2.2061109746861254\n",
      "R^2: 0.8100626006753281\n",
      "SVR plot data saved to C:\\Users\\zhao-\\Jiaheng\\BSA protein\\data\\Superspectra20231107\\Results\\4x4_1_FigureData\\Bare_Cysteamine_Cysteine_MCH_svr1.csv\n",
      "MAE: 0.5932159643638169\n",
      "RMSE: 0.8792681360253783\n",
      "R^2: 0.9698283926696337\n",
      "RF plot data saved to C:\\Users\\zhao-\\Jiaheng\\BSA protein\\data\\Superspectra20231107\\Results\\4x4_1_FigureData\\Bare_Cysteamine_Cysteine_MCH_rf1.csv\n"
     ]
    },
    {
     "name": "stderr",
     "output_type": "stream",
     "text": [
      "C:\\Users\\zhao-\\AppData\\Local\\Temp\\ipykernel_11060\\3668949453.py:10: DtypeWarning: Columns (5596) have mixed types. Specify dtype option on import or set low_memory=False.\n",
      "  train = pd.read_csv(file_path)\n"
     ]
    },
    {
     "name": "stdout",
     "output_type": "stream",
     "text": [
      "NaN values found in the DataFrame. Imputing with median values...\n"
     ]
    },
    {
     "name": "stderr",
     "output_type": "stream",
     "text": [
      "C:\\Users\\zhao-\\AppData\\Local\\Temp\\ipykernel_11060\\3668949453.py:33: DtypeWarning: Columns (5596) have mixed types. Specify dtype option on import or set low_memory=False.\n",
      "  test = pd.read_csv(tfile_path)\n"
     ]
    },
    {
     "name": "stdout",
     "output_type": "stream",
     "text": [
      "NaN values found in the DataFrame. Imputing with median values...\n",
      "MAE: 1.8111780710100756\n",
      "RMSE: 2.6648899677908893\n",
      "R^2: 0.722850345961717\n",
      "SVR plot data saved to C:\\Users\\zhao-\\Jiaheng\\BSA protein\\data\\Superspectra20231107\\Results\\4x4_2_FigureData\\Bare_Cysteamine_Cysteine_MCH_svr2.csv\n",
      "MAE: 0.4079347495131935\n",
      "RMSE: 0.6417870811213342\n",
      "R^2: 0.9839254909164699\n",
      "RF plot data saved to C:\\Users\\zhao-\\Jiaheng\\BSA protein\\data\\Superspectra20231107\\Results\\4x4_2_FigureData\\Bare_Cysteamine_Cysteine_MCH_rf2.csv\n"
     ]
    },
    {
     "name": "stderr",
     "output_type": "stream",
     "text": [
      "C:\\Users\\zhao-\\AppData\\Local\\Temp\\ipykernel_11060\\3668949453.py:10: DtypeWarning: Columns (5596) have mixed types. Specify dtype option on import or set low_memory=False.\n",
      "  train = pd.read_csv(file_path)\n"
     ]
    },
    {
     "name": "stdout",
     "output_type": "stream",
     "text": [
      "NaN values found in the DataFrame. Imputing with median values...\n"
     ]
    },
    {
     "name": "stderr",
     "output_type": "stream",
     "text": [
      "C:\\Users\\zhao-\\AppData\\Local\\Temp\\ipykernel_11060\\3668949453.py:33: DtypeWarning: Columns (5596) have mixed types. Specify dtype option on import or set low_memory=False.\n",
      "  test = pd.read_csv(tfile_path)\n"
     ]
    },
    {
     "name": "stdout",
     "output_type": "stream",
     "text": [
      "NaN values found in the DataFrame. Imputing with median values...\n",
      "MAE: 1.5231561315719613\n",
      "RMSE: 2.2963072295813465\n",
      "R^2: 0.7942140295220824\n",
      "SVR plot data saved to C:\\Users\\zhao-\\Jiaheng\\BSA protein\\data\\Superspectra20231107\\Results\\4x4_3_FigureData\\Bare_Cysteamine_Cysteine_MCH_svr3.csv\n",
      "MAE: 0.5501503944099647\n",
      "RMSE: 0.835961349389882\n",
      "R^2: 0.972727297587638\n",
      "RF plot data saved to C:\\Users\\zhao-\\Jiaheng\\BSA protein\\data\\Superspectra20231107\\Results\\4x4_3_FigureData\\Bare_Cysteamine_Cysteine_MCH_rf3.csv\n"
     ]
    },
    {
     "name": "stderr",
     "output_type": "stream",
     "text": [
      "C:\\Users\\zhao-\\AppData\\Local\\Temp\\ipykernel_11060\\3668949453.py:10: DtypeWarning: Columns (5596) have mixed types. Specify dtype option on import or set low_memory=False.\n",
      "  train = pd.read_csv(file_path)\n"
     ]
    },
    {
     "name": "stdout",
     "output_type": "stream",
     "text": [
      "NaN values found in the DataFrame. Imputing with median values...\n"
     ]
    },
    {
     "name": "stderr",
     "output_type": "stream",
     "text": [
      "C:\\Users\\zhao-\\AppData\\Local\\Temp\\ipykernel_11060\\3668949453.py:33: DtypeWarning: Columns (5596) have mixed types. Specify dtype option on import or set low_memory=False.\n",
      "  test = pd.read_csv(tfile_path)\n"
     ]
    },
    {
     "name": "stdout",
     "output_type": "stream",
     "text": [
      "NaN values found in the DataFrame. Imputing with median values...\n",
      "MAE: 1.857413558150811\n",
      "RMSE: 2.541608402044091\n",
      "R^2: 0.7478998802078431\n",
      "SVR plot data saved to C:\\Users\\zhao-\\Jiaheng\\BSA protein\\data\\Superspectra20231107\\Results\\4x4_4_FigureData\\Bare_Cysteamine_Cysteine_MCH_svr4.csv\n",
      "MAE: 0.48036216031445955\n",
      "RMSE: 0.6767151915762235\n",
      "R^2: 0.9821282274287327\n",
      "RF plot data saved to C:\\Users\\zhao-\\Jiaheng\\BSA protein\\data\\Superspectra20231107\\Results\\4x4_4_FigureData\\Bare_Cysteamine_Cysteine_MCH_rf4.csv\n"
     ]
    },
    {
     "name": "stderr",
     "output_type": "stream",
     "text": [
      "C:\\Users\\zhao-\\AppData\\Local\\Temp\\ipykernel_11060\\3668949453.py:10: DtypeWarning: Columns (5596) have mixed types. Specify dtype option on import or set low_memory=False.\n",
      "  train = pd.read_csv(file_path)\n"
     ]
    },
    {
     "name": "stdout",
     "output_type": "stream",
     "text": [
      "NaN values found in the DataFrame. Imputing with median values...\n"
     ]
    },
    {
     "name": "stderr",
     "output_type": "stream",
     "text": [
      "C:\\Users\\zhao-\\AppData\\Local\\Temp\\ipykernel_11060\\3668949453.py:33: DtypeWarning: Columns (5596) have mixed types. Specify dtype option on import or set low_memory=False.\n",
      "  test = pd.read_csv(tfile_path)\n"
     ]
    },
    {
     "name": "stdout",
     "output_type": "stream",
     "text": [
      "NaN values found in the DataFrame. Imputing with median values...\n",
      "MAE: 1.7648783426670949\n",
      "RMSE: 2.60194973691239\n",
      "R^2: 0.7357873647709554\n",
      "SVR plot data saved to C:\\Users\\zhao-\\Jiaheng\\BSA protein\\data\\Superspectra20231107\\Results\\4x4_5_FigureData\\Bare_Cysteamine_Cysteine_MCH_svr5.csv\n",
      "MAE: 0.4833472340410921\n",
      "RMSE: 0.7186815566564374\n",
      "R^2: 0.9798428662909425\n",
      "RF plot data saved to C:\\Users\\zhao-\\Jiaheng\\BSA protein\\data\\Superspectra20231107\\Results\\4x4_5_FigureData\\Bare_Cysteamine_Cysteine_MCH_rf5.csv\n"
     ]
    },
    {
     "name": "stderr",
     "output_type": "stream",
     "text": [
      "C:\\Users\\zhao-\\AppData\\Local\\Temp\\ipykernel_11060\\3668949453.py:10: DtypeWarning: Columns (5596) have mixed types. Specify dtype option on import or set low_memory=False.\n",
      "  train = pd.read_csv(file_path)\n"
     ]
    },
    {
     "name": "stdout",
     "output_type": "stream",
     "text": [
      "NaN values found in the DataFrame. Imputing with median values...\n"
     ]
    },
    {
     "name": "stderr",
     "output_type": "stream",
     "text": [
      "C:\\Users\\zhao-\\AppData\\Local\\Temp\\ipykernel_11060\\3668949453.py:33: DtypeWarning: Columns (5596) have mixed types. Specify dtype option on import or set low_memory=False.\n",
      "  test = pd.read_csv(tfile_path)\n"
     ]
    },
    {
     "name": "stdout",
     "output_type": "stream",
     "text": [
      "NaN values found in the DataFrame. Imputing with median values...\n",
      "MAE: 1.5447856250882839\n",
      "RMSE: 1.9775543360557357\n",
      "R^2: 0.8473795859700812\n",
      "SVR plot data saved to C:\\Users\\zhao-\\Jiaheng\\BSA protein\\data\\Superspectra20231107\\Results\\4x4_6_FigureData\\Bare_Cysteamine_Cysteine_MCH_svr6.csv\n",
      "MAE: 0.48068105744898454\n",
      "RMSE: 0.7411423556231639\n",
      "R^2: 0.9785632450190644\n",
      "RF plot data saved to C:\\Users\\zhao-\\Jiaheng\\BSA protein\\data\\Superspectra20231107\\Results\\4x4_6_FigureData\\Bare_Cysteamine_Cysteine_MCH_rf6.csv\n"
     ]
    },
    {
     "name": "stderr",
     "output_type": "stream",
     "text": [
      "C:\\Users\\zhao-\\AppData\\Local\\Temp\\ipykernel_11060\\3668949453.py:10: DtypeWarning: Columns (5596) have mixed types. Specify dtype option on import or set low_memory=False.\n",
      "  train = pd.read_csv(file_path)\n"
     ]
    },
    {
     "name": "stdout",
     "output_type": "stream",
     "text": [
      "NaN values found in the DataFrame. Imputing with median values...\n"
     ]
    },
    {
     "name": "stderr",
     "output_type": "stream",
     "text": [
      "C:\\Users\\zhao-\\AppData\\Local\\Temp\\ipykernel_11060\\3668949453.py:33: DtypeWarning: Columns (5596) have mixed types. Specify dtype option on import or set low_memory=False.\n",
      "  test = pd.read_csv(tfile_path)\n"
     ]
    },
    {
     "name": "stdout",
     "output_type": "stream",
     "text": [
      "NaN values found in the DataFrame. Imputing with median values...\n",
      "MAE: 1.6294911632166258\n",
      "RMSE: 2.125322908918064\n",
      "R^2: 0.8237189518741322\n",
      "SVR plot data saved to C:\\Users\\zhao-\\Jiaheng\\BSA protein\\data\\Superspectra20231107\\Results\\4x4_7_FigureData\\Bare_Cysteamine_Cysteine_MCH_svr7.csv\n",
      "MAE: 0.46717427675195733\n",
      "RMSE: 0.7440292535764513\n",
      "R^2: 0.9783959188576171\n",
      "RF plot data saved to C:\\Users\\zhao-\\Jiaheng\\BSA protein\\data\\Superspectra20231107\\Results\\4x4_7_FigureData\\Bare_Cysteamine_Cysteine_MCH_rf7.csv\n"
     ]
    },
    {
     "name": "stderr",
     "output_type": "stream",
     "text": [
      "C:\\Users\\zhao-\\AppData\\Local\\Temp\\ipykernel_11060\\3668949453.py:10: DtypeWarning: Columns (5596) have mixed types. Specify dtype option on import or set low_memory=False.\n",
      "  train = pd.read_csv(file_path)\n"
     ]
    },
    {
     "name": "stdout",
     "output_type": "stream",
     "text": [
      "NaN values found in the DataFrame. Imputing with median values...\n"
     ]
    },
    {
     "name": "stderr",
     "output_type": "stream",
     "text": [
      "C:\\Users\\zhao-\\AppData\\Local\\Temp\\ipykernel_11060\\3668949453.py:33: DtypeWarning: Columns (5596) have mixed types. Specify dtype option on import or set low_memory=False.\n",
      "  test = pd.read_csv(tfile_path)\n"
     ]
    },
    {
     "name": "stdout",
     "output_type": "stream",
     "text": [
      "NaN values found in the DataFrame. Imputing with median values...\n",
      "MAE: 1.6077790590211707\n",
      "RMSE: 2.2266319492839375\n",
      "R^2: 0.8065126174164158\n",
      "SVR plot data saved to C:\\Users\\zhao-\\Jiaheng\\BSA protein\\data\\Superspectra20231107\\Results\\4x4_8_FigureData\\Bare_Cysteamine_Cysteine_MCH_svr8.csv\n",
      "MAE: 0.5140026633508329\n",
      "RMSE: 0.8218558177053303\n",
      "R^2: 0.9736399005419976\n",
      "RF plot data saved to C:\\Users\\zhao-\\Jiaheng\\BSA protein\\data\\Superspectra20231107\\Results\\4x4_8_FigureData\\Bare_Cysteamine_Cysteine_MCH_rf8.csv\n"
     ]
    },
    {
     "name": "stderr",
     "output_type": "stream",
     "text": [
      "C:\\Users\\zhao-\\AppData\\Local\\Temp\\ipykernel_11060\\3668949453.py:10: DtypeWarning: Columns (5596) have mixed types. Specify dtype option on import or set low_memory=False.\n",
      "  train = pd.read_csv(file_path)\n"
     ]
    },
    {
     "name": "stdout",
     "output_type": "stream",
     "text": [
      "NaN values found in the DataFrame. Imputing with median values...\n"
     ]
    },
    {
     "name": "stderr",
     "output_type": "stream",
     "text": [
      "C:\\Users\\zhao-\\AppData\\Local\\Temp\\ipykernel_11060\\3668949453.py:33: DtypeWarning: Columns (5596) have mixed types. Specify dtype option on import or set low_memory=False.\n",
      "  test = pd.read_csv(tfile_path)\n"
     ]
    },
    {
     "name": "stdout",
     "output_type": "stream",
     "text": [
      "NaN values found in the DataFrame. Imputing with median values...\n",
      "MAE: 1.755025881522555\n",
      "RMSE: 2.4763544450614985\n",
      "R^2: 0.760678680141083\n",
      "SVR plot data saved to C:\\Users\\zhao-\\Jiaheng\\BSA protein\\data\\Superspectra20231107\\Results\\4x4_9_FigureData\\Bare_Cysteamine_Cysteine_MCH_svr9.csv\n",
      "MAE: 0.5125361263780763\n",
      "RMSE: 0.7625605918341166\n",
      "R^2: 0.9773063426873821\n",
      "RF plot data saved to C:\\Users\\zhao-\\Jiaheng\\BSA protein\\data\\Superspectra20231107\\Results\\4x4_9_FigureData\\Bare_Cysteamine_Cysteine_MCH_rf9.csv\n"
     ]
    },
    {
     "name": "stderr",
     "output_type": "stream",
     "text": [
      "C:\\Users\\zhao-\\AppData\\Local\\Temp\\ipykernel_11060\\3668949453.py:10: DtypeWarning: Columns (5596) have mixed types. Specify dtype option on import or set low_memory=False.\n",
      "  train = pd.read_csv(file_path)\n"
     ]
    },
    {
     "name": "stdout",
     "output_type": "stream",
     "text": [
      "NaN values found in the DataFrame. Imputing with median values...\n"
     ]
    },
    {
     "name": "stderr",
     "output_type": "stream",
     "text": [
      "C:\\Users\\zhao-\\AppData\\Local\\Temp\\ipykernel_11060\\3668949453.py:33: DtypeWarning: Columns (5596) have mixed types. Specify dtype option on import or set low_memory=False.\n",
      "  test = pd.read_csv(tfile_path)\n"
     ]
    },
    {
     "name": "stdout",
     "output_type": "stream",
     "text": [
      "NaN values found in the DataFrame. Imputing with median values...\n",
      "MAE: 2.028620025788081\n",
      "RMSE: 2.731548009602658\n",
      "R^2: 0.7088120136598731\n",
      "SVR plot data saved to C:\\Users\\zhao-\\Jiaheng\\BSA protein\\data\\Superspectra20231107\\Results\\4x4_10_FigureData\\Bare_Cysteamine_Cysteine_MCH_svr10.csv\n",
      "MAE: 0.44785629717103836\n",
      "RMSE: 0.6613502698593456\n",
      "R^2: 0.9829305767500988\n",
      "RF plot data saved to C:\\Users\\zhao-\\Jiaheng\\BSA protein\\data\\Superspectra20231107\\Results\\4x4_10_FigureData\\Bare_Cysteamine_Cysteine_MCH_rf10.csv\n"
     ]
    }
   ],
   "source": [
    "for i in range(START, START+iteration_number):\n",
    "    modification_combination_list = ['Bare_Cysteamine_Cysteine_MCH']\n",
    "    \n",
    "    for modification in modification_combination_list:\n",
    "        # Step 1: reformat the train and test sets\n",
    "        # train\n",
    "        file_path = f\"{WORKING_PATH}\\\\Superspectra20250705\\\\4x4_{i}\\\\{modification}_train{i}.csv\"\n",
    "\n",
    "        # Read the CSV file into a DataFrame\n",
    "        train = pd.read_csv(file_path)\n",
    "        train = preprocess_data(train)\n",
    "\n",
    "#         # Display the first few rows of the data to verify\n",
    "#         print(train.head())\n",
    "\n",
    "        # Select training data with a specific label\n",
    "        selected_label = train['label'].iloc[0] # always choose the first label. This label has no use, but just to ensure that the code can run.\n",
    "        selected_data_train = train[train['label'] == selected_label] # split training data\n",
    "        # selected_data_train\n",
    "\n",
    "        # Get the indices of the selected data\n",
    "        selected_indices_train = selected_data_train.index\n",
    "        # selected_indices_train\n",
    "\n",
    "        # Get new X_train and y_train_reg\n",
    "        X_train_split = selected_data_train.values[:,:-2]\n",
    "        y_train_reg_split = np.log10(selected_data_train.values[:,-1].astype(float)+1e-20) # we only need the regression part.\n",
    "\n",
    "        # test\n",
    "        tfile_path = f\"{WORKING_PATH}\\\\Superspectra20250705\\\\4x4_{i}\\\\{modification}_test{i}.csv\"  # Replace with the path to your CSV file\n",
    "\n",
    "        # Read the CSV file into a DataFrame\n",
    "        test = pd.read_csv(tfile_path)\n",
    "        test = preprocess_data(test)\n",
    "\n",
    "#         # Display the first few rows of the data to verify\n",
    "#         print(test.head())\n",
    "\n",
    "        # Similarly, select testing data with the specific label\n",
    "        selected_data_test = test[test['label'] == selected_label] # split testing data\n",
    "        # selected_data_test\n",
    "\n",
    "        # Get the indices of the selected data\n",
    "        selected_indices_test = selected_data_test.index\n",
    "        # selected_indices_test\n",
    "\n",
    "        # Get new X_test and y_test_reg\n",
    "        X_test_split = selected_data_test.values[:,:-2]\n",
    "        y_test_reg_split = np.log10(selected_data_test.values[:,-1].astype(float)+1e-20) # we only need the regression part.\n",
    "     \n",
    "    \n",
    "        # Step 2: SVR calculation\n",
    "        # Create a svr\n",
    "        svr = svm.SVR(kernel = 'rbf', C = 1000, epsilon = 0.1)\n",
    "        # sklearn.svr only accept label vectors as input, not one-hot vectors.\n",
    "        y_train_reg_split_label = y_train_reg_split\n",
    "        with parallel_backend('threading', n_jobs=-1):\n",
    "            # Fit the SVR model\n",
    "            svr.fit(X_train_split, y_train_reg_split_label)\n",
    "        svr_pred = svr.predict(X_test_split)\n",
    "        \n",
    "        # Comparing results\n",
    "        y_test_reg_split_label = y_test_reg_split\n",
    "\n",
    "        \n",
    "        # Saving performances and pred vs real curve\n",
    "        MAE = mean_absolute_error(y_test_reg_split_label, svr_pred)\n",
    "        RMSE = np.sqrt(mean_squared_error(y_test_reg_split_label, svr_pred))\n",
    "        R_squared = r2_score(y_test_reg_split_label, svr_pred)\n",
    "\n",
    "        print(\"MAE:\", MAE)\n",
    "        print(\"RMSE:\", RMSE)\n",
    "        print(\"R^2:\", R_squared)\n",
    "\n",
    "        save_directory = f\"{WORKING_PATH}\\\\Superspectra20250705\\\\Results\\\\4x4_{i}_FigureData\"\n",
    "        os.makedirs(save_directory, exist_ok=True)\n",
    "        \n",
    "        # Create a DataFrame with these metrics\n",
    "        performance_metrics_df = pd.DataFrame({\n",
    "            'MAE': [MAE],\n",
    "            'RMSE': [RMSE],\n",
    "            'R^2': [R_squared]\n",
    "        })\n",
    "        \n",
    "        # Construct the new file path with the same filename in the new directory\n",
    "        save_file_path = os.path.join(save_directory, f\"{modification}_performance_svr{i}.csv\")\n",
    "        # Save the DataFrame to a CSV file in the new location with the same name\n",
    "        performance_metrics_df.to_csv(save_file_path, index=False)\n",
    "        \n",
    "        # Actual and predicted values\n",
    "#         plt.figure(figsize=(6, 6))\n",
    "#         plt.scatter(y_test_reg_split, svr_pred, edgecolors=\"grey\", linewidths=0.2, alpha = 0.3)\n",
    "#         plt.axline([plt.xlim()[0], plt.xlim()[0]], [plt.xlim()[1], plt.xlim()[1]], linestyle='--', color=\"grey\")\n",
    "#         plt.xlabel(\"Actual log10(C)\")\n",
    "#         plt.ylabel(\"Predicted log10(C)\")\n",
    "#         plt.title(modification)\n",
    "        \n",
    "        plot_data_df = pd.DataFrame({\n",
    "            'Actual_log10(C)': y_test_reg_split,\n",
    "            'Predicted_log10(C)': svr_pred\n",
    "        })\n",
    "\n",
    "        # Construct the new file path with the same filename in the new directory\n",
    "        save_file_path = os.path.join(save_directory, f\"{modification}_svr{i}.csv\")\n",
    "        # Save the DataFrame to a CSV file in the new location with the same name\n",
    "        plot_data_df.to_csv(save_file_path, index=False)\n",
    "\n",
    "        print(f\"SVR plot data saved to {save_file_path}\")\n",
    "\n",
    "        \n",
    "        # Step 3: RF calculation\n",
    "        # Create an rf\n",
    "        rf = RandomForestRegressor(n_estimators=100, criterion=\"squared_error\", max_depth=None, n_jobs=-1, verbose=0)\n",
    "        rf.fit(X_train_split, y_train_reg_split_label)\n",
    "        rf_pred = rf.predict(X_test_split)\n",
    "\n",
    "        # Saving performances and pred vs real curve\n",
    "        MAE = mean_absolute_error(y_test_reg_split_label, rf_pred)\n",
    "        RMSE = np.sqrt(mean_squared_error(y_test_reg_split_label, rf_pred))\n",
    "        R_squared = r2_score(y_test_reg_split_label, rf_pred)\n",
    "\n",
    "        print(\"MAE:\", MAE)\n",
    "        print(\"RMSE:\", RMSE)\n",
    "        print(\"R^2:\", R_squared)\n",
    "\n",
    "        # Create a DataFrame with these metrics\n",
    "        performance_metrics_df = pd.DataFrame({\n",
    "            'MAE': [MAE],\n",
    "            'RMSE': [RMSE],\n",
    "            'R^2': [R_squared]\n",
    "        })\n",
    "        \n",
    "        # Construct the new file path with the same filename in the new directory\n",
    "        save_file_path = os.path.join(save_directory, f\"{modification}_performance_rf{i}.csv\")\n",
    "        # Save the DataFrame to a CSV file in the new location with the same name\n",
    "        performance_metrics_df.to_csv(save_file_path, index=False)\n",
    "        \n",
    "        # Actual and predicted values\n",
    "#         plt.figure(figsize=(6, 6))\n",
    "#         plt.scatter(y_test_reg_split, rf_pred, edgecolors=\"grey\", linewidths=0.2, alpha = 0.3)\n",
    "#         plt.axline([plt.xlim()[0], plt.xlim()[0]], [plt.xlim()[1], plt.xlim()[1]], linestyle='--', color=\"grey\")\n",
    "#         plt.xlabel(\"Actual log10(C)\")\n",
    "#         plt.ylabel(\"Predicted log10(C)\")\n",
    "#         plt.title(modification)\n",
    "\n",
    "        plot_data_df = pd.DataFrame({\n",
    "            'Actual_log10(C)': y_test_reg_split,\n",
    "            'Predicted_log10(C)': rf_pred\n",
    "        })\n",
    "\n",
    "        # Construct the new file path with the same filename in the new directory\n",
    "        save_file_path = os.path.join(save_directory, f\"{modification}_rf{i}.csv\")\n",
    "        # Save the DataFrame to a CSV file in the new location with the same name\n",
    "        plot_data_df.to_csv(save_file_path, index=False)\n",
    "\n",
    "        print(f\"RF plot data saved to {save_file_path}\")\n"
   ]
  },
  {
   "cell_type": "code",
   "execution_count": null,
   "id": "355d27cd-c979-4217-953d-3090b14157e1",
   "metadata": {},
   "outputs": [],
   "source": []
  }
 ],
 "metadata": {
  "kernelspec": {
   "display_name": "Python 3 (ipykernel)",
   "language": "python",
   "name": "python3"
  },
  "language_info": {
   "codemirror_mode": {
    "name": "ipython",
    "version": 3
   },
   "file_extension": ".py",
   "mimetype": "text/x-python",
   "name": "python",
   "nbconvert_exporter": "python",
   "pygments_lexer": "ipython3",
   "version": "3.11.5"
  }
 },
 "nbformat": 4,
 "nbformat_minor": 5
}
